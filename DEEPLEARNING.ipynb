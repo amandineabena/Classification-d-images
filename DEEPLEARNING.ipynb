{
  "cells": [
    {
      "cell_type": "code",
      "source": [
        "from IPython.display import display, Markdown\n",
        "\n",
        "# Page de garde\n",
        "page_de_garde = \"\"\"\n",
        "<center>\n",
        "<p style=\"background-color:#0074D9; font-family: newtimeroman; color:#FF4136; font-size:250%; border-radius:10px 10px;\">\n",
        "<strong>PROJET DE DEEP LEARNING: CLASSIFICATION D'IMAGES</strong>\n",
        "</p>\n",
        "</center>\n",
        "\n",
        "Membre du Groupe:\n",
        "* <strong style=\"font-size: 150%;\">AMANDINE ABENA</strong>\n",
        "* <strong style=\"font-size: 150%;\">GENTILLE NICOLECIE</strong>\n",
        "* <strong style=\"font-size: 150%;\">NADIA SANA</strong>\n",
        "\n",
        "<a id='top'></a>\n",
        "<div class=\"list-group\" id=\"list-tab\" role=\"tablist\">\n",
        "<p style=\"background-color:#0074D9; font-family:newtimeroman; color:#FFF9ED; font-size:150%; text-align:center; border-radius:10px 10px;\">TABLE OF CONTENTS</p>\n",
        "\n",
        "* [1. IMPORTATION ET VISUALISATION DES IMAGES](#1)\n",
        " * [1.1 IMPORTION DES IMAGES](#1.1)\n",
        "\n",
        " * [1.2 VISUALISATION DES IMAGES](#1.2)\n",
        "\n",
        "* [2. MODELE 'from scratch'](#2)\n",
        "  * [2.1 PRETRAITMENT DES IMAGES ET REDIMENSIONNEMENT](#2.1)\n",
        "\n",
        "  * [2.2 MODELISATION ET APPRENTISSAGE](#2.2)\n",
        "\n",
        "  * [2.3 OPTIMISATION DU MODELE AVEC DROPOUT](#2.3)\n",
        "\n",
        "\n",
        "* [3. MODELE DE TRANSFERT LEARNING](#3)\n",
        "  * [3.1 VGG_16](#3.1)\n",
        "\n",
        "  * [3.2 RESNET](#3.2)\n",
        "\n",
        "  * [3.3 DENSENET](#3.3)\n",
        "\n",
        "\n",
        "* [4. SYNTHESE ET CHOIX DU MODELE POUR LA BASE TEST](#4)\n",
        "\n",
        "* [5. CONCLUSION](#5)\n",
        "</div>\n",
        "\"\"\"\n",
        "\n",
        "# Introduction\n",
        "introduction = \"\"\"\n",
        "<h1 style=\"font-size:100%;\">INTRODUCTION</h1>\n",
        "\n",
        "<p style=\"font-size:100%;\">\n",
        "Dans l'ère moderne de la technologie, les données visuelles abondent autour de nous, que ce soit des photographies, des vidéos, ou même des instantanés de notre vie quotidienne. Face à cette profusion d'images, les réseaux de neurones artificiels se sont révélés être des outils puissants pour extraire des informations significatives à partir de données visuelles. Les réseaux de neurones convolutifs (CNN) ont émergé comme une avancée majeure dans le domaine de la vision par ordinateur, révolutionnant la manière dont nous comprenons et traitons les images.\n",
        "\n",
        "Ce rapport se penche sur le rôle essentiel des réseaux de neurones dans la classification d'images. Nous explorons comment ces architectures complexes sont capables d'apprendre à partir d'un grand nombre d'exemples visuels pour discerner, catégoriser et même prédire le contenu des images avec une précision remarquable.\n",
        "\n",
        "Nous plongerons également dans les techniques de prétraitement des données, de l'augmentation des données à la normalisation, qui sont cruciales pour préparer nos images à être ingérées par les réseaux de neurones. Ensuite, nous aborderons les différentes architectures de CNN, telles que  ResNet et DenseNet, qui ont prouvé leur efficacité dans la classification d'images.\n",
        "\n",
        "Enfin, nous examinerons les applications concrètes de la classification d'images, de la reconnaissance d'objets à la détection de visages, en passant par la segmentation sémantique. Grâce à l'apprentissage en profondeur et à l'exploitation de vastes ensembles de données, nous avons franchi des frontières autrefois insurmontables en matière de compréhension visuelle.\n",
        "\n",
        "Ce rapport mettra en lumière le potentiel infini des réseaux de neurones dans le domaine de la classification d'images, démontrant comment cette technologie révolutionnaire transforme notre manière d'interagir avec le monde visuel qui nous entoure.</p>\n",
        "\"\"\"\n",
        "\n",
        "# Afficher la page de garde et l'introduction\n",
        "display(Markdown(page_de_garde))\n",
        "display(Markdown(introduction))\n"
      ],
      "metadata": {
        "colab": {
          "base_uri": "https://localhost:8080/",
          "height": 903
        },
        "id": "nDFGxB5lu4Tw",
        "outputId": "f27eddee-1860-45cd-9df6-c861398bdf1b"
      },
      "execution_count": 103,
      "outputs": [
        {
          "output_type": "display_data",
          "data": {
            "text/plain": [
              "<IPython.core.display.Markdown object>"
            ],
            "text/markdown": "\n<center>\n<p style=\"background-color:#0074D9; font-family: newtimeroman; color:#FF4136; font-size:250%; border-radius:10px 10px;\">\n<strong>PROJET DE DEEP LEARNING: CLASSIFICATION D'IMAGES</strong>\n</p>\n</center>\n\nMembre du Groupe:\n* <strong style=\"font-size: 150%;\">AMANDINE ABENA</strong>\n* <strong style=\"font-size: 150%;\">GENTILLE NICOLECIE</strong>\n* <strong style=\"font-size: 150%;\">NADIA SANA</strong>\n\n<a id='top'></a>\n<div class=\"list-group\" id=\"list-tab\" role=\"tablist\">\n<p style=\"background-color:#0074D9; font-family:newtimeroman; color:#FFF9ED; font-size:150%; text-align:center; border-radius:10px 10px;\">TABLE OF CONTENTS</p>   \n\n* [1. IMPORTATION ET VISUALISATION DES IMAGES](#1)\n * [1.1 IMPORTION DES IMAGES](#1.1)\n\n * [1.2 VISUALISATION DES IMAGES](#1.2)\n\n* [2. MODELE 'from scratch'](#2)\n  * [2.1 PRETRAITMENT DES IMAGES ET REDIMENSIONNEMENT](#2.1)\n\n  * [2.2 MODELISATION ET APPRENTISSAGE](#2.2)\n\n  * [2.3 OPTIMISATION DU MODELE AVEC DROPOUT](#2.3)\n\n\n* [3. MODELE DE TRANSFERT LEARNING](#3)\n  * [3.1 VGG_16](#3.1)\n\n  * [3.2 RESNET](#3.2)\n\n  * [3.3 DENSENET](#3.3)\n\n\n* [4. SYNTHESE ET CHOIX DU MODELE POUR LA BASE TEST](#4)   \n\n* [5. CONCLUSION](#5)\n</div>\n"
          },
          "metadata": {}
        },
        {
          "output_type": "display_data",
          "data": {
            "text/plain": [
              "<IPython.core.display.Markdown object>"
            ],
            "text/markdown": "\n<h1 style=\"font-size:100%;\">INTRODUCTION</h1>\n\n<p style=\"font-size:100%;\">\nDans l'ère moderne de la technologie, les données visuelles abondent autour de nous, que ce soit des photographies, des vidéos, ou même des instantanés de notre vie quotidienne. Face à cette profusion d'images, les réseaux de neurones artificiels se sont révélés être des outils puissants pour extraire des informations significatives à partir de données visuelles. Les réseaux de neurones convolutifs (CNN) ont émergé comme une avancée majeure dans le domaine de la vision par ordinateur, révolutionnant la manière dont nous comprenons et traitons les images.\n\nCe rapport se penche sur le rôle essentiel des réseaux de neurones dans la classification d'images. Nous explorons comment ces architectures complexes sont capables d'apprendre à partir d'un grand nombre d'exemples visuels pour discerner, catégoriser et même prédire le contenu des images avec une précision remarquable.\n\nNous plongerons également dans les techniques de prétraitement des données, de l'augmentation des données à la normalisation, qui sont cruciales pour préparer nos images à être ingérées par les réseaux de neurones. Ensuite, nous aborderons les différentes architectures de CNN, telles que  ResNet et DenseNet, qui ont prouvé leur efficacité dans la classification d'images.\n\nEnfin, nous examinerons les applications concrètes de la classification d'images, de la reconnaissance d'objets à la détection de visages, en passant par la segmentation sémantique. Grâce à l'apprentissage en profondeur et à l'exploitation de vastes ensembles de données, nous avons franchi des frontières autrefois insurmontables en matière de compréhension visuelle.\n\nCe rapport mettra en lumière le potentiel infini des réseaux de neurones dans le domaine de la classification d'images, démontrant comment cette technologie révolutionnaire transforme notre manière d'interagir avec le monde visuel qui nous entoure.</p>\n"
          },
          "metadata": {}
        }
      ]
    },
    {
      "cell_type": "markdown",
      "source": [
        "**1. IMPORTATION ET VISUALISATION DES IMAGES**"
      ],
      "metadata": {
        "id": "leGg0ziA2k9g"
      }
    },
    {
      "cell_type": "markdown",
      "source": [
        "**1.1 IMPORTATION  DES IMAGES**"
      ],
      "metadata": {
        "id": "THLEXdzV24uM"
      }
    },
    {
      "cell_type": "code",
      "execution_count": 1,
      "metadata": {
        "colab": {
          "base_uri": "https://localhost:8080/"
        },
        "id": "bgTzycF1FPbl",
        "outputId": "0eac25be-aec5-4a26-c387-610aea69a80b"
      },
      "outputs": [
        {
          "output_type": "stream",
          "name": "stdout",
          "text": [
            "Mounted at /content/drive\n"
          ]
        }
      ],
      "source": [
        "from google.colab import drive\n",
        "drive.mount(\"/content/drive\")"
      ]
    },
    {
      "cell_type": "code",
      "execution_count": 2,
      "metadata": {
        "id": "XPlSOqtXGlqE"
      },
      "outputs": [],
      "source": [
        "#importer les libraries\n",
        "\n",
        "#conda activate tf-gpu\n",
        "import numpy as np\n",
        "import pandas as pd\n",
        "import pathlib\n",
        "import os\n",
        "import tensorflow as tf\n",
        "import matplotlib.pyplot as plt\n",
        "from tensorflow import keras\n",
        "from PIL import Image\n",
        "import cv2\n",
        "from typing import OrderedDict\n",
        "from tensorflow.keras import layers\n",
        "#from keras_preprocessing.image import ImageDataGenerator\n",
        "from tensorflow.keras.layers import *\n",
        "from tensorflow.keras.models import Model\n",
        "from tensorflow.keras.layers import Add, Dense, Dropout,Embedding, GlobalAveragePooling1D, Input, Layer, LayerNormalization, MultiHeadAttention\n",
        "#import tensorflow_addons as tfa\n",
        "from tensorflow.keras.preprocessing.image import ImageDataGenerator\n",
        "from tensorflow.keras.layers import Conv2D, MaxPooling2D, Flatten, Dense, Dropout\n",
        "from tensorflow.keras.models import Sequential\n"
      ]
    },
    {
      "cell_type": "code",
      "execution_count": 3,
      "metadata": {
        "colab": {
          "base_uri": "https://localhost:8080/"
        },
        "id": "FVx65IMfGluU",
        "outputId": "32ec3ebf-f334-4ce4-b278-b214a6f9180e"
      },
      "outputs": [
        {
          "output_type": "stream",
          "name": "stdout",
          "text": [
            "Downloading data from https://drive.google.com/MyDrive/train-20230823T112738Z-001/train\n",
            "95899/95899 [==============================] - 0s 0us/step\n",
            "/content/drive/MyDrive/train-20230823T112738Z-001/train\n",
            "/content/drive/MyDrive/train-20230823T112738Z-001/train\n"
          ]
        }
      ],
      "source": [
        "train_dir=tf.keras.utils.get_file(\n",
        "    \"train\",\n",
        "    \"https://drive.google.com/MyDrive/train-20230823T112738Z-001/train\",extract=False)\n",
        "train_dir=pathlib.Path(\"/content/drive/MyDrive/train-20230823T112738Z-001/train\")\n",
        "print(train_dir)\n",
        "print(os.path.abspath(train_dir))\n"
      ]
    },
    {
      "cell_type": "code",
      "execution_count": 4,
      "metadata": {
        "colab": {
          "base_uri": "https://localhost:8080/"
        },
        "id": "cXxaJQmrPOwv",
        "outputId": "29910e3f-4891-483a-a748-f003121c4df5"
      },
      "outputs": [
        {
          "output_type": "stream",
          "name": "stdout",
          "text": [
            "Downloading data from https://drive.google.com/MyDrive/val-20230823T113659Z-001/val\n",
            "95899/95899 [==============================] - 0s 0us/step\n",
            "/content/drive/MyDrive/val-20230823T113659Z-001/val\n",
            "/content/drive/MyDrive/val-20230823T113659Z-001/val\n"
          ]
        }
      ],
      "source": [
        "val_dir=tf.keras.utils.get_file(\n",
        "    \"val\",\n",
        "    \"https://drive.google.com/MyDrive/val-20230823T113659Z-001/val\",extract=False)\n",
        "val_dir=pathlib.Path(\"/content/drive/MyDrive/val-20230823T113659Z-001/val\")\n",
        "print(val_dir)\n",
        "print(os.path.abspath(val_dir))\n"
      ]
    },
    {
      "cell_type": "code",
      "execution_count": 5,
      "metadata": {
        "id": "w34F_g11Glw_"
      },
      "outputs": [],
      "source": [
        "actors_images_dict_train={\n",
        "    \"keira\":list(train_dir.glob(\"keira/*\")),\n",
        "    \"nathalie\":list(train_dir.glob(\"nathalie/*\")),\n",
        "    \"others\":list(train_dir.glob(\"others/*\"))\n",
        "}"
      ]
    },
    {
      "cell_type": "code",
      "execution_count": 6,
      "metadata": {
        "id": "WpkqeofBGlz-"
      },
      "outputs": [],
      "source": [
        "actors_labels_dict={\n",
        "    \"keira\":0,\n",
        "    \"nathalie\":1,\n",
        "    \"others\":2\n",
        "}"
      ]
    },
    {
      "cell_type": "code",
      "execution_count": 7,
      "metadata": {
        "colab": {
          "base_uri": "https://localhost:8080/"
        },
        "id": "bwCyYyBuGl2c",
        "outputId": "6365b6f5-022d-4022-c76d-e5babc230e5c"
      },
      "outputs": [
        {
          "output_type": "stream",
          "name": "stdout",
          "text": [
            "keira\n",
            "143\n",
            "nathalie\n",
            "143\n",
            "others\n",
            "143\n"
          ]
        }
      ],
      "source": [
        "for actor_name, images in actors_images_dict_train.items():\n",
        "  print(actor_name)\n",
        "  print(len(images))"
      ]
    },
    {
      "cell_type": "markdown",
      "source": [
        "On vérifie ici que les données on bien été téléchargées. Et on constate que l'on a pour la base train 143 chemins pour chaque actrice ce qui correspond parfaitement au dossier"
      ],
      "metadata": {
        "id": "T3idTelp3Ffy"
      }
    },
    {
      "cell_type": "code",
      "execution_count": 8,
      "metadata": {
        "id": "Xs7mVORYWVTe"
      },
      "outputs": [],
      "source": [
        "actors_images_dict_val={\n",
        "    \"keira\":list(val_dir.glob(\"keira/*\")),\n",
        "    \"nathalie\":list(val_dir.glob(\"nathalie/*\")),\n",
        "    \"others\":list(val_dir.glob(\"others/*\"))\n",
        "}"
      ]
    },
    {
      "cell_type": "code",
      "execution_count": 9,
      "metadata": {
        "colab": {
          "base_uri": "https://localhost:8080/"
        },
        "id": "URnP-34AWVnF",
        "outputId": "754ca540-ff0e-47e8-f4fc-79ddebcbb918"
      },
      "outputs": [
        {
          "output_type": "stream",
          "name": "stdout",
          "text": [
            "keira\n",
            "56\n",
            "nathalie\n",
            "56\n",
            "others\n",
            "56\n"
          ]
        }
      ],
      "source": [
        "for actor_name, images in actors_images_dict_val.items():\n",
        "  print(actor_name)\n",
        "  print(len(images))"
      ]
    },
    {
      "cell_type": "markdown",
      "source": [
        "**1.2 VISUALISATION  DES IMAGES**"
      ],
      "metadata": {
        "id": "hApV5qPw3n_F"
      }
    },
    {
      "cell_type": "code",
      "execution_count": 10,
      "metadata": {
        "colab": {
          "base_uri": "https://localhost:8080/",
          "height": 417
        },
        "id": "ML_wkoY3WVpx",
        "outputId": "a5a0b400-d96c-415a-a8b1-8309f9c07a7b"
      },
      "outputs": [
        {
          "output_type": "execute_result",
          "data": {
            "text/plain": [
              "<PIL.PngImagePlugin.PngImageFile image mode=RGBA size=530x400>"
            ],
            "image/png": "[encoded data removed]"
          },
          "metadata": {},
          "execution_count": 10
        }
      ],
      "source": [
        "#visualisation\n",
        "keira=list(train_dir.glob(\"keira/*\"))\n",
        "Image.open(str(keira[0]))"
      ]
    },
    {
      "cell_type": "markdown",
      "source": [
        "**2. MODELE 'from scratch'**"
      ],
      "metadata": {
        "id": "LyBboUrh4AJK"
      }
    },
    {
      "cell_type": "markdown",
      "source": [
        "**2.1 PRETRAITEMENT DES IMAGES**"
      ],
      "metadata": {
        "id": "srzURNmv4Jvq"
      }
    },
    {
      "cell_type": "code",
      "execution_count": 12,
      "metadata": {
        "colab": {
          "base_uri": "https://localhost:8080/"
        },
        "id": "6TqbU1vFWVvc",
        "outputId": "2ad3d922-8909-4ce7-ed31-42b8d892b5c4"
      },
      "outputs": [
        {
          "output_type": "execute_result",
          "data": {
            "text/plain": [
              "(400, 530, 3)"
            ]
          },
          "metadata": {},
          "execution_count": 12
        }
      ],
      "source": [
        "#formatage des images et redimensionnement\n",
        "\n",
        "img=cv2.imread(str(actors_images_dict_train[\"keira\"][0]))\n",
        "img.shape"
      ]
    },
    {
      "cell_type": "markdown",
      "source": [
        "On remarque bien que le format des simages correspond bienà celui attendu c'est à dire hauteur, largeur, et canal de l'image.\n",
        "Pour la suite nous allons redimensionner les images en (224,224,3)"
      ],
      "metadata": {
        "id": "8YVsrVBN4VtE"
      }
    },
    {
      "cell_type": "code",
      "execution_count": 13,
      "metadata": {
        "id": "fxol-72lYTT6"
      },
      "outputs": [],
      "source": [
        "#redimensionnement\n",
        "X_train=[]\n",
        "y_train=[]\n",
        "\n",
        "for actor_name, images in actors_images_dict_train.items():\n",
        "  for image in images:\n",
        "    img=cv2.imread(str(image))\n",
        "    resized_img=cv2.resize(img, (224,224))\n",
        "    X_train.append(resized_img)\n",
        "    y_train.append(actors_labels_dict[actor_name])"
      ]
    },
    {
      "cell_type": "code",
      "execution_count": 14,
      "metadata": {
        "id": "P45o6wGDZOV8"
      },
      "outputs": [],
      "source": [
        "#redimensionnement\n",
        "X_val=[]\n",
        "y_val=[]\n",
        "\n",
        "for actor_name, images in actors_images_dict_val.items():\n",
        "  for image in images:\n",
        "    img=cv2.imread(str(image))\n",
        "    resized_img=cv2.resize(img, (224,224))\n",
        "    X_val.append(resized_img)\n",
        "    y_val.append(actors_labels_dict[actor_name])"
      ]
    },
    {
      "cell_type": "markdown",
      "source": [
        "verification du redimensionnement"
      ],
      "metadata": {
        "id": "Q79K77094u0C"
      }
    },
    {
      "cell_type": "code",
      "execution_count": 15,
      "metadata": {
        "colab": {
          "base_uri": "https://localhost:8080/"
        },
        "id": "J2Ij2-OqZOY9",
        "outputId": "9f7507f2-dd0e-438c-a0bb-d2580d6469ab"
      },
      "outputs": [
        {
          "output_type": "execute_result",
          "data": {
            "text/plain": [
              "(224, 224, 3)"
            ]
          },
          "metadata": {},
          "execution_count": 15
        }
      ],
      "source": [
        "X_train[0].shape"
      ]
    },
    {
      "cell_type": "code",
      "execution_count": 16,
      "metadata": {
        "colab": {
          "base_uri": "https://localhost:8080/"
        },
        "id": "PJtGtdplZOb0",
        "outputId": "26a4250c-7ff6-4201-e447-530810a771ac"
      },
      "outputs": [
        {
          "output_type": "execute_result",
          "data": {
            "text/plain": [
              "(224, 224, 3)"
            ]
          },
          "metadata": {},
          "execution_count": 16
        }
      ],
      "source": [
        "X_val[0].shape"
      ]
    },
    {
      "cell_type": "markdown",
      "source": [
        "Nous allons maintenant formater les images pour avoir des labels en separant la base train et base de validation en train et en test."
      ],
      "metadata": {
        "id": "pPTmVyT941ed"
      }
    },
    {
      "cell_type": "code",
      "execution_count": 17,
      "metadata": {
        "id": "ptWujSZejDwj"
      },
      "outputs": [],
      "source": [
        "#format et labels\n",
        "y_train=tf.keras.utils.to_categorical(y_train,3)\n",
        "y_val=tf.keras.utils.to_categorical(y_val,3)"
      ]
    },
    {
      "cell_type": "code",
      "execution_count": 18,
      "metadata": {
        "id": "GB2Jv_U5jaCX"
      },
      "outputs": [],
      "source": [
        "X_train=np.array(X_train)\n",
        "y_train=np.array(y_train)\n",
        "\n",
        "X_val=np.array(X_val)\n",
        "y_val=np.array(y_val)"
      ]
    },
    {
      "cell_type": "markdown",
      "source": [
        "**NORMALISATION DES IMAGES **\n",
        "\n",
        "Nous normalisons car la valeur des pixels est compris entre 0 et 255, il y a donc 255 niveaux\n",
        "de gris. Un pixel qui aurait une valeur de 254 sera trop élevé par rapport à un pixel qui\n",
        "aura une valeur de 0. Il faut ramener la valeur de tous ces pixels dans une échelle\n",
        "compris entre 0 et 1.\n"
      ],
      "metadata": {
        "id": "-oqUWFk_5U8u"
      }
    },
    {
      "cell_type": "markdown",
      "source": [
        "**DATA AUGMENTATION **\n",
        "Les modèles de deep learning necessitent d'être entraînés sur un grand nombre de\n",
        "données.\n",
        "Lorsqu'on a un petit nombre de données, le modèle apprend parfois des bruits ou des détails indésirables des données d'entrainement, à tel point que cela a un impact négatif\n",
        "sur les performances du modèle sur de nouvelles données.\n",
        "\n",
        "Il existe une méthode appelée \"Data Augmentation\" qui permet d'augmenter nos données.\n",
        "La Data Augmentation consiste à construire de nouvelles images à partir des images dont\n",
        "on dispose. Pour celà, on transforme les images en changeant de manière aléatoire la position et l'orientation des images afin de les faire paraitre différentes et nouvelles. De cette façon, le modèle de deep learning apprendra des éléments significatifs grâce aux\n",
        "données augmentées.\n",
        "Il est important de noter que l’augmentation des données n’augmente pas le nombre d’échantillons d’apprentissage présents. En ajustant des paramètres spécifiques, des\n",
        "changements aléatoires sont appliqués aux images d’apprentissage originales. Ces modifications aléatoires sont appliquées à chaque \"epoch\", ce qui signifie que le modèle s’entraînera sur des images « différentes » à chaque itération.\n"
      ],
      "metadata": {
        "id": "6_axyX3_6Dfc"
      }
    },
    {
      "cell_type": "code",
      "execution_count": 19,
      "metadata": {
        "id": "axkcrNA_ZOfO"
      },
      "outputs": [],
      "source": [
        "#normalisation et data augmentation\n",
        "\n",
        "num_classes=3\n",
        "input_shape=(224,224,3)\n",
        "\n",
        "datagen=ImageDataGenerator(\n",
        "  featurewise_center=True,\n",
        "  featurewise_std_normalization=True,\n",
        "  rotation_range=0.4,\n",
        "  width_shift_range=0.1,\n",
        "  height_shift_range=0.1,\n",
        "  horizontal_flip=True)\n",
        "\n",
        "datagen.fit(X_train)\n",
        "datagen_test=ImageDataGenerator(\n",
        "    featurewise_center=True,\n",
        "    featurewise_std_normalization=True)\n",
        "datagen_test.fit(X_train)"
      ]
    },
    {
      "cell_type": "markdown",
      "source": [
        "**2.2 MODELISATION ET APPRENTISSAGE**"
      ],
      "metadata": {
        "id": "nUYr3cry6tDB"
      }
    },
    {
      "cell_type": "markdown",
      "source": [
        "**LA DEROULEMENT DE L'APPRENTISSAGE**\n",
        "On va d'abord le déroulement de l'apprentissage et quelques notions importantes.\n",
        "\n",
        "**La phase d'apprentissage :**\n",
        "Durant la phase d'apprentissage (\"fit\"), on montre les données d'entrainements au réseau pour qu'il apprenne.\n",
        "En deep learning, l'objectif de l'apprentissage est d'apprendre à réaliser une correspondance (mapping) entre les données d'entrée et les sorties.\n",
        "Les inputs sont les tableaux de nombres représentant les images.\n",
        "Les outputs sont les classes, les labels distinguant les 3 actrices.\n",
        "\n",
        "**Batch size :**\n",
        "Durant l'apprentissage, on groupe les données d'entrée. On réalise des groupes\n",
        "comprenant \"batch_size\" images. Dans notre cas, batch_size = 20. Donc, 20 données\n",
        "d'entrée par groupe.\n",
        "La constitution des groupes est faite au hasard, on mélange les images.\n",
        "\n",
        "**Algorithme d'apprentissage :**\n",
        "On présente un groupe (batch) de données d'entrée (input). Ici ce sont des batch de\n",
        "20 images.\n",
        "Pour chaque image de ce groupe, le réseau réalise une prédiction de la classe à\n",
        "laquelle appartient ce point.\n",
        "On compare la prédiction avec la vraie valeur (la classe à laquelle appartient\n",
        "réellement l'image).\n",
        "Bien entendu, on ne montre pas au réseau cette vraie valeur. C'est ce qu'il doit apprendre\n",
        ";-)\n",
        "On calcule la valeur de la fonction d'erreur. (\"categorical_crossentropy\")\n",
        "Si on a passé toutes les données d'entrée du batch en cours alors on modifie les\n",
        "connections du réseau afin de diminuer l'erreur au prochain tour.\n",
        "On change de batch.\n",
        "On fait l'ensemble de ces opérations epoch fois (dans notre cas, epoch = 50).\n",
        "\n",
        "**Méthode fit de Keras :**\n",
        "Ce sont toutes ces opérations qui seront effectuées à chaque fois durant l'apprentissage.\n",
        "Grâce à l'API de haut niveau Keras, ceci est transparent. En effet, pour réaliser tous les points que nous venons de voir, il suffit juste d'appeller la méthode fit.\n",
        "Le verbose fixe la sortie, le report selon le niveau de détail que l'on souhaite.\n",
        "verbose = 0 pour pas de sortie du tout. Sinon, verbose peut prendre les valeur de 1 à 4.\n",
        "\n",
        "\n",
        "**Mise en place du modèle :**"
      ],
      "metadata": {
        "id": "v4C57p7v61w1"
      }
    },
    {
      "cell_type": "code",
      "execution_count": 20,
      "metadata": {
        "id": "kYim8MtPYTWt"
      },
      "outputs": [],
      "source": [
        "from keras import layers, models\n",
        "\n",
        "# Setting up the model and training\n",
        "model = models.Sequential([\n",
        "    layers.Input(shape=input_shape),\n",
        "    layers.Conv2D(128, kernel_size=(5, 5), padding=\"same\", activation='relu'),\n",
        "    layers.BatchNormalization(),\n",
        "    layers.Conv2D(128, kernel_size=(5, 5), padding=\"same\", activation='relu'),\n",
        "    layers.BatchNormalization(),\n",
        "    layers.MaxPooling2D(pool_size=(3, 3)),\n",
        "    layers.Conv2D(64, kernel_size=(5, 5), padding=\"same\", activation='relu'),\n",
        "    layers.BatchNormalization(),\n",
        "    layers.Conv2D(64, kernel_size=(5, 5), padding=\"same\", activation='relu'),\n",
        "    layers.BatchNormalization(),\n",
        "    layers.MaxPooling2D(pool_size=(3, 3)),\n",
        "    layers.Conv2D(32, kernel_size=(5, 5), padding=\"same\", activation='relu'),\n",
        "    layers.BatchNormalization(),\n",
        "    layers.Conv2D(32, kernel_size=(5, 5), padding=\"same\", activation='relu'),\n",
        "    layers.BatchNormalization(),\n",
        "    layers.MaxPooling2D(pool_size=(3, 3)),\n",
        "    layers.Flatten(),\n",
        "    layers.Dense(num_classes, activation=\"softmax\")\n",
        "])\n",
        "\n"
      ]
    },
    {
      "cell_type": "code",
      "execution_count": 21,
      "metadata": {
        "id": "6eKZQ9A0YTZQ"
      },
      "outputs": [],
      "source": [
        "def scheduler(epochs,lr):\n",
        "  if epochs == 0:\n",
        "    return lr\n",
        "  if (epochs % 10) == 0 :\n",
        "    return lr * 0.32\n",
        "  else:\n",
        "    return lr\n"
      ]
    },
    {
      "cell_type": "code",
      "execution_count": 22,
      "metadata": {
        "id": "F_QFPbOtYTbr"
      },
      "outputs": [],
      "source": [
        "# Compile the model\n",
        "model.compile(optimizer='adam', loss='categorical_crossentropy', metrics=['accuracy'])\n"
      ]
    },
    {
      "cell_type": "code",
      "execution_count": 23,
      "metadata": {
        "id": "dY2M1wo7YTeq"
      },
      "outputs": [],
      "source": [
        "schedule=tf.keras.callbacks.LearningRateScheduler(scheduler)"
      ]
    },
    {
      "cell_type": "code",
      "execution_count": 24,
      "metadata": {
        "colab": {
          "base_uri": "https://localhost:8080/"
        },
        "id": "wAQQO_TcgOwu",
        "outputId": "e684d5be-844e-4a9a-ab4e-c2b0003af1ee"
      },
      "outputs": [
        {
          "output_type": "stream",
          "name": "stdout",
          "text": [
            "Epoch 1/70\n",
            "22/22 [==============================] - 44s 869ms/step - loss: 1.6798 - accuracy: 0.4452 - val_loss: 5.3414 - val_accuracy: 0.3571\n",
            "Epoch 2/70\n",
            "22/22 [==============================] - 9s 429ms/step - loss: 1.3180 - accuracy: 0.4709 - val_loss: 2.8281 - val_accuracy: 0.4107\n",
            "Epoch 3/70\n",
            "22/22 [==============================] - 8s 377ms/step - loss: 1.1319 - accuracy: 0.4732 - val_loss: 2.5706 - val_accuracy: 0.3869\n",
            "Epoch 4/70\n",
            "22/22 [==============================] - 10s 438ms/step - loss: 1.3065 - accuracy: 0.4312 - val_loss: 1.4221 - val_accuracy: 0.4286\n",
            "Epoch 5/70\n",
            "22/22 [==============================] - 9s 425ms/step - loss: 1.1958 - accuracy: 0.4592 - val_loss: 1.1395 - val_accuracy: 0.4464\n",
            "Epoch 6/70\n",
            "22/22 [==============================] - 8s 373ms/step - loss: 1.0481 - accuracy: 0.5221 - val_loss: 1.1054 - val_accuracy: 0.4226\n",
            "Epoch 7/70\n",
            "22/22 [==============================] - 10s 433ms/step - loss: 1.0223 - accuracy: 0.5268 - val_loss: 1.2640 - val_accuracy: 0.3988\n",
            "Epoch 8/70\n",
            "22/22 [==============================] - 9s 390ms/step - loss: 1.0463 - accuracy: 0.4988 - val_loss: 1.1294 - val_accuracy: 0.4286\n",
            "Epoch 9/70\n",
            "22/22 [==============================] - 9s 397ms/step - loss: 0.9932 - accuracy: 0.5268 - val_loss: 1.1973 - val_accuracy: 0.4048\n",
            "Epoch 10/70\n",
            "22/22 [==============================] - 10s 435ms/step - loss: 0.9584 - accuracy: 0.5455 - val_loss: 1.5242 - val_accuracy: 0.3750\n",
            "Epoch 11/70\n",
            "22/22 [==============================] - 9s 390ms/step - loss: 0.9819 - accuracy: 0.5431 - val_loss: 1.2096 - val_accuracy: 0.4821\n",
            "Epoch 12/70\n",
            "22/22 [==============================] - 9s 378ms/step - loss: 0.9172 - accuracy: 0.5781 - val_loss: 1.1934 - val_accuracy: 0.4107\n",
            "Epoch 13/70\n",
            "22/22 [==============================] - 10s 444ms/step - loss: 0.9087 - accuracy: 0.5734 - val_loss: 1.1883 - val_accuracy: 0.4821\n",
            "Epoch 14/70\n",
            "22/22 [==============================] - 12s 537ms/step - loss: 0.8849 - accuracy: 0.6084 - val_loss: 1.2100 - val_accuracy: 0.3929\n",
            "Epoch 15/70\n",
            "22/22 [==============================] - 10s 438ms/step - loss: 0.8665 - accuracy: 0.6107 - val_loss: 1.1887 - val_accuracy: 0.4286\n",
            "Epoch 16/70\n",
            "22/22 [==============================] - 9s 398ms/step - loss: 0.8329 - accuracy: 0.6434 - val_loss: 1.1463 - val_accuracy: 0.4881\n",
            "Epoch 17/70\n",
            "22/22 [==============================] - 9s 394ms/step - loss: 0.8676 - accuracy: 0.6154 - val_loss: 1.2697 - val_accuracy: 0.4286\n",
            "Epoch 18/70\n",
            "22/22 [==============================] - 10s 445ms/step - loss: 0.8407 - accuracy: 0.6200 - val_loss: 1.3540 - val_accuracy: 0.4583\n",
            "Epoch 19/70\n",
            "22/22 [==============================] - 10s 438ms/step - loss: 0.7969 - accuracy: 0.6713 - val_loss: 1.3405 - val_accuracy: 0.4167\n",
            "Epoch 20/70\n",
            "22/22 [==============================] - 9s 379ms/step - loss: 0.8292 - accuracy: 0.6597 - val_loss: 2.2533 - val_accuracy: 0.3631\n",
            "Epoch 21/70\n",
            "22/22 [==============================] - 10s 441ms/step - loss: 0.8593 - accuracy: 0.6154 - val_loss: 1.5248 - val_accuracy: 0.4821\n",
            "Epoch 22/70\n",
            "22/22 [==============================] - 9s 405ms/step - loss: 0.7897 - accuracy: 0.6457 - val_loss: 1.8000 - val_accuracy: 0.4405\n",
            "Epoch 23/70\n",
            "22/22 [==============================] - 9s 392ms/step - loss: 0.7834 - accuracy: 0.6480 - val_loss: 1.3372 - val_accuracy: 0.4702\n",
            "Epoch 24/70\n",
            "22/22 [==============================] - 10s 439ms/step - loss: 0.7271 - accuracy: 0.6946 - val_loss: 1.6385 - val_accuracy: 0.4583\n",
            "Epoch 25/70\n",
            "22/22 [==============================] - 9s 392ms/step - loss: 0.8269 - accuracy: 0.6480 - val_loss: 1.3259 - val_accuracy: 0.4643\n",
            "Epoch 26/70\n",
            "22/22 [==============================] - 9s 404ms/step - loss: 0.7472 - accuracy: 0.6737 - val_loss: 1.7810 - val_accuracy: 0.4167\n",
            "Epoch 27/70\n",
            "22/22 [==============================] - 10s 441ms/step - loss: 0.7616 - accuracy: 0.6830 - val_loss: 1.4303 - val_accuracy: 0.4583\n",
            "Epoch 28/70\n",
            "22/22 [==============================] - 9s 395ms/step - loss: 0.7583 - accuracy: 0.6760 - val_loss: 1.4552 - val_accuracy: 0.4762\n",
            "Epoch 29/70\n",
            "22/22 [==============================] - 9s 400ms/step - loss: 0.7286 - accuracy: 0.7063 - val_loss: 1.7036 - val_accuracy: 0.4226\n",
            "Epoch 30/70\n",
            "22/22 [==============================] - 10s 444ms/step - loss: 0.8540 - accuracy: 0.6364 - val_loss: 1.7449 - val_accuracy: 0.4643\n",
            "Epoch 31/70\n",
            "22/22 [==============================] - 9s 382ms/step - loss: 0.7228 - accuracy: 0.6737 - val_loss: 1.3995 - val_accuracy: 0.4821\n",
            "Epoch 32/70\n",
            "22/22 [==============================] - 9s 378ms/step - loss: 0.7161 - accuracy: 0.7203 - val_loss: 2.1047 - val_accuracy: 0.4286\n",
            "Epoch 33/70\n",
            "22/22 [==============================] - 10s 439ms/step - loss: 0.6629 - accuracy: 0.6876 - val_loss: 1.6005 - val_accuracy: 0.4762\n",
            "Epoch 34/70\n",
            "22/22 [==============================] - 9s 407ms/step - loss: 0.7323 - accuracy: 0.6713 - val_loss: 1.8823 - val_accuracy: 0.4107\n",
            "Epoch 35/70\n",
            "22/22 [==============================] - 9s 393ms/step - loss: 0.7664 - accuracy: 0.6993 - val_loss: 1.7901 - val_accuracy: 0.4702\n",
            "Epoch 36/70\n",
            "22/22 [==============================] - 10s 441ms/step - loss: 0.6999 - accuracy: 0.6970 - val_loss: 1.4000 - val_accuracy: 0.4762\n",
            "Epoch 37/70\n",
            "22/22 [==============================] - 9s 397ms/step - loss: 0.6516 - accuracy: 0.7413 - val_loss: 1.9151 - val_accuracy: 0.4405\n",
            "Epoch 38/70\n",
            "22/22 [==============================] - 8s 379ms/step - loss: 0.5810 - accuracy: 0.7436 - val_loss: 1.3711 - val_accuracy: 0.4940\n",
            "Epoch 39/70\n",
            "22/22 [==============================] - 10s 439ms/step - loss: 0.6325 - accuracy: 0.7343 - val_loss: 1.4966 - val_accuracy: 0.4940\n",
            "Epoch 40/70\n",
            "22/22 [==============================] - 9s 401ms/step - loss: 0.6056 - accuracy: 0.7413 - val_loss: 1.9156 - val_accuracy: 0.4167\n",
            "Epoch 41/70\n",
            "22/22 [==============================] - 9s 382ms/step - loss: 0.6912 - accuracy: 0.7273 - val_loss: 1.5042 - val_accuracy: 0.5119\n",
            "Epoch 42/70\n",
            "22/22 [==============================] - 10s 444ms/step - loss: 0.5352 - accuracy: 0.7716 - val_loss: 1.8895 - val_accuracy: 0.4762\n",
            "Epoch 43/70\n",
            "22/22 [==============================] - 9s 420ms/step - loss: 0.5182 - accuracy: 0.8042 - val_loss: 1.5542 - val_accuracy: 0.4643\n",
            "Epoch 44/70\n",
            "22/22 [==============================] - 9s 382ms/step - loss: 0.5286 - accuracy: 0.7739 - val_loss: 1.6407 - val_accuracy: 0.5357\n",
            "Epoch 45/70\n",
            "22/22 [==============================] - 10s 442ms/step - loss: 0.5343 - accuracy: 0.7995 - val_loss: 1.6224 - val_accuracy: 0.4821\n",
            "Epoch 46/70\n",
            "22/22 [==============================] - 9s 415ms/step - loss: 0.4971 - accuracy: 0.7855 - val_loss: 1.6290 - val_accuracy: 0.4643\n",
            "Epoch 47/70\n",
            "22/22 [==============================] - 9s 387ms/step - loss: 0.5014 - accuracy: 0.7972 - val_loss: 1.5310 - val_accuracy: 0.4702\n",
            "Epoch 48/70\n",
            "22/22 [==============================] - 10s 440ms/step - loss: 0.6019 - accuracy: 0.7552 - val_loss: 1.9536 - val_accuracy: 0.4167\n",
            "Epoch 49/70\n",
            "22/22 [==============================] - 9s 394ms/step - loss: 0.5354 - accuracy: 0.7716 - val_loss: 2.0820 - val_accuracy: 0.5119\n",
            "Epoch 50/70\n",
            "22/22 [==============================] - 9s 383ms/step - loss: 0.4841 - accuracy: 0.8159 - val_loss: 1.6714 - val_accuracy: 0.5060\n",
            "Epoch 51/70\n",
            "22/22 [==============================] - 10s 444ms/step - loss: 0.4108 - accuracy: 0.8298 - val_loss: 1.6925 - val_accuracy: 0.5179\n",
            "Epoch 52/70\n",
            "22/22 [==============================] - 9s 404ms/step - loss: 0.5137 - accuracy: 0.8019 - val_loss: 1.8572 - val_accuracy: 0.4821\n",
            "Epoch 53/70\n",
            "22/22 [==============================] - 9s 390ms/step - loss: 0.4888 - accuracy: 0.7925 - val_loss: 2.4383 - val_accuracy: 0.4345\n",
            "Epoch 54/70\n",
            "22/22 [==============================] - 10s 435ms/step - loss: 0.4819 - accuracy: 0.7809 - val_loss: 1.9689 - val_accuracy: 0.4643\n",
            "Epoch 55/70\n",
            "22/22 [==============================] - 10s 427ms/step - loss: 0.5492 - accuracy: 0.7925 - val_loss: 1.4170 - val_accuracy: 0.4821\n",
            "Epoch 56/70\n",
            "22/22 [==============================] - 8s 387ms/step - loss: 0.4453 - accuracy: 0.8252 - val_loss: 1.6722 - val_accuracy: 0.5238\n",
            "Epoch 57/70\n",
            "22/22 [==============================] - 10s 421ms/step - loss: 0.4175 - accuracy: 0.8392 - val_loss: 1.5723 - val_accuracy: 0.4702\n",
            "Epoch 58/70\n",
            "22/22 [==============================] - 10s 433ms/step - loss: 0.4720 - accuracy: 0.7925 - val_loss: 1.5583 - val_accuracy: 0.5298\n",
            "Epoch 59/70\n",
            "22/22 [==============================] - 9s 383ms/step - loss: 0.4167 - accuracy: 0.8089 - val_loss: 2.0263 - val_accuracy: 0.4583\n",
            "Epoch 60/70\n",
            "22/22 [==============================] - 10s 440ms/step - loss: 0.4343 - accuracy: 0.8042 - val_loss: 1.7266 - val_accuracy: 0.5238\n",
            "Epoch 61/70\n",
            "22/22 [==============================] - 10s 428ms/step - loss: 0.4129 - accuracy: 0.8135 - val_loss: 1.7479 - val_accuracy: 0.4405\n",
            "Epoch 62/70\n",
            "22/22 [==============================] - 8s 379ms/step - loss: 0.4904 - accuracy: 0.8112 - val_loss: 2.0336 - val_accuracy: 0.4762\n",
            "Epoch 63/70\n",
            "22/22 [==============================] - 10s 442ms/step - loss: 0.5021 - accuracy: 0.7855 - val_loss: 1.8979 - val_accuracy: 0.4345\n",
            "Epoch 64/70\n",
            "22/22 [==============================] - 9s 415ms/step - loss: 0.4782 - accuracy: 0.8135 - val_loss: 1.6042 - val_accuracy: 0.5119\n",
            "Epoch 65/70\n",
            "22/22 [==============================] - 8s 379ms/step - loss: 0.4428 - accuracy: 0.8089 - val_loss: 1.7171 - val_accuracy: 0.5060\n",
            "Epoch 66/70\n",
            "22/22 [==============================] - 10s 443ms/step - loss: 0.4141 - accuracy: 0.8438 - val_loss: 2.6212 - val_accuracy: 0.4226\n",
            "Epoch 67/70\n",
            "22/22 [==============================] - 9s 418ms/step - loss: 0.3871 - accuracy: 0.8462 - val_loss: 1.6936 - val_accuracy: 0.5060\n",
            "Epoch 68/70\n",
            "22/22 [==============================] - 9s 380ms/step - loss: 0.3003 - accuracy: 0.8811 - val_loss: 2.1018 - val_accuracy: 0.5060\n",
            "Epoch 69/70\n",
            "22/22 [==============================] - 10s 439ms/step - loss: 0.3170 - accuracy: 0.8811 - val_loss: 2.0825 - val_accuracy: 0.5060\n",
            "Epoch 70/70\n",
            "22/22 [==============================] - 9s 425ms/step - loss: 0.3436 - accuracy: 0.8788 - val_loss: 1.7299 - val_accuracy: 0.5179\n"
          ]
        }
      ],
      "source": [
        "history = model.fit(\n",
        "    datagen.flow(X_train, y_train, batch_size=20),\n",
        "    epochs=70,  # Corrected parameter name\n",
        "    validation_data=datagen_test.flow(X_val, y_val, batch_size=10)\n",
        ")\n"
      ]
    },
    {
      "cell_type": "code",
      "execution_count": 25,
      "metadata": {
        "colab": {
          "base_uri": "https://localhost:8080/"
        },
        "id": "SOM-QbHpgOzU",
        "outputId": "276e5985-5866-4176-99e8-aab2df99ab05"
      },
      "outputs": [
        {
          "output_type": "stream",
          "name": "stderr",
          "text": [
            "WARNING:absl:Found untraced functions such as _jit_compiled_convolution_op, _jit_compiled_convolution_op, _jit_compiled_convolution_op, _jit_compiled_convolution_op, _jit_compiled_convolution_op while saving (showing 5 of 6). These functions will not be directly callable after loading.\n"
          ]
        }
      ],
      "source": [
        "model.save(\"/content/drive/MyDrive/Projet deep/model_save/model\")"
      ]
    },
    {
      "cell_type": "markdown",
      "source": [
        "Tracés de perte et de precision sur les ensembles d'entrainement et de validation :"
      ],
      "metadata": {
        "id": "efKLuWl076a9"
      }
    },
    {
      "cell_type": "code",
      "execution_count": 26,
      "metadata": {
        "colab": {
          "base_uri": "https://localhost:8080/",
          "height": 656
        },
        "id": "wH6f2OFJgO2J",
        "outputId": "9bafe50e-fe15-4837-9477-ca5b7ef04670"
      },
      "outputs": [
        {
          "output_type": "display_data",
          "data": {
            "text/plain": [
              "<Figure size 800x800 with 2 Axes>"
            ],
            "image/png": "[encoded data removed]"
          },
          "metadata": {}
        }
      ],
      "source": [
        "#traces des graphiques\n",
        "\n",
        "epochs=70\n",
        "acc=history.history[\"accuracy\"]\n",
        "val_acc=history.history[\"val_accuracy\"]\n",
        "\n",
        "loss=history.history[\"loss\"]\n",
        "val_loss=history.history[\"val_loss\"]\n",
        "\n",
        "epochs_range=range(epochs)\n",
        "\n",
        "plt.figure(figsize=(8,8))\n",
        "plt.subplot(1,2,1)\n",
        "plt.plot(epochs_range,acc,label=\"Training Accuracy\")\n",
        "plt.plot(epochs_range,val_acc,label=\"Validation Accuracy\")\n",
        "plt.legend(loc=\"lower right\")\n",
        "plt.title('Training and Vaidation Accuracy')\n",
        "\n",
        "plt.subplot(1,2,2)\n",
        "plt.plot(epochs_range,loss,label=\"Training Loss\")\n",
        "plt.plot(epochs_range,val_loss,label=\"Validation Loss\")\n",
        "plt.legend(loc=\"upper right\")\n",
        "plt.title('Training and Vaidation Loss')\n",
        "plt.show()\n",
        "\n"
      ]
    },
    {
      "cell_type": "markdown",
      "source": [
        "Les graphiques montrent que la précision sur l'ensemble d'entrainement et la précision\n",
        "sur l'ensemble de validation sont très éloignées: signe de surapprentissage. De plus le\n",
        "modèle n'a atteint qu'une précision d'environ 52% sur l'ensemble de validation.\n",
        "Essayons d'augmenter les performances globales du modèle. Il existe plusieurs façons de\n",
        "lutter contre le surapprentissage: comme le Dropout et le time based decay."
      ],
      "metadata": {
        "id": "KtkBT16z8PrH"
      }
    },
    {
      "cell_type": "markdown",
      "source": [
        "**2.3 OPTIMISATION DU MODELE AVEC DROPOUT**"
      ],
      "metadata": {
        "id": "bruvNaG88age"
      }
    },
    {
      "cell_type": "markdown",
      "source": [
        "**QU'EST CE QUE LE DROPOUT :**\n",
        "Une autre technique pour réduire le surajustement consiste à introduire une régularisation\n",
        "des abandons dans le réseau.\n",
        "Lorsque vous appliquez une suppression à une couche, elle supprime de manière\n",
        "aléatoire (en définissant l'activation sur zéro) un certain nombre d'unités de sortie de la\n",
        "couche pendant le processus d'apprentissage. L'abandon prend un nombre fractionnaire\n",
        "comme valeur d'entrée, sous la forme de 0,1, 0,2, 0,4, etc. Cela signifie abandonner 10 %,\n",
        "20 % ou 40 % des unités de sortie au hasard de la couche appliquée.\n",
        "\n",
        "**Mise en place du modèle optimisé**\n",
        "\n",
        "On va utiliser le même modèle que précédemment en ajoutant une couche de dropout.\n"
      ],
      "metadata": {
        "id": "CGRgJNfk8jSy"
      }
    },
    {
      "cell_type": "code",
      "execution_count": 28,
      "metadata": {
        "id": "R4HCKyKOmK-q"
      },
      "outputs": [],
      "source": [
        "# Setting up the model and training\n",
        "model_opt = models.Sequential([\n",
        "    layers.Input(shape=input_shape),\n",
        "    layers.Conv2D(128, kernel_size=(5, 5), padding=\"same\", activation='relu'),\n",
        "    layers.BatchNormalization(),\n",
        "    layers.Conv2D(128, kernel_size=(5, 5), padding=\"same\", activation='relu'),\n",
        "    layers.BatchNormalization(),\n",
        "    layers.MaxPooling2D(pool_size=(3, 3)),\n",
        "    layers.Conv2D(64, kernel_size=(5, 5), padding=\"same\", activation='relu'),\n",
        "    layers.BatchNormalization(),\n",
        "    layers.Conv2D(64, kernel_size=(5, 5), padding=\"same\", activation='relu'),\n",
        "    layers.BatchNormalization(),\n",
        "    layers.MaxPooling2D(pool_size=(3, 3)),\n",
        "    layers.Conv2D(32, kernel_size=(5, 5), padding=\"same\", activation='relu'),\n",
        "    layers.BatchNormalization(),\n",
        "    layers.Conv2D(32, kernel_size=(5, 5), padding=\"same\", activation='relu'),\n",
        "    layers.BatchNormalization(),\n",
        "    layers.MaxPooling2D(pool_size=(3, 3)),\n",
        "    layers.Flatten(),\n",
        "    layers.Dropout(0.5),\n",
        "    layers.Dense(num_classes, activation=\"softmax\")\n",
        "])\n",
        "\n"
      ]
    },
    {
      "cell_type": "code",
      "execution_count": 29,
      "metadata": {
        "id": "9ao03krImfva"
      },
      "outputs": [],
      "source": [
        "# Compile the model\n",
        "model.compile(optimizer='adam', loss='categorical_crossentropy', metrics=['accuracy'])\n"
      ]
    },
    {
      "cell_type": "code",
      "execution_count": 30,
      "metadata": {
        "id": "h3_iC28pmfyj"
      },
      "outputs": [],
      "source": [
        "schedule=tf.keras.callbacks.LearningRateScheduler(scheduler)"
      ]
    },
    {
      "cell_type": "code",
      "execution_count": 31,
      "metadata": {
        "colab": {
          "base_uri": "https://localhost:8080/"
        },
        "id": "Whc8Qjg2mf1o",
        "outputId": "284760ad-88aa-44d8-9ea4-aaabf6b7b84d"
      },
      "outputs": [
        {
          "output_type": "stream",
          "name": "stdout",
          "text": [
            "Epoch 1/70\n",
            "22/22 [==============================] - 15s 437ms/step - loss: 0.5189 - accuracy: 0.7949 - val_loss: 5.9195 - val_accuracy: 0.4048\n",
            "Epoch 2/70\n",
            "22/22 [==============================] - 9s 426ms/step - loss: 0.5287 - accuracy: 0.7879 - val_loss: 2.6504 - val_accuracy: 0.4524\n",
            "Epoch 3/70\n",
            "22/22 [==============================] - 9s 382ms/step - loss: 0.3633 - accuracy: 0.8462 - val_loss: 3.5064 - val_accuracy: 0.4345\n",
            "Epoch 4/70\n",
            "22/22 [==============================] - 9s 407ms/step - loss: 0.4047 - accuracy: 0.8345 - val_loss: 2.8388 - val_accuracy: 0.4643\n",
            "Epoch 5/70\n",
            "22/22 [==============================] - 10s 446ms/step - loss: 0.3801 - accuracy: 0.8415 - val_loss: 2.6390 - val_accuracy: 0.4345\n",
            "Epoch 6/70\n",
            "22/22 [==============================] - 9s 397ms/step - loss: 0.3815 - accuracy: 0.8345 - val_loss: 2.8107 - val_accuracy: 0.4405\n",
            "Epoch 7/70\n",
            "22/22 [==============================] - 10s 420ms/step - loss: 0.3319 - accuracy: 0.8765 - val_loss: 2.3717 - val_accuracy: 0.4702\n",
            "Epoch 8/70\n",
            "22/22 [==============================] - 10s 439ms/step - loss: 0.3282 - accuracy: 0.8718 - val_loss: 2.7144 - val_accuracy: 0.4821\n",
            "Epoch 9/70\n",
            "22/22 [==============================] - 9s 385ms/step - loss: 0.3707 - accuracy: 0.8531 - val_loss: 2.9889 - val_accuracy: 0.4167\n",
            "Epoch 10/70\n",
            "22/22 [==============================] - 9s 379ms/step - loss: 0.3274 - accuracy: 0.8695 - val_loss: 3.0982 - val_accuracy: 0.3690\n",
            "Epoch 11/70\n",
            "22/22 [==============================] - 10s 441ms/step - loss: 0.3535 - accuracy: 0.8648 - val_loss: 3.4699 - val_accuracy: 0.3988\n",
            "Epoch 12/70\n",
            "22/22 [==============================] - 9s 411ms/step - loss: 0.4198 - accuracy: 0.8275 - val_loss: 2.1131 - val_accuracy: 0.5179\n",
            "Epoch 13/70\n",
            "22/22 [==============================] - 9s 383ms/step - loss: 0.3795 - accuracy: 0.8485 - val_loss: 2.9272 - val_accuracy: 0.4881\n",
            "Epoch 14/70\n",
            "22/22 [==============================] - 10s 445ms/step - loss: 0.3328 - accuracy: 0.8834 - val_loss: 2.8338 - val_accuracy: 0.4405\n",
            "Epoch 15/70\n",
            "22/22 [==============================] - 9s 414ms/step - loss: 0.3448 - accuracy: 0.8648 - val_loss: 2.1110 - val_accuracy: 0.4821\n",
            "Epoch 16/70\n",
            "22/22 [==============================] - 9s 381ms/step - loss: 0.3080 - accuracy: 0.8765 - val_loss: 2.3805 - val_accuracy: 0.5060\n",
            "Epoch 17/70\n",
            "22/22 [==============================] - 10s 441ms/step - loss: 0.2817 - accuracy: 0.8951 - val_loss: 2.3494 - val_accuracy: 0.5238\n",
            "Epoch 18/70\n",
            "22/22 [==============================] - 9s 417ms/step - loss: 0.3239 - accuracy: 0.8881 - val_loss: 2.4614 - val_accuracy: 0.4643\n",
            "Epoch 19/70\n",
            "22/22 [==============================] - 9s 381ms/step - loss: 0.2789 - accuracy: 0.8951 - val_loss: 2.4666 - val_accuracy: 0.4524\n",
            "Epoch 20/70\n",
            "22/22 [==============================] - 9s 413ms/step - loss: 0.2939 - accuracy: 0.8928 - val_loss: 2.0431 - val_accuracy: 0.5000\n",
            "Epoch 21/70\n",
            "22/22 [==============================] - 10s 442ms/step - loss: 0.3048 - accuracy: 0.8928 - val_loss: 1.9370 - val_accuracy: 0.4940\n",
            "Epoch 22/70\n",
            "22/22 [==============================] - 9s 394ms/step - loss: 0.2368 - accuracy: 0.9021 - val_loss: 2.3316 - val_accuracy: 0.4286\n",
            "Epoch 23/70\n",
            "22/22 [==============================] - 9s 381ms/step - loss: 0.2904 - accuracy: 0.8928 - val_loss: 2.4707 - val_accuracy: 0.5179\n",
            "Epoch 24/70\n",
            "22/22 [==============================] - 10s 436ms/step - loss: 0.2673 - accuracy: 0.8974 - val_loss: 3.2348 - val_accuracy: 0.4286\n",
            "Epoch 25/70\n",
            "22/22 [==============================] - 10s 430ms/step - loss: 0.2916 - accuracy: 0.8928 - val_loss: 2.4742 - val_accuracy: 0.4405\n",
            "Epoch 26/70\n",
            "22/22 [==============================] - 9s 398ms/step - loss: 0.2677 - accuracy: 0.8928 - val_loss: 1.9335 - val_accuracy: 0.5476\n",
            "Epoch 27/70\n",
            "22/22 [==============================] - 10s 420ms/step - loss: 0.1731 - accuracy: 0.9301 - val_loss: 2.7414 - val_accuracy: 0.4702\n",
            "Epoch 28/70\n",
            "22/22 [==============================] - 10s 438ms/step - loss: 0.1866 - accuracy: 0.9301 - val_loss: 2.4779 - val_accuracy: 0.4940\n",
            "Epoch 29/70\n",
            "22/22 [==============================] - 8s 380ms/step - loss: 0.1993 - accuracy: 0.9324 - val_loss: 2.2590 - val_accuracy: 0.5000\n",
            "Epoch 30/70\n",
            "22/22 [==============================] - 9s 390ms/step - loss: 0.2195 - accuracy: 0.9114 - val_loss: 3.3124 - val_accuracy: 0.3929\n",
            "Epoch 31/70\n",
            "22/22 [==============================] - 10s 442ms/step - loss: 0.2040 - accuracy: 0.9371 - val_loss: 2.6239 - val_accuracy: 0.4881\n",
            "Epoch 32/70\n",
            "22/22 [==============================] - 9s 399ms/step - loss: 0.1818 - accuracy: 0.9394 - val_loss: 2.3569 - val_accuracy: 0.5238\n",
            "Epoch 33/70\n",
            "22/22 [==============================] - 9s 382ms/step - loss: 0.1894 - accuracy: 0.9254 - val_loss: 2.1876 - val_accuracy: 0.5119\n",
            "Epoch 34/70\n",
            "22/22 [==============================] - 10s 446ms/step - loss: 0.1599 - accuracy: 0.9417 - val_loss: 2.1685 - val_accuracy: 0.5000\n",
            "Epoch 35/70\n",
            "22/22 [==============================] - 9s 423ms/step - loss: 0.1817 - accuracy: 0.9324 - val_loss: 2.6036 - val_accuracy: 0.4821\n",
            "Epoch 36/70\n",
            "22/22 [==============================] - 8s 380ms/step - loss: 0.1603 - accuracy: 0.9464 - val_loss: 2.5624 - val_accuracy: 0.4643\n",
            "Epoch 37/70\n",
            "22/22 [==============================] - 10s 441ms/step - loss: 0.2276 - accuracy: 0.9161 - val_loss: 2.7254 - val_accuracy: 0.4643\n",
            "Epoch 38/70\n",
            "22/22 [==============================] - 9s 412ms/step - loss: 0.1779 - accuracy: 0.9301 - val_loss: 2.4708 - val_accuracy: 0.5000\n",
            "Epoch 39/70\n",
            "22/22 [==============================] - 9s 390ms/step - loss: 0.1709 - accuracy: 0.9301 - val_loss: 2.4513 - val_accuracy: 0.5238\n",
            "Epoch 40/70\n",
            "22/22 [==============================] - 10s 440ms/step - loss: 0.1396 - accuracy: 0.9417 - val_loss: 2.6824 - val_accuracy: 0.4762\n",
            "Epoch 41/70\n",
            "22/22 [==============================] - 9s 426ms/step - loss: 0.1464 - accuracy: 0.9417 - val_loss: 2.5684 - val_accuracy: 0.5060\n",
            "Epoch 42/70\n",
            "22/22 [==============================] - 9s 382ms/step - loss: 0.1878 - accuracy: 0.9277 - val_loss: 3.6081 - val_accuracy: 0.4762\n",
            "Epoch 43/70\n",
            "22/22 [==============================] - 10s 448ms/step - loss: 0.2661 - accuracy: 0.9184 - val_loss: 4.1982 - val_accuracy: 0.4048\n",
            "Epoch 44/70\n",
            "22/22 [==============================] - 9s 412ms/step - loss: 0.3125 - accuracy: 0.8788 - val_loss: 4.5512 - val_accuracy: 0.3988\n",
            "Epoch 45/70\n",
            "22/22 [==============================] - 9s 396ms/step - loss: 0.2317 - accuracy: 0.9068 - val_loss: 3.4282 - val_accuracy: 0.4345\n",
            "Epoch 46/70\n",
            "22/22 [==============================] - 10s 441ms/step - loss: 0.2020 - accuracy: 0.9184 - val_loss: 2.5014 - val_accuracy: 0.5417\n",
            "Epoch 47/70\n",
            "22/22 [==============================] - 9s 402ms/step - loss: 0.1648 - accuracy: 0.9301 - val_loss: 2.3554 - val_accuracy: 0.5357\n",
            "Epoch 48/70\n",
            "22/22 [==============================] - 9s 381ms/step - loss: 0.1561 - accuracy: 0.9371 - val_loss: 2.3376 - val_accuracy: 0.5595\n",
            "Epoch 49/70\n",
            "22/22 [==============================] - 10s 434ms/step - loss: 0.1723 - accuracy: 0.9510 - val_loss: 2.4348 - val_accuracy: 0.5476\n",
            "Epoch 50/70\n",
            "22/22 [==============================] - 9s 403ms/step - loss: 0.1755 - accuracy: 0.9324 - val_loss: 2.3989 - val_accuracy: 0.4940\n",
            "Epoch 51/70\n",
            "22/22 [==============================] - 9s 384ms/step - loss: 0.0973 - accuracy: 0.9650 - val_loss: 2.7678 - val_accuracy: 0.4940\n",
            "Epoch 52/70\n",
            "22/22 [==============================] - 10s 440ms/step - loss: 0.1065 - accuracy: 0.9627 - val_loss: 2.5318 - val_accuracy: 0.5238\n",
            "Epoch 53/70\n",
            "22/22 [==============================] - 9s 420ms/step - loss: 0.1245 - accuracy: 0.9580 - val_loss: 2.7684 - val_accuracy: 0.4643\n",
            "Epoch 54/70\n",
            "22/22 [==============================] - 9s 382ms/step - loss: 0.0993 - accuracy: 0.9674 - val_loss: 2.7553 - val_accuracy: 0.5119\n",
            "Epoch 55/70\n",
            "22/22 [==============================] - 10s 433ms/step - loss: 0.0886 - accuracy: 0.9650 - val_loss: 2.3572 - val_accuracy: 0.5417\n",
            "Epoch 56/70\n",
            "22/22 [==============================] - 9s 413ms/step - loss: 0.1327 - accuracy: 0.9394 - val_loss: 2.5722 - val_accuracy: 0.4583\n",
            "Epoch 57/70\n",
            "22/22 [==============================] - 9s 387ms/step - loss: 0.1292 - accuracy: 0.9580 - val_loss: 3.0427 - val_accuracy: 0.4524\n",
            "Epoch 58/70\n",
            "22/22 [==============================] - 10s 440ms/step - loss: 0.1221 - accuracy: 0.9510 - val_loss: 2.4992 - val_accuracy: 0.5536\n",
            "Epoch 59/70\n",
            "22/22 [==============================] - 9s 410ms/step - loss: 0.0738 - accuracy: 0.9674 - val_loss: 2.4697 - val_accuracy: 0.5357\n",
            "Epoch 60/70\n",
            "22/22 [==============================] - 8s 379ms/step - loss: 0.1044 - accuracy: 0.9697 - val_loss: 3.0619 - val_accuracy: 0.4821\n",
            "Epoch 61/70\n",
            "22/22 [==============================] - 10s 444ms/step - loss: 0.1006 - accuracy: 0.9650 - val_loss: 2.4176 - val_accuracy: 0.5357\n",
            "Epoch 62/70\n",
            "22/22 [==============================] - 9s 410ms/step - loss: 0.0827 - accuracy: 0.9604 - val_loss: 2.7190 - val_accuracy: 0.5060\n",
            "Epoch 63/70\n",
            "22/22 [==============================] - 9s 389ms/step - loss: 0.0970 - accuracy: 0.9674 - val_loss: 2.5079 - val_accuracy: 0.5476\n",
            "Epoch 64/70\n",
            "22/22 [==============================] - 10s 440ms/step - loss: 0.1324 - accuracy: 0.9464 - val_loss: 2.8742 - val_accuracy: 0.5595\n",
            "Epoch 65/70\n",
            "22/22 [==============================] - 9s 399ms/step - loss: 0.1177 - accuracy: 0.9674 - val_loss: 2.9339 - val_accuracy: 0.5179\n",
            "Epoch 66/70\n",
            "22/22 [==============================] - 8s 375ms/step - loss: 0.1177 - accuracy: 0.9650 - val_loss: 2.5668 - val_accuracy: 0.5476\n",
            "Epoch 67/70\n",
            "22/22 [==============================] - 10s 457ms/step - loss: 0.0919 - accuracy: 0.9674 - val_loss: 3.1541 - val_accuracy: 0.5119\n",
            "Epoch 68/70\n",
            "22/22 [==============================] - 9s 411ms/step - loss: 0.1420 - accuracy: 0.9510 - val_loss: 2.3298 - val_accuracy: 0.5833\n",
            "Epoch 69/70\n",
            "22/22 [==============================] - 9s 384ms/step - loss: 0.0947 - accuracy: 0.9674 - val_loss: 2.4452 - val_accuracy: 0.5536\n",
            "Epoch 70/70\n",
            "22/22 [==============================] - 10s 441ms/step - loss: 0.0896 - accuracy: 0.9720 - val_loss: 2.6522 - val_accuracy: 0.5000\n"
          ]
        }
      ],
      "source": [
        "history = model.fit(\n",
        "    datagen.flow(X_train, y_train, batch_size=20),\n",
        "    epochs=70,  # Corrected parameter name\n",
        "    validation_data=datagen_test.flow(X_val, y_val, batch_size=10)\n",
        ")\n"
      ]
    },
    {
      "cell_type": "markdown",
      "source": [
        "**Malgré l'optimisation, le sur apprentissage persiste. De plus l'accuracy sur les données de\n",
        "train diminuent de près de 10% et l'accuracy sur les données de validation restent\n",
        "presque les mêmes (0.50 après optimisation et 0.51 avant optimisation.**"
      ],
      "metadata": {
        "id": "x4F-i3UR9NAW"
      }
    },
    {
      "cell_type": "markdown",
      "source": [
        "**3. MODELE DE TRANSFERT LEARNING**"
      ],
      "metadata": {
        "id": "xxe2gffS92kO"
      }
    },
    {
      "cell_type": "markdown",
      "source": [
        "Le Transfer Learning (ou apprentissage par transfert) permet de faire du Deep Learning\n",
        "sans avoir besoin d'y passer beaucoup de temps de calculs. Le principe est d'utiliser les\n",
        "connaissances acquises par un réseau de neurones lors de la résolution d'un problème\n",
        "afin d'en résoudre un autre plus ou moins similaire. On réalise ainsi un transfert de\n",
        "connaissances, d'où le nom."
      ],
      "metadata": {
        "id": "HeBrgDMU-CGk"
      }
    },
    {
      "cell_type": "markdown",
      "metadata": {
        "id": "wNPdRSf4nWRR"
      },
      "source": [
        "**3.1 MODELE VGG16**"
      ]
    },
    {
      "cell_type": "code",
      "execution_count": 33,
      "metadata": {
        "id": "LKsUVVbOmf5E"
      },
      "outputs": [],
      "source": [
        "#importer les libraries\n",
        "import numpy as np\n",
        "import pandas as pd\n",
        "import pathlib\n",
        "import os\n",
        "import cv2\n",
        "import tensorflow as tf\n",
        "import matplotlib.pyplot as plt\n",
        "from tensorflow import keras\n",
        "from PIL import Image\n",
        "from glob import glob\n",
        "from typing import OrderedDict\n",
        "from tensorflow.keras import layers\n",
        "#from keras_preprocessing.image import ImageDataGenerator\n",
        "from tensorflow.keras.layers import *\n",
        "from tensorflow.keras.models import Model\n",
        "from tensorflow.keras.optimizers import SGD\n",
        "from tensorflow.keras.layers import Add, Dense, Dropout,Embedding, GlobalAveragePooling1D, Input, Layer, LayerNormalization, MultiHeadAttention\n",
        "#import tensorflow_addons as tfa\n",
        "from tensorflow.keras.preprocessing.image import ImageDataGenerator, img_to_array,load_img\n",
        "from tensorflow.keras.layers import Conv2D, MaxPooling2D, Flatten, Dense, Dropout\n",
        "from tensorflow.keras.models import Sequential\n",
        "from keras import models\n",
        "from keras import layers\n",
        "from keras.applications.vgg16 import VGG16\n"
      ]
    },
    {
      "cell_type": "code",
      "execution_count": 34,
      "metadata": {
        "colab": {
          "base_uri": "https://localhost:8080/"
        },
        "id": "JWkMoNuznhMi",
        "outputId": "f513990e-8835-4ee7-8a3c-7dd365f6f72d"
      },
      "outputs": [
        {
          "output_type": "stream",
          "name": "stdout",
          "text": [
            "Found 429 files belonging to 3 classes.\n",
            "Found 168 files belonging to 3 classes.\n"
          ]
        }
      ],
      "source": [
        "batch_size=7\n",
        "img_height=224\n",
        "img_width=224\n",
        "\n",
        "train_data=tf.keras.preprocessing.image_dataset_from_directory(\n",
        "    train_dir,\n",
        "    seed=42,\n",
        "    image_size=(img_height,img_width),\n",
        "    batch_size=batch_size)\n",
        "\n",
        "val_data=tf.keras.preprocessing.image_dataset_from_directory(\n",
        "    val_dir,\n",
        "    seed=42,\n",
        "    image_size=(img_height,img_width),\n",
        "    batch_size=batch_size)\n"
      ]
    },
    {
      "cell_type": "markdown",
      "source": [
        "L' ensemble des données se compose de 597 images reparties en 3 classes ('Keira',\n",
        "'Nathalie' et ' Autres' ) sur un ensemble de train et un ensemble de validation. L'ensemble d'apprentissage est composé de 429 images et celui de validation de 168. On peut voir?d'entrée que notre ensemble d'images est très faible en observation."
      ],
      "metadata": {
        "id": "hmOzMGhA-ImA"
      }
    },
    {
      "cell_type": "code",
      "execution_count": 35,
      "metadata": {
        "colab": {
          "base_uri": "https://localhost:8080/"
        },
        "id": "y7NKA6qRnhPZ",
        "outputId": "f2dbcdb7-2e23-455d-8d8b-36643cf61e3c"
      },
      "outputs": [
        {
          "output_type": "stream",
          "name": "stdout",
          "text": [
            "Found 429 images belonging to 3 classes.\n",
            "Found 168 images belonging to 3 classes.\n"
          ]
        }
      ],
      "source": [
        "#normalisation et data augmentation\n",
        "train_datagen=ImageDataGenerator(\n",
        "  featurewise_center=True,\n",
        "  featurewise_std_normalization=True,\n",
        "  rotation_range=0.4,\n",
        "  width_shift_range=0.1,\n",
        "  height_shift_range=0.1,\n",
        "  horizontal_flip=True)\n",
        "\n",
        "\n",
        "val_datagen=ImageDataGenerator(\n",
        "  featurewise_center=True,\n",
        "  featurewise_std_normalization=True,\n",
        "  rotation_range=0.4,\n",
        "  width_shift_range=0.1,\n",
        "  height_shift_range=0.1,\n",
        "  horizontal_flip=True)\n",
        "\n",
        "train_set=train_datagen.flow_from_directory(train_dir,target_size=(224,224))\n",
        "val_set=val_datagen.flow_from_directory(val_dir,target_size=(224,224))\n"
      ]
    },
    {
      "cell_type": "code",
      "execution_count": 36,
      "metadata": {
        "colab": {
          "base_uri": "https://localhost:8080/"
        },
        "id": "LzjM-ErqsYY0",
        "outputId": "c0ada0a8-91be-4a6e-fe6e-d6e8d8ca8e7d"
      },
      "outputs": [
        {
          "output_type": "stream",
          "name": "stdout",
          "text": [
            "Downloading data from https://storage.googleapis.com/tensorflow/keras-applications/vgg16/vgg16_weights_tf_dim_ordering_tf_kernels_notop.h5\n",
            "58889256/58889256 [==============================] - 0s 0us/step\n",
            "Model: \"vgg16\"\n",
            "_________________________________________________________________\n",
            " Layer (type)                Output Shape              Param #   \n",
            "=================================================================\n",
            " input_3 (InputLayer)        [(None, 224, 224, 3)]     0         \n",
            "                                                                 \n",
            " block1_conv1 (Conv2D)       (None, 224, 224, 64)      1792      \n",
            "                                                                 \n",
            " block1_conv2 (Conv2D)       (None, 224, 224, 64)      36928     \n",
            "                                                                 \n",
            " block1_pool (MaxPooling2D)  (None, 112, 112, 64)      0         \n",
            "                                                                 \n",
            " block2_conv1 (Conv2D)       (None, 112, 112, 128)     73856     \n",
            "                                                                 \n",
            " block2_conv2 (Conv2D)       (None, 112, 112, 128)     147584    \n",
            "                                                                 \n",
            " block2_pool (MaxPooling2D)  (None, 56, 56, 128)       0         \n",
            "                                                                 \n",
            " block3_conv1 (Conv2D)       (None, 56, 56, 256)       295168    \n",
            "                                                                 \n",
            " block3_conv2 (Conv2D)       (None, 56, 56, 256)       590080    \n",
            "                                                                 \n",
            " block3_conv3 (Conv2D)       (None, 56, 56, 256)       590080    \n",
            "                                                                 \n",
            " block3_pool (MaxPooling2D)  (None, 28, 28, 256)       0         \n",
            "                                                                 \n",
            " block4_conv1 (Conv2D)       (None, 28, 28, 512)       1180160   \n",
            "                                                                 \n",
            " block4_conv2 (Conv2D)       (None, 28, 28, 512)       2359808   \n",
            "                                                                 \n",
            " block4_conv3 (Conv2D)       (None, 28, 28, 512)       2359808   \n",
            "                                                                 \n",
            " block4_pool (MaxPooling2D)  (None, 14, 14, 512)       0         \n",
            "                                                                 \n",
            " block5_conv1 (Conv2D)       (None, 14, 14, 512)       2359808   \n",
            "                                                                 \n",
            " block5_conv2 (Conv2D)       (None, 14, 14, 512)       2359808   \n",
            "                                                                 \n",
            " block5_conv3 (Conv2D)       (None, 14, 14, 512)       2359808   \n",
            "                                                                 \n",
            " block5_pool (MaxPooling2D)  (None, 7, 7, 512)         0         \n",
            "                                                                 \n",
            "=================================================================\n",
            "Total params: 14,714,688\n",
            "Trainable params: 14,714,688\n",
            "Non-trainable params: 0\n",
            "_________________________________________________________________\n"
          ]
        }
      ],
      "source": [
        "#import du modele vgg16\n",
        "vgg16_base=VGG16(weights='imagenet',include_top=False,input_shape=input_shape)\n",
        "vgg16_base.summary()"
      ]
    },
    {
      "cell_type": "code",
      "execution_count": 37,
      "metadata": {
        "colab": {
          "base_uri": "https://localhost:8080/"
        },
        "id": "hxsB7hrbsYbs",
        "outputId": "66c8873c-6b59-4c1b-8e85-e96c1d91e9c0"
      },
      "outputs": [
        {
          "output_type": "execute_result",
          "data": {
            "text/plain": [
              "<KerasTensor: shape=(None, 7, 7, 512) dtype=float32 (created by layer 'block5_pool')>"
            ]
          },
          "metadata": {},
          "execution_count": 37
        }
      ],
      "source": [
        "vgg16_base.output"
      ]
    },
    {
      "cell_type": "code",
      "execution_count": 38,
      "metadata": {
        "id": "cNkgGX4CsYe0"
      },
      "outputs": [],
      "source": [
        "vgg16_base.trainable=False\n",
        "#pour que les images ne soient pas entrainées sur toutes les couhes du modele"
      ]
    },
    {
      "cell_type": "code",
      "execution_count": 39,
      "metadata": {
        "id": "LOJwGNlZsYiT"
      },
      "outputs": [],
      "source": [
        "#Ajouter les couches de sorties\n",
        "#mettre 2 couches\n",
        "x=Flatten() (vgg16_base.output)\n",
        "prediction= Dense(3,activation=\"softmax\")(x)"
      ]
    },
    {
      "cell_type": "code",
      "execution_count": 40,
      "metadata": {
        "colab": {
          "base_uri": "https://localhost:8080/"
        },
        "id": "kFe270eJtG9x",
        "outputId": "ae2290ba-821e-433c-e3b0-e317c27e3d4f"
      },
      "outputs": [
        {
          "output_type": "stream",
          "name": "stdout",
          "text": [
            "Model: \"model\"\n",
            "_________________________________________________________________\n",
            " Layer (type)                Output Shape              Param #   \n",
            "=================================================================\n",
            " input_3 (InputLayer)        [(None, 224, 224, 3)]     0         \n",
            "                                                                 \n",
            " block1_conv1 (Conv2D)       (None, 224, 224, 64)      1792      \n",
            "                                                                 \n",
            " block1_conv2 (Conv2D)       (None, 224, 224, 64)      36928     \n",
            "                                                                 \n",
            " block1_pool (MaxPooling2D)  (None, 112, 112, 64)      0         \n",
            "                                                                 \n",
            " block2_conv1 (Conv2D)       (None, 112, 112, 128)     73856     \n",
            "                                                                 \n",
            " block2_conv2 (Conv2D)       (None, 112, 112, 128)     147584    \n",
            "                                                                 \n",
            " block2_pool (MaxPooling2D)  (None, 56, 56, 128)       0         \n",
            "                                                                 \n",
            " block3_conv1 (Conv2D)       (None, 56, 56, 256)       295168    \n",
            "                                                                 \n",
            " block3_conv2 (Conv2D)       (None, 56, 56, 256)       590080    \n",
            "                                                                 \n",
            " block3_conv3 (Conv2D)       (None, 56, 56, 256)       590080    \n",
            "                                                                 \n",
            " block3_pool (MaxPooling2D)  (None, 28, 28, 256)       0         \n",
            "                                                                 \n",
            " block4_conv1 (Conv2D)       (None, 28, 28, 512)       1180160   \n",
            "                                                                 \n",
            " block4_conv2 (Conv2D)       (None, 28, 28, 512)       2359808   \n",
            "                                                                 \n",
            " block4_conv3 (Conv2D)       (None, 28, 28, 512)       2359808   \n",
            "                                                                 \n",
            " block4_pool (MaxPooling2D)  (None, 14, 14, 512)       0         \n",
            "                                                                 \n",
            " block5_conv1 (Conv2D)       (None, 14, 14, 512)       2359808   \n",
            "                                                                 \n",
            " block5_conv2 (Conv2D)       (None, 14, 14, 512)       2359808   \n",
            "                                                                 \n",
            " block5_conv3 (Conv2D)       (None, 14, 14, 512)       2359808   \n",
            "                                                                 \n",
            " block5_pool (MaxPooling2D)  (None, 7, 7, 512)         0         \n",
            "                                                                 \n",
            " flatten_2 (Flatten)         (None, 25088)             0         \n",
            "                                                                 \n",
            " dense_2 (Dense)             (None, 3)                 75267     \n",
            "                                                                 \n",
            "=================================================================\n",
            "Total params: 14,789,955\n",
            "Trainable params: 75,267\n",
            "Non-trainable params: 14,714,688\n",
            "_________________________________________________________________\n"
          ]
        }
      ],
      "source": [
        "model_vgg=Model(vgg16_base.input,outputs=prediction)\n",
        "model_vgg.summary()"
      ]
    },
    {
      "cell_type": "markdown",
      "source": [
        "Notre modèle sera entrainé sur 75267 paramètres"
      ],
      "metadata": {
        "id": "o9xUOlDl-pIl"
      }
    },
    {
      "cell_type": "code",
      "execution_count": 41,
      "metadata": {
        "id": "ijcpnSRitHAg"
      },
      "outputs": [],
      "source": [
        "#notre modele sera entrainé sur x parametres\n",
        "model_vgg.compile(loss=\"categorical_crossentropy\",optimizer=\"adam\",metrics=['accuracy'])"
      ]
    },
    {
      "cell_type": "code",
      "execution_count": 42,
      "metadata": {
        "colab": {
          "base_uri": "https://localhost:8080/"
        },
        "id": "c7zoWvTjtHD5",
        "outputId": "1ec91871-241e-4cb6-a184-c845f783b4c1"
      },
      "outputs": [
        {
          "output_type": "stream",
          "name": "stderr",
          "text": [
            "/usr/local/lib/python3.10/dist-packages/keras/preprocessing/image.py:1861: UserWarning: This ImageDataGenerator specifies `featurewise_center`, but it hasn't been fit on any training data. Fit it first by calling `.fit(numpy_data)`.\n",
            "  warnings.warn(\n",
            "/usr/local/lib/python3.10/dist-packages/keras/preprocessing/image.py:1871: UserWarning: This ImageDataGenerator specifies `featurewise_std_normalization`, but it hasn't been fit on any training data. Fit it first by calling `.fit(numpy_data)`.\n",
            "  warnings.warn(\n"
          ]
        },
        {
          "output_type": "stream",
          "name": "stdout",
          "text": [
            "Epoch 1/70\n",
            "14/14 [==============================] - 24s 1s/step - loss: 17.1938 - accuracy: 0.4126 - val_loss: 15.1732 - val_accuracy: 0.4107\n",
            "Epoch 2/70\n",
            "14/14 [==============================] - 14s 1s/step - loss: 8.0645 - accuracy: 0.6550 - val_loss: 12.7007 - val_accuracy: 0.5179\n",
            "Epoch 3/70\n",
            "14/14 [==============================] - 14s 1s/step - loss: 5.3651 - accuracy: 0.7296 - val_loss: 12.2164 - val_accuracy: 0.5298\n",
            "Epoch 4/70\n",
            "14/14 [==============================] - 14s 1s/step - loss: 3.2062 - accuracy: 0.7949 - val_loss: 12.2701 - val_accuracy: 0.5298\n",
            "Epoch 5/70\n",
            "14/14 [==============================] - 14s 1s/step - loss: 2.7459 - accuracy: 0.8368 - val_loss: 13.3617 - val_accuracy: 0.5417\n",
            "Epoch 6/70\n",
            "14/14 [==============================] - 14s 1s/step - loss: 3.0931 - accuracy: 0.8322 - val_loss: 13.1465 - val_accuracy: 0.5595\n",
            "Epoch 7/70\n",
            "14/14 [==============================] - 14s 1s/step - loss: 2.6200 - accuracy: 0.8555 - val_loss: 14.9038 - val_accuracy: 0.5060\n",
            "Epoch 8/70\n",
            "14/14 [==============================] - 14s 1s/step - loss: 3.0650 - accuracy: 0.8485 - val_loss: 16.0020 - val_accuracy: 0.5357\n",
            "Epoch 9/70\n",
            "14/14 [==============================] - 14s 1s/step - loss: 2.3340 - accuracy: 0.8904 - val_loss: 15.6531 - val_accuracy: 0.5357\n",
            "Epoch 10/70\n",
            "14/14 [==============================] - 14s 1s/step - loss: 1.9692 - accuracy: 0.8881 - val_loss: 16.1535 - val_accuracy: 0.5476\n",
            "Epoch 11/70\n",
            "14/14 [==============================] - 14s 1s/step - loss: 1.5046 - accuracy: 0.9324 - val_loss: 14.6033 - val_accuracy: 0.5952\n",
            "Epoch 12/70\n",
            "14/14 [==============================] - 14s 1s/step - loss: 1.2630 - accuracy: 0.9254 - val_loss: 14.5476 - val_accuracy: 0.5655\n",
            "Epoch 13/70\n",
            "14/14 [==============================] - 14s 1s/step - loss: 0.9349 - accuracy: 0.9347 - val_loss: 17.6050 - val_accuracy: 0.4881\n",
            "Epoch 14/70\n",
            "14/14 [==============================] - 14s 1s/step - loss: 1.4162 - accuracy: 0.9114 - val_loss: 16.7897 - val_accuracy: 0.5476\n",
            "Epoch 15/70\n",
            "14/14 [==============================] - 14s 1s/step - loss: 1.4140 - accuracy: 0.9184 - val_loss: 15.6398 - val_accuracy: 0.5833\n",
            "Epoch 16/70\n",
            "14/14 [==============================] - 14s 1s/step - loss: 0.7671 - accuracy: 0.9697 - val_loss: 17.6611 - val_accuracy: 0.5119\n",
            "Epoch 17/70\n",
            "14/14 [==============================] - 14s 1s/step - loss: 0.7302 - accuracy: 0.9464 - val_loss: 15.2645 - val_accuracy: 0.5833\n",
            "Epoch 18/70\n",
            "14/14 [==============================] - 14s 1s/step - loss: 0.6819 - accuracy: 0.9510 - val_loss: 17.9178 - val_accuracy: 0.5238\n",
            "Epoch 19/70\n",
            "14/14 [==============================] - 15s 1s/step - loss: 0.5361 - accuracy: 0.9674 - val_loss: 18.4077 - val_accuracy: 0.5536\n",
            "Epoch 20/70\n",
            "14/14 [==============================] - 15s 1s/step - loss: 0.8049 - accuracy: 0.9510 - val_loss: 17.0115 - val_accuracy: 0.5595\n",
            "Epoch 21/70\n",
            "14/14 [==============================] - 14s 1s/step - loss: 0.5815 - accuracy: 0.9627 - val_loss: 17.3281 - val_accuracy: 0.5298\n",
            "Epoch 22/70\n",
            "14/14 [==============================] - 14s 1s/step - loss: 0.8448 - accuracy: 0.9487 - val_loss: 18.4603 - val_accuracy: 0.5536\n",
            "Epoch 23/70\n",
            "14/14 [==============================] - 14s 1s/step - loss: 0.2794 - accuracy: 0.9790 - val_loss: 18.0941 - val_accuracy: 0.5655\n",
            "Epoch 24/70\n",
            "14/14 [==============================] - 14s 1s/step - loss: 0.7750 - accuracy: 0.9580 - val_loss: 18.0459 - val_accuracy: 0.5655\n",
            "Epoch 25/70\n",
            "14/14 [==============================] - 14s 1s/step - loss: 0.8822 - accuracy: 0.9487 - val_loss: 21.2717 - val_accuracy: 0.5714\n",
            "Epoch 26/70\n",
            "14/14 [==============================] - 14s 1s/step - loss: 0.6030 - accuracy: 0.9627 - val_loss: 20.1556 - val_accuracy: 0.5536\n",
            "Epoch 27/70\n",
            "14/14 [==============================] - 14s 1s/step - loss: 0.3637 - accuracy: 0.9744 - val_loss: 18.0873 - val_accuracy: 0.5536\n",
            "Epoch 28/70\n",
            "14/14 [==============================] - 14s 1s/step - loss: 0.3805 - accuracy: 0.9650 - val_loss: 20.5385 - val_accuracy: 0.5179\n",
            "Epoch 29/70\n",
            "14/14 [==============================] - 14s 1s/step - loss: 0.6242 - accuracy: 0.9627 - val_loss: 19.3409 - val_accuracy: 0.5298\n",
            "Epoch 30/70\n",
            "14/14 [==============================] - 14s 1s/step - loss: 0.4808 - accuracy: 0.9650 - val_loss: 19.6707 - val_accuracy: 0.5774\n",
            "Epoch 31/70\n",
            "14/14 [==============================] - 14s 1s/step - loss: 0.4840 - accuracy: 0.9604 - val_loss: 21.5667 - val_accuracy: 0.5060\n",
            "Epoch 32/70\n",
            "14/14 [==============================] - 14s 1s/step - loss: 0.3839 - accuracy: 0.9674 - val_loss: 19.6128 - val_accuracy: 0.5536\n",
            "Epoch 33/70\n",
            "14/14 [==============================] - 14s 1s/step - loss: 0.4060 - accuracy: 0.9674 - val_loss: 20.6070 - val_accuracy: 0.5417\n",
            "Epoch 34/70\n",
            "14/14 [==============================] - 14s 1s/step - loss: 0.6767 - accuracy: 0.9534 - val_loss: 20.2345 - val_accuracy: 0.5893\n",
            "Epoch 35/70\n",
            "14/14 [==============================] - 16s 1s/step - loss: 1.2476 - accuracy: 0.9534 - val_loss: 19.2935 - val_accuracy: 0.5833\n",
            "Epoch 36/70\n",
            "14/14 [==============================] - 14s 1s/step - loss: 0.7272 - accuracy: 0.9557 - val_loss: 22.9852 - val_accuracy: 0.5595\n",
            "Epoch 37/70\n",
            "14/14 [==============================] - 14s 1s/step - loss: 0.4778 - accuracy: 0.9720 - val_loss: 22.1381 - val_accuracy: 0.5476\n",
            "Epoch 38/70\n",
            "14/14 [==============================] - 14s 1s/step - loss: 1.0466 - accuracy: 0.9487 - val_loss: 23.4721 - val_accuracy: 0.5417\n",
            "Epoch 39/70\n",
            "14/14 [==============================] - 14s 1s/step - loss: 0.5750 - accuracy: 0.9604 - val_loss: 21.5647 - val_accuracy: 0.6012\n",
            "Epoch 40/70\n",
            "14/14 [==============================] - 14s 1s/step - loss: 0.7777 - accuracy: 0.9604 - val_loss: 22.1575 - val_accuracy: 0.5655\n",
            "Epoch 41/70\n",
            "14/14 [==============================] - 16s 1s/step - loss: 0.3104 - accuracy: 0.9720 - val_loss: 20.8183 - val_accuracy: 0.5833\n",
            "Epoch 42/70\n",
            "14/14 [==============================] - 14s 1s/step - loss: 0.3132 - accuracy: 0.9744 - val_loss: 20.9990 - val_accuracy: 0.5774\n",
            "Epoch 43/70\n",
            "14/14 [==============================] - 14s 1s/step - loss: 0.7307 - accuracy: 0.9557 - val_loss: 23.4787 - val_accuracy: 0.5893\n",
            "Epoch 44/70\n",
            "14/14 [==============================] - 14s 1s/step - loss: 0.5987 - accuracy: 0.9674 - val_loss: 20.3562 - val_accuracy: 0.5952\n",
            "Epoch 45/70\n",
            "14/14 [==============================] - 14s 989ms/step - loss: 1.2582 - accuracy: 0.9534 - val_loss: 21.6760 - val_accuracy: 0.5595\n",
            "Epoch 46/70\n",
            "14/14 [==============================] - 16s 1s/step - loss: 0.6646 - accuracy: 0.9697 - val_loss: 23.2677 - val_accuracy: 0.5595\n",
            "Epoch 47/70\n",
            "14/14 [==============================] - 14s 1s/step - loss: 0.4068 - accuracy: 0.9720 - val_loss: 20.9570 - val_accuracy: 0.5595\n",
            "Epoch 48/70\n",
            "14/14 [==============================] - 14s 1s/step - loss: 0.2689 - accuracy: 0.9814 - val_loss: 17.1906 - val_accuracy: 0.5714\n",
            "Epoch 49/70\n",
            "14/14 [==============================] - 14s 1s/step - loss: 0.2099 - accuracy: 0.9860 - val_loss: 26.5296 - val_accuracy: 0.5238\n",
            "Epoch 50/70\n",
            "14/14 [==============================] - 14s 1s/step - loss: 0.6694 - accuracy: 0.9767 - val_loss: 18.8489 - val_accuracy: 0.5952\n",
            "Epoch 51/70\n",
            "14/14 [==============================] - 15s 1s/step - loss: 0.3911 - accuracy: 0.9767 - val_loss: 19.3501 - val_accuracy: 0.6131\n",
            "Epoch 52/70\n",
            "14/14 [==============================] - 15s 1s/step - loss: 0.2849 - accuracy: 0.9860 - val_loss: 23.9624 - val_accuracy: 0.5833\n",
            "Epoch 53/70\n",
            "14/14 [==============================] - 14s 1s/step - loss: 0.1858 - accuracy: 0.9837 - val_loss: 26.8105 - val_accuracy: 0.5179\n",
            "Epoch 54/70\n",
            "14/14 [==============================] - 14s 1s/step - loss: 0.3424 - accuracy: 0.9767 - val_loss: 24.1236 - val_accuracy: 0.5536\n",
            "Epoch 55/70\n",
            "14/14 [==============================] - 14s 1s/step - loss: 0.4631 - accuracy: 0.9790 - val_loss: 26.9785 - val_accuracy: 0.5119\n",
            "Epoch 56/70\n",
            "14/14 [==============================] - 14s 1s/step - loss: 0.4729 - accuracy: 0.9744 - val_loss: 18.1770 - val_accuracy: 0.6250\n",
            "Epoch 57/70\n",
            "14/14 [==============================] - 14s 1s/step - loss: 0.2802 - accuracy: 0.9837 - val_loss: 22.8343 - val_accuracy: 0.6369\n",
            "Epoch 58/70\n",
            "14/14 [==============================] - 14s 1s/step - loss: 0.4725 - accuracy: 0.9790 - val_loss: 21.6747 - val_accuracy: 0.6131\n",
            "Epoch 59/70\n",
            "14/14 [==============================] - 14s 1s/step - loss: 0.4810 - accuracy: 0.9720 - val_loss: 21.8614 - val_accuracy: 0.6131\n",
            "Epoch 60/70\n",
            "14/14 [==============================] - 14s 1s/step - loss: 0.9615 - accuracy: 0.9674 - val_loss: 21.1437 - val_accuracy: 0.6071\n",
            "Epoch 61/70\n",
            "14/14 [==============================] - 14s 1s/step - loss: 0.3418 - accuracy: 0.9790 - val_loss: 21.2735 - val_accuracy: 0.5893\n",
            "Epoch 62/70\n",
            "14/14 [==============================] - 14s 1s/step - loss: 0.4575 - accuracy: 0.9860 - val_loss: 22.2939 - val_accuracy: 0.5357\n",
            "Epoch 63/70\n",
            "14/14 [==============================] - 14s 1s/step - loss: 0.3274 - accuracy: 0.9837 - val_loss: 23.9591 - val_accuracy: 0.5833\n",
            "Epoch 64/70\n",
            "14/14 [==============================] - 14s 1s/step - loss: 0.5670 - accuracy: 0.9697 - val_loss: 24.1580 - val_accuracy: 0.6131\n",
            "Epoch 65/70\n",
            "14/14 [==============================] - 14s 1s/step - loss: 0.4359 - accuracy: 0.9814 - val_loss: 21.4686 - val_accuracy: 0.5595\n",
            "Epoch 66/70\n",
            "14/14 [==============================] - 14s 1s/step - loss: 0.3576 - accuracy: 0.9790 - val_loss: 27.0852 - val_accuracy: 0.5714\n",
            "Epoch 67/70\n",
            "14/14 [==============================] - 14s 1s/step - loss: 0.3519 - accuracy: 0.9814 - val_loss: 27.6159 - val_accuracy: 0.4940\n",
            "Epoch 68/70\n",
            "14/14 [==============================] - 14s 1s/step - loss: 0.7858 - accuracy: 0.9697 - val_loss: 28.6175 - val_accuracy: 0.5714\n",
            "Epoch 69/70\n",
            "14/14 [==============================] - 14s 1s/step - loss: 0.4787 - accuracy: 0.9790 - val_loss: 26.4549 - val_accuracy: 0.5714\n",
            "Epoch 70/70\n",
            "14/14 [==============================] - 14s 1s/step - loss: 0.6627 - accuracy: 0.9744 - val_loss: 25.5269 - val_accuracy: 0.6071\n"
          ]
        },
        {
          "output_type": "execute_result",
          "data": {
            "text/plain": [
              "<keras.callbacks.History at 0x7ae66c191210>"
            ]
          },
          "metadata": {},
          "execution_count": 42
        }
      ],
      "source": [
        "#application du modele\n",
        "model_vgg.fit(train_set, epochs=70, validation_data=val_set)"
      ]
    },
    {
      "cell_type": "code",
      "execution_count": 43,
      "metadata": {
        "colab": {
          "base_uri": "https://localhost:8080/"
        },
        "id": "Djg2BULAnhS1",
        "outputId": "cec0ae5a-9283-4a21-b249-86b409efe922"
      },
      "outputs": [
        {
          "output_type": "stream",
          "name": "stderr",
          "text": [
            "WARNING:absl:Found untraced functions such as _jit_compiled_convolution_op, _jit_compiled_convolution_op, _jit_compiled_convolution_op, _jit_compiled_convolution_op, _jit_compiled_convolution_op while saving (showing 5 of 13). These functions will not be directly callable after loading.\n"
          ]
        }
      ],
      "source": [
        "#sauvegarde\n",
        "model_vgg.save(\"/content/drive/MyDrive/Projet deep/model_save/vgg_model\")"
      ]
    },
    {
      "cell_type": "markdown",
      "source": [
        "*** fine_tuning vgg16***"
      ],
      "metadata": {
        "id": "j367tBbi-7Tp"
      }
    },
    {
      "cell_type": "code",
      "execution_count": 44,
      "metadata": {
        "id": "4zyWe2meuNbV"
      },
      "outputs": [],
      "source": [
        "#on va faire du fine_tuning c'est à dire on va dire a notre modele que les couches\n",
        "#sont entrainables et on va definir un learning rate entre les differents epochs\n",
        "vgg16_base.trainable=False\n",
        "fine_tuning_at= 100\n",
        "\n",
        "for layer in vgg16_base.layers[:fine_tuning_at]:\n",
        "  layer.trainable=False\n"
      ]
    },
    {
      "cell_type": "code",
      "execution_count": 45,
      "metadata": {
        "colab": {
          "base_uri": "https://localhost:8080/"
        },
        "id": "B5_oZh2KuNeK",
        "outputId": "1fd82534-2739-4f8c-d4ef-b57f2eb4e71d"
      },
      "outputs": [
        {
          "output_type": "stream",
          "name": "stdout",
          "text": [
            "Model: \"model_1\"\n",
            "_________________________________________________________________\n",
            " Layer (type)                Output Shape              Param #   \n",
            "=================================================================\n",
            " input_3 (InputLayer)        [(None, 224, 224, 3)]     0         \n",
            "                                                                 \n",
            " block1_conv1 (Conv2D)       (None, 224, 224, 64)      1792      \n",
            "                                                                 \n",
            " block1_conv2 (Conv2D)       (None, 224, 224, 64)      36928     \n",
            "                                                                 \n",
            " block1_pool (MaxPooling2D)  (None, 112, 112, 64)      0         \n",
            "                                                                 \n",
            " block2_conv1 (Conv2D)       (None, 112, 112, 128)     73856     \n",
            "                                                                 \n",
            " block2_conv2 (Conv2D)       (None, 112, 112, 128)     147584    \n",
            "                                                                 \n",
            " block2_pool (MaxPooling2D)  (None, 56, 56, 128)       0         \n",
            "                                                                 \n",
            " block3_conv1 (Conv2D)       (None, 56, 56, 256)       295168    \n",
            "                                                                 \n",
            " block3_conv2 (Conv2D)       (None, 56, 56, 256)       590080    \n",
            "                                                                 \n",
            " block3_conv3 (Conv2D)       (None, 56, 56, 256)       590080    \n",
            "                                                                 \n",
            " block3_pool (MaxPooling2D)  (None, 28, 28, 256)       0         \n",
            "                                                                 \n",
            " block4_conv1 (Conv2D)       (None, 28, 28, 512)       1180160   \n",
            "                                                                 \n",
            " block4_conv2 (Conv2D)       (None, 28, 28, 512)       2359808   \n",
            "                                                                 \n",
            " block4_conv3 (Conv2D)       (None, 28, 28, 512)       2359808   \n",
            "                                                                 \n",
            " block4_pool (MaxPooling2D)  (None, 14, 14, 512)       0         \n",
            "                                                                 \n",
            " block5_conv1 (Conv2D)       (None, 14, 14, 512)       2359808   \n",
            "                                                                 \n",
            " block5_conv2 (Conv2D)       (None, 14, 14, 512)       2359808   \n",
            "                                                                 \n",
            " block5_conv3 (Conv2D)       (None, 14, 14, 512)       2359808   \n",
            "                                                                 \n",
            " block5_pool (MaxPooling2D)  (None, 7, 7, 512)         0         \n",
            "                                                                 \n",
            " flatten_2 (Flatten)         (None, 25088)             0         \n",
            "                                                                 \n",
            " dense_2 (Dense)             (None, 3)                 75267     \n",
            "                                                                 \n",
            "=================================================================\n",
            "Total params: 14,789,955\n",
            "Trainable params: 75,267\n",
            "Non-trainable params: 14,714,688\n",
            "_________________________________________________________________\n"
          ]
        }
      ],
      "source": [
        "model_vgg_tuned=Model(vgg16_base.input,outputs=prediction)\n",
        "model_vgg_tuned.summary()"
      ]
    },
    {
      "cell_type": "code",
      "execution_count": 46,
      "metadata": {
        "id": "p2o14uoQuNhA"
      },
      "outputs": [],
      "source": [
        "#notre modele sera entrainé sur x parametres\n",
        "model_vgg_tuned.compile(loss=\"categorical_crossentropy\",optimizer=\"adam\",metrics=['accuracy'])"
      ]
    },
    {
      "cell_type": "code",
      "execution_count": 47,
      "metadata": {
        "colab": {
          "base_uri": "https://localhost:8080/"
        },
        "id": "dybcMqcAuNko",
        "outputId": "66571061-86d3-4808-abbc-380122d62272"
      },
      "outputs": [
        {
          "output_type": "stream",
          "name": "stderr",
          "text": [
            "/usr/local/lib/python3.10/dist-packages/keras/preprocessing/image.py:1861: UserWarning: This ImageDataGenerator specifies `featurewise_center`, but it hasn't been fit on any training data. Fit it first by calling `.fit(numpy_data)`.\n",
            "  warnings.warn(\n",
            "/usr/local/lib/python3.10/dist-packages/keras/preprocessing/image.py:1871: UserWarning: This ImageDataGenerator specifies `featurewise_std_normalization`, but it hasn't been fit on any training data. Fit it first by calling `.fit(numpy_data)`.\n",
            "  warnings.warn(\n"
          ]
        },
        {
          "output_type": "stream",
          "name": "stdout",
          "text": [
            "Epoch 1/20\n",
            "14/14 [==============================] - 16s 1s/step - loss: 1.0249 - accuracy: 0.9720 - val_loss: 28.2043 - val_accuracy: 0.5536\n",
            "Epoch 2/20\n",
            "14/14 [==============================] - 14s 1s/step - loss: 0.8233 - accuracy: 0.9557 - val_loss: 33.2073 - val_accuracy: 0.5000\n",
            "Epoch 3/20\n",
            "14/14 [==============================] - 14s 1s/step - loss: 1.3479 - accuracy: 0.9674 - val_loss: 35.6295 - val_accuracy: 0.5119\n",
            "Epoch 4/20\n",
            "14/14 [==============================] - 14s 1s/step - loss: 0.7898 - accuracy: 0.9767 - val_loss: 32.3834 - val_accuracy: 0.5714\n",
            "Epoch 5/20\n",
            "14/14 [==============================] - 14s 1s/step - loss: 1.1954 - accuracy: 0.9604 - val_loss: 36.3554 - val_accuracy: 0.4881\n",
            "Epoch 6/20\n",
            "14/14 [==============================] - 14s 1s/step - loss: 1.4339 - accuracy: 0.9534 - val_loss: 29.3187 - val_accuracy: 0.5774\n",
            "Epoch 7/20\n",
            "14/14 [==============================] - 14s 1s/step - loss: 0.9719 - accuracy: 0.9650 - val_loss: 33.2939 - val_accuracy: 0.5536\n",
            "Epoch 8/20\n",
            "14/14 [==============================] - 15s 1s/step - loss: 0.7665 - accuracy: 0.9674 - val_loss: 31.1836 - val_accuracy: 0.5774\n",
            "Epoch 9/20\n",
            "14/14 [==============================] - 14s 1s/step - loss: 1.0482 - accuracy: 0.9674 - val_loss: 28.9255 - val_accuracy: 0.5536\n",
            "Epoch 10/20\n",
            "14/14 [==============================] - 14s 1s/step - loss: 0.4749 - accuracy: 0.9837 - val_loss: 32.9226 - val_accuracy: 0.5298\n",
            "Epoch 11/20\n",
            "14/14 [==============================] - 14s 1s/step - loss: 0.7119 - accuracy: 0.9767 - val_loss: 33.5339 - val_accuracy: 0.5595\n",
            "Epoch 12/20\n",
            "14/14 [==============================] - 14s 1s/step - loss: 0.7988 - accuracy: 0.9744 - val_loss: 33.0578 - val_accuracy: 0.5238\n",
            "Epoch 13/20\n",
            "14/14 [==============================] - 14s 1s/step - loss: 0.6047 - accuracy: 0.9767 - val_loss: 35.4315 - val_accuracy: 0.5476\n",
            "Epoch 14/20\n",
            "14/14 [==============================] - 14s 1s/step - loss: 1.1869 - accuracy: 0.9580 - val_loss: 30.0130 - val_accuracy: 0.6012\n",
            "Epoch 15/20\n",
            "14/14 [==============================] - 14s 1s/step - loss: 1.4030 - accuracy: 0.9557 - val_loss: 28.5071 - val_accuracy: 0.5714\n",
            "Epoch 16/20\n",
            "14/14 [==============================] - 14s 1s/step - loss: 1.4813 - accuracy: 0.9627 - val_loss: 27.4148 - val_accuracy: 0.6131\n",
            "Epoch 17/20\n",
            "14/14 [==============================] - 14s 1s/step - loss: 1.1833 - accuracy: 0.9790 - val_loss: 36.9361 - val_accuracy: 0.5655\n",
            "Epoch 18/20\n",
            "14/14 [==============================] - 14s 1s/step - loss: 0.4304 - accuracy: 0.9790 - val_loss: 38.4472 - val_accuracy: 0.5714\n",
            "Epoch 19/20\n",
            "14/14 [==============================] - 14s 1s/step - loss: 1.8987 - accuracy: 0.9557 - val_loss: 35.0789 - val_accuracy: 0.5417\n",
            "Epoch 20/20\n",
            "14/14 [==============================] - 14s 1s/step - loss: 1.0295 - accuracy: 0.9767 - val_loss: 33.7649 - val_accuracy: 0.5774\n"
          ]
        }
      ],
      "source": [
        "history_vgg_tuned = model_vgg_tuned.fit(\n",
        "    train_set,\n",
        "    epochs=20,  # Corrected parameter name\n",
        "    validation_data=val_set)\n"
      ]
    },
    {
      "cell_type": "markdown",
      "source": [
        "**Ici on voit que les performances de notre modèle VGG-16 ne s'améliorent pas\n",
        "significativement après le fine tuning, on reste toujours sur des accuracy autour de 0.99\n",
        "sur l'ensemble d'apprentissage et 0.60 sur l'ensemble de validation. Cependant on est encore en surapprentissage**"
      ],
      "metadata": {
        "id": "hyweriOH_XC-"
      }
    },
    {
      "cell_type": "markdown",
      "metadata": {
        "id": "DDkyb4SYnqB4"
      },
      "source": [
        "**3.2 MODELE RESNET**"
      ]
    },
    {
      "cell_type": "code",
      "execution_count": 48,
      "metadata": {
        "id": "K94WJ3PenwDM"
      },
      "outputs": [],
      "source": [
        "from tensorflow.keras.applications.resnet50 import ResNet50"
      ]
    },
    {
      "cell_type": "code",
      "execution_count": 49,
      "metadata": {
        "colab": {
          "base_uri": "https://localhost:8080/"
        },
        "id": "3k2IEbSfnwGe",
        "outputId": "1e2027fa-b199-4817-d1eb-797713adb3d4"
      },
      "outputs": [
        {
          "output_type": "stream",
          "name": "stdout",
          "text": [
            "Downloading data from https://storage.googleapis.com/tensorflow/keras-applications/resnet/resnet50_weights_tf_dim_ordering_tf_kernels_notop.h5\n",
            "94765736/94765736 [==============================] - 0s 0us/step\n",
            "Model: \"resnet50\"\n",
            "__________________________________________________________________________________________________\n",
            " Layer (type)                   Output Shape         Param #     Connected to                     \n",
            "==================================================================================================\n",
            " input_4 (InputLayer)           [(None, 224, 224, 3  0           []                               \n",
            "                                )]                                                                \n",
            "                                                                                                  \n",
            " conv1_pad (ZeroPadding2D)      (None, 230, 230, 3)  0           ['input_4[0][0]']                \n",
            "                                                                                                  \n",
            " conv1_conv (Conv2D)            (None, 112, 112, 64  9472        ['conv1_pad[0][0]']              \n",
            "                                )                                                                 \n",
            "                                                                                                  \n",
            " conv1_bn (BatchNormalization)  (None, 112, 112, 64  256         ['conv1_conv[0][0]']             \n",
            "                                )                                                                 \n",
            "                                                                                                  \n",
            " conv1_relu (Activation)        (None, 112, 112, 64  0           ['conv1_bn[0][0]']               \n",
            "                                )                                                                 \n",
            "                                                                                                  \n",
            " pool1_pad (ZeroPadding2D)      (None, 114, 114, 64  0           ['conv1_relu[0][0]']             \n",
            "                                )                                                                 \n",
            "                                                                                                  \n",
            " pool1_pool (MaxPooling2D)      (None, 56, 56, 64)   0           ['pool1_pad[0][0]']              \n",
            "                                                                                                  \n",
            " conv2_block1_1_conv (Conv2D)   (None, 56, 56, 64)   4160        ['pool1_pool[0][0]']             \n",
            "                                                                                                  \n",
            " conv2_block1_1_bn (BatchNormal  (None, 56, 56, 64)  256         ['conv2_block1_1_conv[0][0]']    \n",
            " ization)                                                                                         \n",
            "                                                                                                  \n",
            " conv2_block1_1_relu (Activatio  (None, 56, 56, 64)  0           ['conv2_block1_1_bn[0][0]']      \n",
            " n)                                                                                               \n",
            "                                                                                                  \n",
            " conv2_block1_2_conv (Conv2D)   (None, 56, 56, 64)   36928       ['conv2_block1_1_relu[0][0]']    \n",
            "                                                                                                  \n",
            " conv2_block1_2_bn (BatchNormal  (None, 56, 56, 64)  256         ['conv2_block1_2_conv[0][0]']    \n",
            " ization)                                                                                         \n",
            "                                                                                                  \n",
            " conv2_block1_2_relu (Activatio  (None, 56, 56, 64)  0           ['conv2_block1_2_bn[0][0]']      \n",
            " n)                                                                                               \n",
            "                                                                                                  \n",
            " conv2_block1_0_conv (Conv2D)   (None, 56, 56, 256)  16640       ['pool1_pool[0][0]']             \n",
            "                                                                                                  \n",
            " conv2_block1_3_conv (Conv2D)   (None, 56, 56, 256)  16640       ['conv2_block1_2_relu[0][0]']    \n",
            "                                                                                                  \n",
            " conv2_block1_0_bn (BatchNormal  (None, 56, 56, 256)  1024       ['conv2_block1_0_conv[0][0]']    \n",
            " ization)                                                                                         \n",
            "                                                                                                  \n",
            " conv2_block1_3_bn (BatchNormal  (None, 56, 56, 256)  1024       ['conv2_block1_3_conv[0][0]']    \n",
            " ization)                                                                                         \n",
            "                                                                                                  \n",
            " conv2_block1_add (Add)         (None, 56, 56, 256)  0           ['conv2_block1_0_bn[0][0]',      \n",
            "                                                                  'conv2_block1_3_bn[0][0]']      \n",
            "                                                                                                  \n",
            " conv2_block1_out (Activation)  (None, 56, 56, 256)  0           ['conv2_block1_add[0][0]']       \n",
            "                                                                                                  \n",
            " conv2_block2_1_conv (Conv2D)   (None, 56, 56, 64)   16448       ['conv2_block1_out[0][0]']       \n",
            "                                                                                                  \n",
            " conv2_block2_1_bn (BatchNormal  (None, 56, 56, 64)  256         ['conv2_block2_1_conv[0][0]']    \n",
            " ization)                                                                                         \n",
            "                                                                                                  \n",
            " conv2_block2_1_relu (Activatio  (None, 56, 56, 64)  0           ['conv2_block2_1_bn[0][0]']      \n",
            " n)                                                                                               \n",
            "                                                                                                  \n",
            " conv2_block2_2_conv (Conv2D)   (None, 56, 56, 64)   36928       ['conv2_block2_1_relu[0][0]']    \n",
            "                                                                                                  \n",
            " conv2_block2_2_bn (BatchNormal  (None, 56, 56, 64)  256         ['conv2_block2_2_conv[0][0]']    \n",
            " ization)                                                                                         \n",
            "                                                                                                  \n",
            " conv2_block2_2_relu (Activatio  (None, 56, 56, 64)  0           ['conv2_block2_2_bn[0][0]']      \n",
            " n)                                                                                               \n",
            "                                                                                                  \n",
            " conv2_block2_3_conv (Conv2D)   (None, 56, 56, 256)  16640       ['conv2_block2_2_relu[0][0]']    \n",
            "                                                                                                  \n",
            " conv2_block2_3_bn (BatchNormal  (None, 56, 56, 256)  1024       ['conv2_block2_3_conv[0][0]']    \n",
            " ization)                                                                                         \n",
            "                                                                                                  \n",
            " conv2_block2_add (Add)         (None, 56, 56, 256)  0           ['conv2_block1_out[0][0]',       \n",
            "                                                                  'conv2_block2_3_bn[0][0]']      \n",
            "                                                                                                  \n",
            " conv2_block2_out (Activation)  (None, 56, 56, 256)  0           ['conv2_block2_add[0][0]']       \n",
            "                                                                                                  \n",
            " conv2_block3_1_conv (Conv2D)   (None, 56, 56, 64)   16448       ['conv2_block2_out[0][0]']       \n",
            "                                                                                                  \n",
            " conv2_block3_1_bn (BatchNormal  (None, 56, 56, 64)  256         ['conv2_block3_1_conv[0][0]']    \n",
            " ization)                                                                                         \n",
            "                                                                                                  \n",
            " conv2_block3_1_relu (Activatio  (None, 56, 56, 64)  0           ['conv2_block3_1_bn[0][0]']      \n",
            " n)                                                                                               \n",
            "                                                                                                  \n",
            " conv2_block3_2_conv (Conv2D)   (None, 56, 56, 64)   36928       ['conv2_block3_1_relu[0][0]']    \n",
            "                                                                                                  \n",
            " conv2_block3_2_bn (BatchNormal  (None, 56, 56, 64)  256         ['conv2_block3_2_conv[0][0]']    \n",
            " ization)                                                                                         \n",
            "                                                                                                  \n",
            " conv2_block3_2_relu (Activatio  (None, 56, 56, 64)  0           ['conv2_block3_2_bn[0][0]']      \n",
            " n)                                                                                               \n",
            "                                                                                                  \n",
            " conv2_block3_3_conv (Conv2D)   (None, 56, 56, 256)  16640       ['conv2_block3_2_relu[0][0]']    \n",
            "                                                                                                  \n",
            " conv2_block3_3_bn (BatchNormal  (None, 56, 56, 256)  1024       ['conv2_block3_3_conv[0][0]']    \n",
            " ization)                                                                                         \n",
            "                                                                                                  \n",
            " conv2_block3_add (Add)         (None, 56, 56, 256)  0           ['conv2_block2_out[0][0]',       \n",
            "                                                                  'conv2_block3_3_bn[0][0]']      \n",
            "                                                                                                  \n",
            " conv2_block3_out (Activation)  (None, 56, 56, 256)  0           ['conv2_block3_add[0][0]']       \n",
            "                                                                                                  \n",
            " conv3_block1_1_conv (Conv2D)   (None, 28, 28, 128)  32896       ['conv2_block3_out[0][0]']       \n",
            "                                                                                                  \n",
            " conv3_block1_1_bn (BatchNormal  (None, 28, 28, 128)  512        ['conv3_block1_1_conv[0][0]']    \n",
            " ization)                                                                                         \n",
            "                                                                                                  \n",
            " conv3_block1_1_relu (Activatio  (None, 28, 28, 128)  0          ['conv3_block1_1_bn[0][0]']      \n",
            " n)                                                                                               \n",
            "                                                                                                  \n",
            " conv3_block1_2_conv (Conv2D)   (None, 28, 28, 128)  147584      ['conv3_block1_1_relu[0][0]']    \n",
            "                                                                                                  \n",
            " conv3_block1_2_bn (BatchNormal  (None, 28, 28, 128)  512        ['conv3_block1_2_conv[0][0]']    \n",
            " ization)                                                                                         \n",
            "                                                                                                  \n",
            " conv3_block1_2_relu (Activatio  (None, 28, 28, 128)  0          ['conv3_block1_2_bn[0][0]']      \n",
            " n)                                                                                               \n",
            "                                                                                                  \n",
            " conv3_block1_0_conv (Conv2D)   (None, 28, 28, 512)  131584      ['conv2_block3_out[0][0]']       \n",
            "                                                                                                  \n",
            " conv3_block1_3_conv (Conv2D)   (None, 28, 28, 512)  66048       ['conv3_block1_2_relu[0][0]']    \n",
            "                                                                                                  \n",
            " conv3_block1_0_bn (BatchNormal  (None, 28, 28, 512)  2048       ['conv3_block1_0_conv[0][0]']    \n",
            " ization)                                                                                         \n",
            "                                                                                                  \n",
            " conv3_block1_3_bn (BatchNormal  (None, 28, 28, 512)  2048       ['conv3_block1_3_conv[0][0]']    \n",
            " ization)                                                                                         \n",
            "                                                                                                  \n",
            " conv3_block1_add (Add)         (None, 28, 28, 512)  0           ['conv3_block1_0_bn[0][0]',      \n",
            "                                                                  'conv3_block1_3_bn[0][0]']      \n",
            "                                                                                                  \n",
            " conv3_block1_out (Activation)  (None, 28, 28, 512)  0           ['conv3_block1_add[0][0]']       \n",
            "                                                                                                  \n",
            " conv3_block2_1_conv (Conv2D)   (None, 28, 28, 128)  65664       ['conv3_block1_out[0][0]']       \n",
            "                                                                                                  \n",
            " conv3_block2_1_bn (BatchNormal  (None, 28, 28, 128)  512        ['conv3_block2_1_conv[0][0]']    \n",
            " ization)                                                                                         \n",
            "                                                                                                  \n",
            " conv3_block2_1_relu (Activatio  (None, 28, 28, 128)  0          ['conv3_block2_1_bn[0][0]']      \n",
            " n)                                                                                               \n",
            "                                                                                                  \n",
            " conv3_block2_2_conv (Conv2D)   (None, 28, 28, 128)  147584      ['conv3_block2_1_relu[0][0]']    \n",
            "                                                                                                  \n",
            " conv3_block2_2_bn (BatchNormal  (None, 28, 28, 128)  512        ['conv3_block2_2_conv[0][0]']    \n",
            " ization)                                                                                         \n",
            "                                                                                                  \n",
            " conv3_block2_2_relu (Activatio  (None, 28, 28, 128)  0          ['conv3_block2_2_bn[0][0]']      \n",
            " n)                                                                                               \n",
            "                                                                                                  \n",
            " conv3_block2_3_conv (Conv2D)   (None, 28, 28, 512)  66048       ['conv3_block2_2_relu[0][0]']    \n",
            "                                                                                                  \n",
            " conv3_block2_3_bn (BatchNormal  (None, 28, 28, 512)  2048       ['conv3_block2_3_conv[0][0]']    \n",
            " ization)                                                                                         \n",
            "                                                                                                  \n",
            " conv3_block2_add (Add)         (None, 28, 28, 512)  0           ['conv3_block1_out[0][0]',       \n",
            "                                                                  'conv3_block2_3_bn[0][0]']      \n",
            "                                                                                                  \n",
            " conv3_block2_out (Activation)  (None, 28, 28, 512)  0           ['conv3_block2_add[0][0]']       \n",
            "                                                                                                  \n",
            " conv3_block3_1_conv (Conv2D)   (None, 28, 28, 128)  65664       ['conv3_block2_out[0][0]']       \n",
            "                                                                                                  \n",
            " conv3_block3_1_bn (BatchNormal  (None, 28, 28, 128)  512        ['conv3_block3_1_conv[0][0]']    \n",
            " ization)                                                                                         \n",
            "                                                                                                  \n",
            " conv3_block3_1_relu (Activatio  (None, 28, 28, 128)  0          ['conv3_block3_1_bn[0][0]']      \n",
            " n)                                                                                               \n",
            "                                                                                                  \n",
            " conv3_block3_2_conv (Conv2D)   (None, 28, 28, 128)  147584      ['conv3_block3_1_relu[0][0]']    \n",
            "                                                                                                  \n",
            " conv3_block3_2_bn (BatchNormal  (None, 28, 28, 128)  512        ['conv3_block3_2_conv[0][0]']    \n",
            " ization)                                                                                         \n",
            "                                                                                                  \n",
            " conv3_block3_2_relu (Activatio  (None, 28, 28, 128)  0          ['conv3_block3_2_bn[0][0]']      \n",
            " n)                                                                                               \n",
            "                                                                                                  \n",
            " conv3_block3_3_conv (Conv2D)   (None, 28, 28, 512)  66048       ['conv3_block3_2_relu[0][0]']    \n",
            "                                                                                                  \n",
            " conv3_block3_3_bn (BatchNormal  (None, 28, 28, 512)  2048       ['conv3_block3_3_conv[0][0]']    \n",
            " ization)                                                                                         \n",
            "                                                                                                  \n",
            " conv3_block3_add (Add)         (None, 28, 28, 512)  0           ['conv3_block2_out[0][0]',       \n",
            "                                                                  'conv3_block3_3_bn[0][0]']      \n",
            "                                                                                                  \n",
            " conv3_block3_out (Activation)  (None, 28, 28, 512)  0           ['conv3_block3_add[0][0]']       \n",
            "                                                                                                  \n",
            " conv3_block4_1_conv (Conv2D)   (None, 28, 28, 128)  65664       ['conv3_block3_out[0][0]']       \n",
            "                                                                                                  \n",
            " conv3_block4_1_bn (BatchNormal  (None, 28, 28, 128)  512        ['conv3_block4_1_conv[0][0]']    \n",
            " ization)                                                                                         \n",
            "                                                                                                  \n",
            " conv3_block4_1_relu (Activatio  (None, 28, 28, 128)  0          ['conv3_block4_1_bn[0][0]']      \n",
            " n)                                                                                               \n",
            "                                                                                                  \n",
            " conv3_block4_2_conv (Conv2D)   (None, 28, 28, 128)  147584      ['conv3_block4_1_relu[0][0]']    \n",
            "                                                                                                  \n",
            " conv3_block4_2_bn (BatchNormal  (None, 28, 28, 128)  512        ['conv3_block4_2_conv[0][0]']    \n",
            " ization)                                                                                         \n",
            "                                                                                                  \n",
            " conv3_block4_2_relu (Activatio  (None, 28, 28, 128)  0          ['conv3_block4_2_bn[0][0]']      \n",
            " n)                                                                                               \n",
            "                                                                                                  \n",
            " conv3_block4_3_conv (Conv2D)   (None, 28, 28, 512)  66048       ['conv3_block4_2_relu[0][0]']    \n",
            "                                                                                                  \n",
            " conv3_block4_3_bn (BatchNormal  (None, 28, 28, 512)  2048       ['conv3_block4_3_conv[0][0]']    \n",
            " ization)                                                                                         \n",
            "                                                                                                  \n",
            " conv3_block4_add (Add)         (None, 28, 28, 512)  0           ['conv3_block3_out[0][0]',       \n",
            "                                                                  'conv3_block4_3_bn[0][0]']      \n",
            "                                                                                                  \n",
            " conv3_block4_out (Activation)  (None, 28, 28, 512)  0           ['conv3_block4_add[0][0]']       \n",
            "                                                                                                  \n",
            " conv4_block1_1_conv (Conv2D)   (None, 14, 14, 256)  131328      ['conv3_block4_out[0][0]']       \n",
            "                                                                                                  \n",
            " conv4_block1_1_bn (BatchNormal  (None, 14, 14, 256)  1024       ['conv4_block1_1_conv[0][0]']    \n",
            " ization)                                                                                         \n",
            "                                                                                                  \n",
            " conv4_block1_1_relu (Activatio  (None, 14, 14, 256)  0          ['conv4_block1_1_bn[0][0]']      \n",
            " n)                                                                                               \n",
            "                                                                                                  \n",
            " conv4_block1_2_conv (Conv2D)   (None, 14, 14, 256)  590080      ['conv4_block1_1_relu[0][0]']    \n",
            "                                                                                                  \n",
            " conv4_block1_2_bn (BatchNormal  (None, 14, 14, 256)  1024       ['conv4_block1_2_conv[0][0]']    \n",
            " ization)                                                                                         \n",
            "                                                                                                  \n",
            " conv4_block1_2_relu (Activatio  (None, 14, 14, 256)  0          ['conv4_block1_2_bn[0][0]']      \n",
            " n)                                                                                               \n",
            "                                                                                                  \n",
            " conv4_block1_0_conv (Conv2D)   (None, 14, 14, 1024  525312      ['conv3_block4_out[0][0]']       \n",
            "                                )                                                                 \n",
            "                                                                                                  \n",
            " conv4_block1_3_conv (Conv2D)   (None, 14, 14, 1024  263168      ['conv4_block1_2_relu[0][0]']    \n",
            "                                )                                                                 \n",
            "                                                                                                  \n",
            " conv4_block1_0_bn (BatchNormal  (None, 14, 14, 1024  4096       ['conv4_block1_0_conv[0][0]']    \n",
            " ization)                       )                                                                 \n",
            "                                                                                                  \n",
            " conv4_block1_3_bn (BatchNormal  (None, 14, 14, 1024  4096       ['conv4_block1_3_conv[0][0]']    \n",
            " ization)                       )                                                                 \n",
            "                                                                                                  \n",
            " conv4_block1_add (Add)         (None, 14, 14, 1024  0           ['conv4_block1_0_bn[0][0]',      \n",
            "                                )                                 'conv4_block1_3_bn[0][0]']      \n",
            "                                                                                                  \n",
            " conv4_block1_out (Activation)  (None, 14, 14, 1024  0           ['conv4_block1_add[0][0]']       \n",
            "                                )                                                                 \n",
            "                                                                                                  \n",
            " conv4_block2_1_conv (Conv2D)   (None, 14, 14, 256)  262400      ['conv4_block1_out[0][0]']       \n",
            "                                                                                                  \n",
            " conv4_block2_1_bn (BatchNormal  (None, 14, 14, 256)  1024       ['conv4_block2_1_conv[0][0]']    \n",
            " ization)                                                                                         \n",
            "                                                                                                  \n",
            " conv4_block2_1_relu (Activatio  (None, 14, 14, 256)  0          ['conv4_block2_1_bn[0][0]']      \n",
            " n)                                                                                               \n",
            "                                                                                                  \n",
            " conv4_block2_2_conv (Conv2D)   (None, 14, 14, 256)  590080      ['conv4_block2_1_relu[0][0]']    \n",
            "                                                                                                  \n",
            " conv4_block2_2_bn (BatchNormal  (None, 14, 14, 256)  1024       ['conv4_block2_2_conv[0][0]']    \n",
            " ization)                                                                                         \n",
            "                                                                                                  \n",
            " conv4_block2_2_relu (Activatio  (None, 14, 14, 256)  0          ['conv4_block2_2_bn[0][0]']      \n",
            " n)                                                                                               \n",
            "                                                                                                  \n",
            " conv4_block2_3_conv (Conv2D)   (None, 14, 14, 1024  263168      ['conv4_block2_2_relu[0][0]']    \n",
            "                                )                                                                 \n",
            "                                                                                                  \n",
            " conv4_block2_3_bn (BatchNormal  (None, 14, 14, 1024  4096       ['conv4_block2_3_conv[0][0]']    \n",
            " ization)                       )                                                                 \n",
            "                                                                                                  \n",
            " conv4_block2_add (Add)         (None, 14, 14, 1024  0           ['conv4_block1_out[0][0]',       \n",
            "                                )                                 'conv4_block2_3_bn[0][0]']      \n",
            "                                                                                                  \n",
            " conv4_block2_out (Activation)  (None, 14, 14, 1024  0           ['conv4_block2_add[0][0]']       \n",
            "                                )                                                                 \n",
            "                                                                                                  \n",
            " conv4_block3_1_conv (Conv2D)   (None, 14, 14, 256)  262400      ['conv4_block2_out[0][0]']       \n",
            "                                                                                                  \n",
            " conv4_block3_1_bn (BatchNormal  (None, 14, 14, 256)  1024       ['conv4_block3_1_conv[0][0]']    \n",
            " ization)                                                                                         \n",
            "                                                                                                  \n",
            " conv4_block3_1_relu (Activatio  (None, 14, 14, 256)  0          ['conv4_block3_1_bn[0][0]']      \n",
            " n)                                                                                               \n",
            "                                                                                                  \n",
            " conv4_block3_2_conv (Conv2D)   (None, 14, 14, 256)  590080      ['conv4_block3_1_relu[0][0]']    \n",
            "                                                                                                  \n",
            " conv4_block3_2_bn (BatchNormal  (None, 14, 14, 256)  1024       ['conv4_block3_2_conv[0][0]']    \n",
            " ization)                                                                                         \n",
            "                                                                                                  \n",
            " conv4_block3_2_relu (Activatio  (None, 14, 14, 256)  0          ['conv4_block3_2_bn[0][0]']      \n",
            " n)                                                                                               \n",
            "                                                                                                  \n",
            " conv4_block3_3_conv (Conv2D)   (None, 14, 14, 1024  263168      ['conv4_block3_2_relu[0][0]']    \n",
            "                                )                                                                 \n",
            "                                                                                                  \n",
            " conv4_block3_3_bn (BatchNormal  (None, 14, 14, 1024  4096       ['conv4_block3_3_conv[0][0]']    \n",
            " ization)                       )                                                                 \n",
            "                                                                                                  \n",
            " conv4_block3_add (Add)         (None, 14, 14, 1024  0           ['conv4_block2_out[0][0]',       \n",
            "                                )                                 'conv4_block3_3_bn[0][0]']      \n",
            "                                                                                                  \n",
            " conv4_block3_out (Activation)  (None, 14, 14, 1024  0           ['conv4_block3_add[0][0]']       \n",
            "                                )                                                                 \n",
            "                                                                                                  \n",
            " conv4_block4_1_conv (Conv2D)   (None, 14, 14, 256)  262400      ['conv4_block3_out[0][0]']       \n",
            "                                                                                                  \n",
            " conv4_block4_1_bn (BatchNormal  (None, 14, 14, 256)  1024       ['conv4_block4_1_conv[0][0]']    \n",
            " ization)                                                                                         \n",
            "                                                                                                  \n",
            " conv4_block4_1_relu (Activatio  (None, 14, 14, 256)  0          ['conv4_block4_1_bn[0][0]']      \n",
            " n)                                                                                               \n",
            "                                                                                                  \n",
            " conv4_block4_2_conv (Conv2D)   (None, 14, 14, 256)  590080      ['conv4_block4_1_relu[0][0]']    \n",
            "                                                                                                  \n",
            " conv4_block4_2_bn (BatchNormal  (None, 14, 14, 256)  1024       ['conv4_block4_2_conv[0][0]']    \n",
            " ization)                                                                                         \n",
            "                                                                                                  \n",
            " conv4_block4_2_relu (Activatio  (None, 14, 14, 256)  0          ['conv4_block4_2_bn[0][0]']      \n",
            " n)                                                                                               \n",
            "                                                                                                  \n",
            " conv4_block4_3_conv (Conv2D)   (None, 14, 14, 1024  263168      ['conv4_block4_2_relu[0][0]']    \n",
            "                                )                                                                 \n",
            "                                                                                                  \n",
            " conv4_block4_3_bn (BatchNormal  (None, 14, 14, 1024  4096       ['conv4_block4_3_conv[0][0]']    \n",
            " ization)                       )                                                                 \n",
            "                                                                                                  \n",
            " conv4_block4_add (Add)         (None, 14, 14, 1024  0           ['conv4_block3_out[0][0]',       \n",
            "                                )                                 'conv4_block4_3_bn[0][0]']      \n",
            "                                                                                                  \n",
            " conv4_block4_out (Activation)  (None, 14, 14, 1024  0           ['conv4_block4_add[0][0]']       \n",
            "                                )                                                                 \n",
            "                                                                                                  \n",
            " conv4_block5_1_conv (Conv2D)   (None, 14, 14, 256)  262400      ['conv4_block4_out[0][0]']       \n",
            "                                                                                                  \n",
            " conv4_block5_1_bn (BatchNormal  (None, 14, 14, 256)  1024       ['conv4_block5_1_conv[0][0]']    \n",
            " ization)                                                                                         \n",
            "                                                                                                  \n",
            " conv4_block5_1_relu (Activatio  (None, 14, 14, 256)  0          ['conv4_block5_1_bn[0][0]']      \n",
            " n)                                                                                               \n",
            "                                                                                                  \n",
            " conv4_block5_2_conv (Conv2D)   (None, 14, 14, 256)  590080      ['conv4_block5_1_relu[0][0]']    \n",
            "                                                                                                  \n",
            " conv4_block5_2_bn (BatchNormal  (None, 14, 14, 256)  1024       ['conv4_block5_2_conv[0][0]']    \n",
            " ization)                                                                                         \n",
            "                                                                                                  \n",
            " conv4_block5_2_relu (Activatio  (None, 14, 14, 256)  0          ['conv4_block5_2_bn[0][0]']      \n",
            " n)                                                                                               \n",
            "                                                                                                  \n",
            " conv4_block5_3_conv (Conv2D)   (None, 14, 14, 1024  263168      ['conv4_block5_2_relu[0][0]']    \n",
            "                                )                                                                 \n",
            "                                                                                                  \n",
            " conv4_block5_3_bn (BatchNormal  (None, 14, 14, 1024  4096       ['conv4_block5_3_conv[0][0]']    \n",
            " ization)                       )                                                                 \n",
            "                                                                                                  \n",
            " conv4_block5_add (Add)         (None, 14, 14, 1024  0           ['conv4_block4_out[0][0]',       \n",
            "                                )                                 'conv4_block5_3_bn[0][0]']      \n",
            "                                                                                                  \n",
            " conv4_block5_out (Activation)  (None, 14, 14, 1024  0           ['conv4_block5_add[0][0]']       \n",
            "                                )                                                                 \n",
            "                                                                                                  \n",
            " conv4_block6_1_conv (Conv2D)   (None, 14, 14, 256)  262400      ['conv4_block5_out[0][0]']       \n",
            "                                                                                                  \n",
            " conv4_block6_1_bn (BatchNormal  (None, 14, 14, 256)  1024       ['conv4_block6_1_conv[0][0]']    \n",
            " ization)                                                                                         \n",
            "                                                                                                  \n",
            " conv4_block6_1_relu (Activatio  (None, 14, 14, 256)  0          ['conv4_block6_1_bn[0][0]']      \n",
            " n)                                                                                               \n",
            "                                                                                                  \n",
            " conv4_block6_2_conv (Conv2D)   (None, 14, 14, 256)  590080      ['conv4_block6_1_relu[0][0]']    \n",
            "                                                                                                  \n",
            " conv4_block6_2_bn (BatchNormal  (None, 14, 14, 256)  1024       ['conv4_block6_2_conv[0][0]']    \n",
            " ization)                                                                                         \n",
            "                                                                                                  \n",
            " conv4_block6_2_relu (Activatio  (None, 14, 14, 256)  0          ['conv4_block6_2_bn[0][0]']      \n",
            " n)                                                                                               \n",
            "                                                                                                  \n",
            " conv4_block6_3_conv (Conv2D)   (None, 14, 14, 1024  263168      ['conv4_block6_2_relu[0][0]']    \n",
            "                                )                                                                 \n",
            "                                                                                                  \n",
            " conv4_block6_3_bn (BatchNormal  (None, 14, 14, 1024  4096       ['conv4_block6_3_conv[0][0]']    \n",
            " ization)                       )                                                                 \n",
            "                                                                                                  \n",
            " conv4_block6_add (Add)         (None, 14, 14, 1024  0           ['conv4_block5_out[0][0]',       \n",
            "                                )                                 'conv4_block6_3_bn[0][0]']      \n",
            "                                                                                                  \n",
            " conv4_block6_out (Activation)  (None, 14, 14, 1024  0           ['conv4_block6_add[0][0]']       \n",
            "                                )                                                                 \n",
            "                                                                                                  \n",
            " conv5_block1_1_conv (Conv2D)   (None, 7, 7, 512)    524800      ['conv4_block6_out[0][0]']       \n",
            "                                                                                                  \n",
            " conv5_block1_1_bn (BatchNormal  (None, 7, 7, 512)   2048        ['conv5_block1_1_conv[0][0]']    \n",
            " ization)                                                                                         \n",
            "                                                                                                  \n",
            " conv5_block1_1_relu (Activatio  (None, 7, 7, 512)   0           ['conv5_block1_1_bn[0][0]']      \n",
            " n)                                                                                               \n",
            "                                                                                                  \n",
            " conv5_block1_2_conv (Conv2D)   (None, 7, 7, 512)    2359808     ['conv5_block1_1_relu[0][0]']    \n",
            "                                                                                                  \n",
            " conv5_block1_2_bn (BatchNormal  (None, 7, 7, 512)   2048        ['conv5_block1_2_conv[0][0]']    \n",
            " ization)                                                                                         \n",
            "                                                                                                  \n",
            " conv5_block1_2_relu (Activatio  (None, 7, 7, 512)   0           ['conv5_block1_2_bn[0][0]']      \n",
            " n)                                                                                               \n",
            "                                                                                                  \n",
            " conv5_block1_0_conv (Conv2D)   (None, 7, 7, 2048)   2099200     ['conv4_block6_out[0][0]']       \n",
            "                                                                                                  \n",
            " conv5_block1_3_conv (Conv2D)   (None, 7, 7, 2048)   1050624     ['conv5_block1_2_relu[0][0]']    \n",
            "                                                                                                  \n",
            " conv5_block1_0_bn (BatchNormal  (None, 7, 7, 2048)  8192        ['conv5_block1_0_conv[0][0]']    \n",
            " ization)                                                                                         \n",
            "                                                                                                  \n",
            " conv5_block1_3_bn (BatchNormal  (None, 7, 7, 2048)  8192        ['conv5_block1_3_conv[0][0]']    \n",
            " ization)                                                                                         \n",
            "                                                                                                  \n",
            " conv5_block1_add (Add)         (None, 7, 7, 2048)   0           ['conv5_block1_0_bn[0][0]',      \n",
            "                                                                  'conv5_block1_3_bn[0][0]']      \n",
            "                                                                                                  \n",
            " conv5_block1_out (Activation)  (None, 7, 7, 2048)   0           ['conv5_block1_add[0][0]']       \n",
            "                                                                                                  \n",
            " conv5_block2_1_conv (Conv2D)   (None, 7, 7, 512)    1049088     ['conv5_block1_out[0][0]']       \n",
            "                                                                                                  \n",
            " conv5_block2_1_bn (BatchNormal  (None, 7, 7, 512)   2048        ['conv5_block2_1_conv[0][0]']    \n",
            " ization)                                                                                         \n",
            "                                                                                                  \n",
            " conv5_block2_1_relu (Activatio  (None, 7, 7, 512)   0           ['conv5_block2_1_bn[0][0]']      \n",
            " n)                                                                                               \n",
            "                                                                                                  \n",
            " conv5_block2_2_conv (Conv2D)   (None, 7, 7, 512)    2359808     ['conv5_block2_1_relu[0][0]']    \n",
            "                                                                                                  \n",
            " conv5_block2_2_bn (BatchNormal  (None, 7, 7, 512)   2048        ['conv5_block2_2_conv[0][0]']    \n",
            " ization)                                                                                         \n",
            "                                                                                                  \n",
            " conv5_block2_2_relu (Activatio  (None, 7, 7, 512)   0           ['conv5_block2_2_bn[0][0]']      \n",
            " n)                                                                                               \n",
            "                                                                                                  \n",
            " conv5_block2_3_conv (Conv2D)   (None, 7, 7, 2048)   1050624     ['conv5_block2_2_relu[0][0]']    \n",
            "                                                                                                  \n",
            " conv5_block2_3_bn (BatchNormal  (None, 7, 7, 2048)  8192        ['conv5_block2_3_conv[0][0]']    \n",
            " ization)                                                                                         \n",
            "                                                                                                  \n",
            " conv5_block2_add (Add)         (None, 7, 7, 2048)   0           ['conv5_block1_out[0][0]',       \n",
            "                                                                  'conv5_block2_3_bn[0][0]']      \n",
            "                                                                                                  \n",
            " conv5_block2_out (Activation)  (None, 7, 7, 2048)   0           ['conv5_block2_add[0][0]']       \n",
            "                                                                                                  \n",
            " conv5_block3_1_conv (Conv2D)   (None, 7, 7, 512)    1049088     ['conv5_block2_out[0][0]']       \n",
            "                                                                                                  \n",
            " conv5_block3_1_bn (BatchNormal  (None, 7, 7, 512)   2048        ['conv5_block3_1_conv[0][0]']    \n",
            " ization)                                                                                         \n",
            "                                                                                                  \n",
            " conv5_block3_1_relu (Activatio  (None, 7, 7, 512)   0           ['conv5_block3_1_bn[0][0]']      \n",
            " n)                                                                                               \n",
            "                                                                                                  \n",
            " conv5_block3_2_conv (Conv2D)   (None, 7, 7, 512)    2359808     ['conv5_block3_1_relu[0][0]']    \n",
            "                                                                                                  \n",
            " conv5_block3_2_bn (BatchNormal  (None, 7, 7, 512)   2048        ['conv5_block3_2_conv[0][0]']    \n",
            " ization)                                                                                         \n",
            "                                                                                                  \n",
            " conv5_block3_2_relu (Activatio  (None, 7, 7, 512)   0           ['conv5_block3_2_bn[0][0]']      \n",
            " n)                                                                                               \n",
            "                                                                                                  \n",
            " conv5_block3_3_conv (Conv2D)   (None, 7, 7, 2048)   1050624     ['conv5_block3_2_relu[0][0]']    \n",
            "                                                                                                  \n",
            " conv5_block3_3_bn (BatchNormal  (None, 7, 7, 2048)  8192        ['conv5_block3_3_conv[0][0]']    \n",
            " ization)                                                                                         \n",
            "                                                                                                  \n",
            " conv5_block3_add (Add)         (None, 7, 7, 2048)   0           ['conv5_block2_out[0][0]',       \n",
            "                                                                  'conv5_block3_3_bn[0][0]']      \n",
            "                                                                                                  \n",
            " conv5_block3_out (Activation)  (None, 7, 7, 2048)   0           ['conv5_block3_add[0][0]']       \n",
            "                                                                                                  \n",
            "==================================================================================================\n",
            "Total params: 23,587,712\n",
            "Trainable params: 23,534,592\n",
            "Non-trainable params: 53,120\n",
            "__________________________________________________________________________________________________\n"
          ]
        }
      ],
      "source": [
        "resnet_base=ResNet50(weights=\"imagenet\",include_top=False,input_shape=input_shape)\n",
        "resnet_base.summary()"
      ]
    },
    {
      "cell_type": "code",
      "execution_count": 50,
      "metadata": {
        "id": "U0jw1b1qyKel"
      },
      "outputs": [],
      "source": [
        "resnet_base.trainable=False"
      ]
    },
    {
      "cell_type": "code",
      "execution_count": 51,
      "metadata": {
        "id": "YWay-bnIyKh1"
      },
      "outputs": [],
      "source": [
        "#Ajouter les couches de sorties\n",
        "#mettre 2 couches\n",
        "x=Flatten() (resnet_base.output)\n",
        "prediction= Dense(3,activation=\"softmax\")(x)"
      ]
    },
    {
      "cell_type": "code",
      "execution_count": 52,
      "metadata": {
        "colab": {
          "base_uri": "https://localhost:8080/"
        },
        "id": "jyIE-WUfyKlR",
        "outputId": "de83d242-e3e6-42b4-bde3-00d2a5c645da"
      },
      "outputs": [
        {
          "output_type": "stream",
          "name": "stdout",
          "text": [
            "Model: \"model_2\"\n",
            "__________________________________________________________________________________________________\n",
            " Layer (type)                   Output Shape         Param #     Connected to                     \n",
            "==================================================================================================\n",
            " input_4 (InputLayer)           [(None, 224, 224, 3  0           []                               \n",
            "                                )]                                                                \n",
            "                                                                                                  \n",
            " conv1_pad (ZeroPadding2D)      (None, 230, 230, 3)  0           ['input_4[0][0]']                \n",
            "                                                                                                  \n",
            " conv1_conv (Conv2D)            (None, 112, 112, 64  9472        ['conv1_pad[0][0]']              \n",
            "                                )                                                                 \n",
            "                                                                                                  \n",
            " conv1_bn (BatchNormalization)  (None, 112, 112, 64  256         ['conv1_conv[0][0]']             \n",
            "                                )                                                                 \n",
            "                                                                                                  \n",
            " conv1_relu (Activation)        (None, 112, 112, 64  0           ['conv1_bn[0][0]']               \n",
            "                                )                                                                 \n",
            "                                                                                                  \n",
            " pool1_pad (ZeroPadding2D)      (None, 114, 114, 64  0           ['conv1_relu[0][0]']             \n",
            "                                )                                                                 \n",
            "                                                                                                  \n",
            " pool1_pool (MaxPooling2D)      (None, 56, 56, 64)   0           ['pool1_pad[0][0]']              \n",
            "                                                                                                  \n",
            " conv2_block1_1_conv (Conv2D)   (None, 56, 56, 64)   4160        ['pool1_pool[0][0]']             \n",
            "                                                                                                  \n",
            " conv2_block1_1_bn (BatchNormal  (None, 56, 56, 64)  256         ['conv2_block1_1_conv[0][0]']    \n",
            " ization)                                                                                         \n",
            "                                                                                                  \n",
            " conv2_block1_1_relu (Activatio  (None, 56, 56, 64)  0           ['conv2_block1_1_bn[0][0]']      \n",
            " n)                                                                                               \n",
            "                                                                                                  \n",
            " conv2_block1_2_conv (Conv2D)   (None, 56, 56, 64)   36928       ['conv2_block1_1_relu[0][0]']    \n",
            "                                                                                                  \n",
            " conv2_block1_2_bn (BatchNormal  (None, 56, 56, 64)  256         ['conv2_block1_2_conv[0][0]']    \n",
            " ization)                                                                                         \n",
            "                                                                                                  \n",
            " conv2_block1_2_relu (Activatio  (None, 56, 56, 64)  0           ['conv2_block1_2_bn[0][0]']      \n",
            " n)                                                                                               \n",
            "                                                                                                  \n",
            " conv2_block1_0_conv (Conv2D)   (None, 56, 56, 256)  16640       ['pool1_pool[0][0]']             \n",
            "                                                                                                  \n",
            " conv2_block1_3_conv (Conv2D)   (None, 56, 56, 256)  16640       ['conv2_block1_2_relu[0][0]']    \n",
            "                                                                                                  \n",
            " conv2_block1_0_bn (BatchNormal  (None, 56, 56, 256)  1024       ['conv2_block1_0_conv[0][0]']    \n",
            " ization)                                                                                         \n",
            "                                                                                                  \n",
            " conv2_block1_3_bn (BatchNormal  (None, 56, 56, 256)  1024       ['conv2_block1_3_conv[0][0]']    \n",
            " ization)                                                                                         \n",
            "                                                                                                  \n",
            " conv2_block1_add (Add)         (None, 56, 56, 256)  0           ['conv2_block1_0_bn[0][0]',      \n",
            "                                                                  'conv2_block1_3_bn[0][0]']      \n",
            "                                                                                                  \n",
            " conv2_block1_out (Activation)  (None, 56, 56, 256)  0           ['conv2_block1_add[0][0]']       \n",
            "                                                                                                  \n",
            " conv2_block2_1_conv (Conv2D)   (None, 56, 56, 64)   16448       ['conv2_block1_out[0][0]']       \n",
            "                                                                                                  \n",
            " conv2_block2_1_bn (BatchNormal  (None, 56, 56, 64)  256         ['conv2_block2_1_conv[0][0]']    \n",
            " ization)                                                                                         \n",
            "                                                                                                  \n",
            " conv2_block2_1_relu (Activatio  (None, 56, 56, 64)  0           ['conv2_block2_1_bn[0][0]']      \n",
            " n)                                                                                               \n",
            "                                                                                                  \n",
            " conv2_block2_2_conv (Conv2D)   (None, 56, 56, 64)   36928       ['conv2_block2_1_relu[0][0]']    \n",
            "                                                                                                  \n",
            " conv2_block2_2_bn (BatchNormal  (None, 56, 56, 64)  256         ['conv2_block2_2_conv[0][0]']    \n",
            " ization)                                                                                         \n",
            "                                                                                                  \n",
            " conv2_block2_2_relu (Activatio  (None, 56, 56, 64)  0           ['conv2_block2_2_bn[0][0]']      \n",
            " n)                                                                                               \n",
            "                                                                                                  \n",
            " conv2_block2_3_conv (Conv2D)   (None, 56, 56, 256)  16640       ['conv2_block2_2_relu[0][0]']    \n",
            "                                                                                                  \n",
            " conv2_block2_3_bn (BatchNormal  (None, 56, 56, 256)  1024       ['conv2_block2_3_conv[0][0]']    \n",
            " ization)                                                                                         \n",
            "                                                                                                  \n",
            " conv2_block2_add (Add)         (None, 56, 56, 256)  0           ['conv2_block1_out[0][0]',       \n",
            "                                                                  'conv2_block2_3_bn[0][0]']      \n",
            "                                                                                                  \n",
            " conv2_block2_out (Activation)  (None, 56, 56, 256)  0           ['conv2_block2_add[0][0]']       \n",
            "                                                                                                  \n",
            " conv2_block3_1_conv (Conv2D)   (None, 56, 56, 64)   16448       ['conv2_block2_out[0][0]']       \n",
            "                                                                                                  \n",
            " conv2_block3_1_bn (BatchNormal  (None, 56, 56, 64)  256         ['conv2_block3_1_conv[0][0]']    \n",
            " ization)                                                                                         \n",
            "                                                                                                  \n",
            " conv2_block3_1_relu (Activatio  (None, 56, 56, 64)  0           ['conv2_block3_1_bn[0][0]']      \n",
            " n)                                                                                               \n",
            "                                                                                                  \n",
            " conv2_block3_2_conv (Conv2D)   (None, 56, 56, 64)   36928       ['conv2_block3_1_relu[0][0]']    \n",
            "                                                                                                  \n",
            " conv2_block3_2_bn (BatchNormal  (None, 56, 56, 64)  256         ['conv2_block3_2_conv[0][0]']    \n",
            " ization)                                                                                         \n",
            "                                                                                                  \n",
            " conv2_block3_2_relu (Activatio  (None, 56, 56, 64)  0           ['conv2_block3_2_bn[0][0]']      \n",
            " n)                                                                                               \n",
            "                                                                                                  \n",
            " conv2_block3_3_conv (Conv2D)   (None, 56, 56, 256)  16640       ['conv2_block3_2_relu[0][0]']    \n",
            "                                                                                                  \n",
            " conv2_block3_3_bn (BatchNormal  (None, 56, 56, 256)  1024       ['conv2_block3_3_conv[0][0]']    \n",
            " ization)                                                                                         \n",
            "                                                                                                  \n",
            " conv2_block3_add (Add)         (None, 56, 56, 256)  0           ['conv2_block2_out[0][0]',       \n",
            "                                                                  'conv2_block3_3_bn[0][0]']      \n",
            "                                                                                                  \n",
            " conv2_block3_out (Activation)  (None, 56, 56, 256)  0           ['conv2_block3_add[0][0]']       \n",
            "                                                                                                  \n",
            " conv3_block1_1_conv (Conv2D)   (None, 28, 28, 128)  32896       ['conv2_block3_out[0][0]']       \n",
            "                                                                                                  \n",
            " conv3_block1_1_bn (BatchNormal  (None, 28, 28, 128)  512        ['conv3_block1_1_conv[0][0]']    \n",
            " ization)                                                                                         \n",
            "                                                                                                  \n",
            " conv3_block1_1_relu (Activatio  (None, 28, 28, 128)  0          ['conv3_block1_1_bn[0][0]']      \n",
            " n)                                                                                               \n",
            "                                                                                                  \n",
            " conv3_block1_2_conv (Conv2D)   (None, 28, 28, 128)  147584      ['conv3_block1_1_relu[0][0]']    \n",
            "                                                                                                  \n",
            " conv3_block1_2_bn (BatchNormal  (None, 28, 28, 128)  512        ['conv3_block1_2_conv[0][0]']    \n",
            " ization)                                                                                         \n",
            "                                                                                                  \n",
            " conv3_block1_2_relu (Activatio  (None, 28, 28, 128)  0          ['conv3_block1_2_bn[0][0]']      \n",
            " n)                                                                                               \n",
            "                                                                                                  \n",
            " conv3_block1_0_conv (Conv2D)   (None, 28, 28, 512)  131584      ['conv2_block3_out[0][0]']       \n",
            "                                                                                                  \n",
            " conv3_block1_3_conv (Conv2D)   (None, 28, 28, 512)  66048       ['conv3_block1_2_relu[0][0]']    \n",
            "                                                                                                  \n",
            " conv3_block1_0_bn (BatchNormal  (None, 28, 28, 512)  2048       ['conv3_block1_0_conv[0][0]']    \n",
            " ization)                                                                                         \n",
            "                                                                                                  \n",
            " conv3_block1_3_bn (BatchNormal  (None, 28, 28, 512)  2048       ['conv3_block1_3_conv[0][0]']    \n",
            " ization)                                                                                         \n",
            "                                                                                                  \n",
            " conv3_block1_add (Add)         (None, 28, 28, 512)  0           ['conv3_block1_0_bn[0][0]',      \n",
            "                                                                  'conv3_block1_3_bn[0][0]']      \n",
            "                                                                                                  \n",
            " conv3_block1_out (Activation)  (None, 28, 28, 512)  0           ['conv3_block1_add[0][0]']       \n",
            "                                                                                                  \n",
            " conv3_block2_1_conv (Conv2D)   (None, 28, 28, 128)  65664       ['conv3_block1_out[0][0]']       \n",
            "                                                                                                  \n",
            " conv3_block2_1_bn (BatchNormal  (None, 28, 28, 128)  512        ['conv3_block2_1_conv[0][0]']    \n",
            " ization)                                                                                         \n",
            "                                                                                                  \n",
            " conv3_block2_1_relu (Activatio  (None, 28, 28, 128)  0          ['conv3_block2_1_bn[0][0]']      \n",
            " n)                                                                                               \n",
            "                                                                                                  \n",
            " conv3_block2_2_conv (Conv2D)   (None, 28, 28, 128)  147584      ['conv3_block2_1_relu[0][0]']    \n",
            "                                                                                                  \n",
            " conv3_block2_2_bn (BatchNormal  (None, 28, 28, 128)  512        ['conv3_block2_2_conv[0][0]']    \n",
            " ization)                                                                                         \n",
            "                                                                                                  \n",
            " conv3_block2_2_relu (Activatio  (None, 28, 28, 128)  0          ['conv3_block2_2_bn[0][0]']      \n",
            " n)                                                                                               \n",
            "                                                                                                  \n",
            " conv3_block2_3_conv (Conv2D)   (None, 28, 28, 512)  66048       ['conv3_block2_2_relu[0][0]']    \n",
            "                                                                                                  \n",
            " conv3_block2_3_bn (BatchNormal  (None, 28, 28, 512)  2048       ['conv3_block2_3_conv[0][0]']    \n",
            " ization)                                                                                         \n",
            "                                                                                                  \n",
            " conv3_block2_add (Add)         (None, 28, 28, 512)  0           ['conv3_block1_out[0][0]',       \n",
            "                                                                  'conv3_block2_3_bn[0][0]']      \n",
            "                                                                                                  \n",
            " conv3_block2_out (Activation)  (None, 28, 28, 512)  0           ['conv3_block2_add[0][0]']       \n",
            "                                                                                                  \n",
            " conv3_block3_1_conv (Conv2D)   (None, 28, 28, 128)  65664       ['conv3_block2_out[0][0]']       \n",
            "                                                                                                  \n",
            " conv3_block3_1_bn (BatchNormal  (None, 28, 28, 128)  512        ['conv3_block3_1_conv[0][0]']    \n",
            " ization)                                                                                         \n",
            "                                                                                                  \n",
            " conv3_block3_1_relu (Activatio  (None, 28, 28, 128)  0          ['conv3_block3_1_bn[0][0]']      \n",
            " n)                                                                                               \n",
            "                                                                                                  \n",
            " conv3_block3_2_conv (Conv2D)   (None, 28, 28, 128)  147584      ['conv3_block3_1_relu[0][0]']    \n",
            "                                                                                                  \n",
            " conv3_block3_2_bn (BatchNormal  (None, 28, 28, 128)  512        ['conv3_block3_2_conv[0][0]']    \n",
            " ization)                                                                                         \n",
            "                                                                                                  \n",
            " conv3_block3_2_relu (Activatio  (None, 28, 28, 128)  0          ['conv3_block3_2_bn[0][0]']      \n",
            " n)                                                                                               \n",
            "                                                                                                  \n",
            " conv3_block3_3_conv (Conv2D)   (None, 28, 28, 512)  66048       ['conv3_block3_2_relu[0][0]']    \n",
            "                                                                                                  \n",
            " conv3_block3_3_bn (BatchNormal  (None, 28, 28, 512)  2048       ['conv3_block3_3_conv[0][0]']    \n",
            " ization)                                                                                         \n",
            "                                                                                                  \n",
            " conv3_block3_add (Add)         (None, 28, 28, 512)  0           ['conv3_block2_out[0][0]',       \n",
            "                                                                  'conv3_block3_3_bn[0][0]']      \n",
            "                                                                                                  \n",
            " conv3_block3_out (Activation)  (None, 28, 28, 512)  0           ['conv3_block3_add[0][0]']       \n",
            "                                                                                                  \n",
            " conv3_block4_1_conv (Conv2D)   (None, 28, 28, 128)  65664       ['conv3_block3_out[0][0]']       \n",
            "                                                                                                  \n",
            " conv3_block4_1_bn (BatchNormal  (None, 28, 28, 128)  512        ['conv3_block4_1_conv[0][0]']    \n",
            " ization)                                                                                         \n",
            "                                                                                                  \n",
            " conv3_block4_1_relu (Activatio  (None, 28, 28, 128)  0          ['conv3_block4_1_bn[0][0]']      \n",
            " n)                                                                                               \n",
            "                                                                                                  \n",
            " conv3_block4_2_conv (Conv2D)   (None, 28, 28, 128)  147584      ['conv3_block4_1_relu[0][0]']    \n",
            "                                                                                                  \n",
            " conv3_block4_2_bn (BatchNormal  (None, 28, 28, 128)  512        ['conv3_block4_2_conv[0][0]']    \n",
            " ization)                                                                                         \n",
            "                                                                                                  \n",
            " conv3_block4_2_relu (Activatio  (None, 28, 28, 128)  0          ['conv3_block4_2_bn[0][0]']      \n",
            " n)                                                                                               \n",
            "                                                                                                  \n",
            " conv3_block4_3_conv (Conv2D)   (None, 28, 28, 512)  66048       ['conv3_block4_2_relu[0][0]']    \n",
            "                                                                                                  \n",
            " conv3_block4_3_bn (BatchNormal  (None, 28, 28, 512)  2048       ['conv3_block4_3_conv[0][0]']    \n",
            " ization)                                                                                         \n",
            "                                                                                                  \n",
            " conv3_block4_add (Add)         (None, 28, 28, 512)  0           ['conv3_block3_out[0][0]',       \n",
            "                                                                  'conv3_block4_3_bn[0][0]']      \n",
            "                                                                                                  \n",
            " conv3_block4_out (Activation)  (None, 28, 28, 512)  0           ['conv3_block4_add[0][0]']       \n",
            "                                                                                                  \n",
            " conv4_block1_1_conv (Conv2D)   (None, 14, 14, 256)  131328      ['conv3_block4_out[0][0]']       \n",
            "                                                                                                  \n",
            " conv4_block1_1_bn (BatchNormal  (None, 14, 14, 256)  1024       ['conv4_block1_1_conv[0][0]']    \n",
            " ization)                                                                                         \n",
            "                                                                                                  \n",
            " conv4_block1_1_relu (Activatio  (None, 14, 14, 256)  0          ['conv4_block1_1_bn[0][0]']      \n",
            " n)                                                                                               \n",
            "                                                                                                  \n",
            " conv4_block1_2_conv (Conv2D)   (None, 14, 14, 256)  590080      ['conv4_block1_1_relu[0][0]']    \n",
            "                                                                                                  \n",
            " conv4_block1_2_bn (BatchNormal  (None, 14, 14, 256)  1024       ['conv4_block1_2_conv[0][0]']    \n",
            " ization)                                                                                         \n",
            "                                                                                                  \n",
            " conv4_block1_2_relu (Activatio  (None, 14, 14, 256)  0          ['conv4_block1_2_bn[0][0]']      \n",
            " n)                                                                                               \n",
            "                                                                                                  \n",
            " conv4_block1_0_conv (Conv2D)   (None, 14, 14, 1024  525312      ['conv3_block4_out[0][0]']       \n",
            "                                )                                                                 \n",
            "                                                                                                  \n",
            " conv4_block1_3_conv (Conv2D)   (None, 14, 14, 1024  263168      ['conv4_block1_2_relu[0][0]']    \n",
            "                                )                                                                 \n",
            "                                                                                                  \n",
            " conv4_block1_0_bn (BatchNormal  (None, 14, 14, 1024  4096       ['conv4_block1_0_conv[0][0]']    \n",
            " ization)                       )                                                                 \n",
            "                                                                                                  \n",
            " conv4_block1_3_bn (BatchNormal  (None, 14, 14, 1024  4096       ['conv4_block1_3_conv[0][0]']    \n",
            " ization)                       )                                                                 \n",
            "                                                                                                  \n",
            " conv4_block1_add (Add)         (None, 14, 14, 1024  0           ['conv4_block1_0_bn[0][0]',      \n",
            "                                )                                 'conv4_block1_3_bn[0][0]']      \n",
            "                                                                                                  \n",
            " conv4_block1_out (Activation)  (None, 14, 14, 1024  0           ['conv4_block1_add[0][0]']       \n",
            "                                )                                                                 \n",
            "                                                                                                  \n",
            " conv4_block2_1_conv (Conv2D)   (None, 14, 14, 256)  262400      ['conv4_block1_out[0][0]']       \n",
            "                                                                                                  \n",
            " conv4_block2_1_bn (BatchNormal  (None, 14, 14, 256)  1024       ['conv4_block2_1_conv[0][0]']    \n",
            " ization)                                                                                         \n",
            "                                                                                                  \n",
            " conv4_block2_1_relu (Activatio  (None, 14, 14, 256)  0          ['conv4_block2_1_bn[0][0]']      \n",
            " n)                                                                                               \n",
            "                                                                                                  \n",
            " conv4_block2_2_conv (Conv2D)   (None, 14, 14, 256)  590080      ['conv4_block2_1_relu[0][0]']    \n",
            "                                                                                                  \n",
            " conv4_block2_2_bn (BatchNormal  (None, 14, 14, 256)  1024       ['conv4_block2_2_conv[0][0]']    \n",
            " ization)                                                                                         \n",
            "                                                                                                  \n",
            " conv4_block2_2_relu (Activatio  (None, 14, 14, 256)  0          ['conv4_block2_2_bn[0][0]']      \n",
            " n)                                                                                               \n",
            "                                                                                                  \n",
            " conv4_block2_3_conv (Conv2D)   (None, 14, 14, 1024  263168      ['conv4_block2_2_relu[0][0]']    \n",
            "                                )                                                                 \n",
            "                                                                                                  \n",
            " conv4_block2_3_bn (BatchNormal  (None, 14, 14, 1024  4096       ['conv4_block2_3_conv[0][0]']    \n",
            " ization)                       )                                                                 \n",
            "                                                                                                  \n",
            " conv4_block2_add (Add)         (None, 14, 14, 1024  0           ['conv4_block1_out[0][0]',       \n",
            "                                )                                 'conv4_block2_3_bn[0][0]']      \n",
            "                                                                                                  \n",
            " conv4_block2_out (Activation)  (None, 14, 14, 1024  0           ['conv4_block2_add[0][0]']       \n",
            "                                )                                                                 \n",
            "                                                                                                  \n",
            " conv4_block3_1_conv (Conv2D)   (None, 14, 14, 256)  262400      ['conv4_block2_out[0][0]']       \n",
            "                                                                                                  \n",
            " conv4_block3_1_bn (BatchNormal  (None, 14, 14, 256)  1024       ['conv4_block3_1_conv[0][0]']    \n",
            " ization)                                                                                         \n",
            "                                                                                                  \n",
            " conv4_block3_1_relu (Activatio  (None, 14, 14, 256)  0          ['conv4_block3_1_bn[0][0]']      \n",
            " n)                                                                                               \n",
            "                                                                                                  \n",
            " conv4_block3_2_conv (Conv2D)   (None, 14, 14, 256)  590080      ['conv4_block3_1_relu[0][0]']    \n",
            "                                                                                                  \n",
            " conv4_block3_2_bn (BatchNormal  (None, 14, 14, 256)  1024       ['conv4_block3_2_conv[0][0]']    \n",
            " ization)                                                                                         \n",
            "                                                                                                  \n",
            " conv4_block3_2_relu (Activatio  (None, 14, 14, 256)  0          ['conv4_block3_2_bn[0][0]']      \n",
            " n)                                                                                               \n",
            "                                                                                                  \n",
            " conv4_block3_3_conv (Conv2D)   (None, 14, 14, 1024  263168      ['conv4_block3_2_relu[0][0]']    \n",
            "                                )                                                                 \n",
            "                                                                                                  \n",
            " conv4_block3_3_bn (BatchNormal  (None, 14, 14, 1024  4096       ['conv4_block3_3_conv[0][0]']    \n",
            " ization)                       )                                                                 \n",
            "                                                                                                  \n",
            " conv4_block3_add (Add)         (None, 14, 14, 1024  0           ['conv4_block2_out[0][0]',       \n",
            "                                )                                 'conv4_block3_3_bn[0][0]']      \n",
            "                                                                                                  \n",
            " conv4_block3_out (Activation)  (None, 14, 14, 1024  0           ['conv4_block3_add[0][0]']       \n",
            "                                )                                                                 \n",
            "                                                                                                  \n",
            " conv4_block4_1_conv (Conv2D)   (None, 14, 14, 256)  262400      ['conv4_block3_out[0][0]']       \n",
            "                                                                                                  \n",
            " conv4_block4_1_bn (BatchNormal  (None, 14, 14, 256)  1024       ['conv4_block4_1_conv[0][0]']    \n",
            " ization)                                                                                         \n",
            "                                                                                                  \n",
            " conv4_block4_1_relu (Activatio  (None, 14, 14, 256)  0          ['conv4_block4_1_bn[0][0]']      \n",
            " n)                                                                                               \n",
            "                                                                                                  \n",
            " conv4_block4_2_conv (Conv2D)   (None, 14, 14, 256)  590080      ['conv4_block4_1_relu[0][0]']    \n",
            "                                                                                                  \n",
            " conv4_block4_2_bn (BatchNormal  (None, 14, 14, 256)  1024       ['conv4_block4_2_conv[0][0]']    \n",
            " ization)                                                                                         \n",
            "                                                                                                  \n",
            " conv4_block4_2_relu (Activatio  (None, 14, 14, 256)  0          ['conv4_block4_2_bn[0][0]']      \n",
            " n)                                                                                               \n",
            "                                                                                                  \n",
            " conv4_block4_3_conv (Conv2D)   (None, 14, 14, 1024  263168      ['conv4_block4_2_relu[0][0]']    \n",
            "                                )                                                                 \n",
            "                                                                                                  \n",
            " conv4_block4_3_bn (BatchNormal  (None, 14, 14, 1024  4096       ['conv4_block4_3_conv[0][0]']    \n",
            " ization)                       )                                                                 \n",
            "                                                                                                  \n",
            " conv4_block4_add (Add)         (None, 14, 14, 1024  0           ['conv4_block3_out[0][0]',       \n",
            "                                )                                 'conv4_block4_3_bn[0][0]']      \n",
            "                                                                                                  \n",
            " conv4_block4_out (Activation)  (None, 14, 14, 1024  0           ['conv4_block4_add[0][0]']       \n",
            "                                )                                                                 \n",
            "                                                                                                  \n",
            " conv4_block5_1_conv (Conv2D)   (None, 14, 14, 256)  262400      ['conv4_block4_out[0][0]']       \n",
            "                                                                                                  \n",
            " conv4_block5_1_bn (BatchNormal  (None, 14, 14, 256)  1024       ['conv4_block5_1_conv[0][0]']    \n",
            " ization)                                                                                         \n",
            "                                                                                                  \n",
            " conv4_block5_1_relu (Activatio  (None, 14, 14, 256)  0          ['conv4_block5_1_bn[0][0]']      \n",
            " n)                                                                                               \n",
            "                                                                                                  \n",
            " conv4_block5_2_conv (Conv2D)   (None, 14, 14, 256)  590080      ['conv4_block5_1_relu[0][0]']    \n",
            "                                                                                                  \n",
            " conv4_block5_2_bn (BatchNormal  (None, 14, 14, 256)  1024       ['conv4_block5_2_conv[0][0]']    \n",
            " ization)                                                                                         \n",
            "                                                                                                  \n",
            " conv4_block5_2_relu (Activatio  (None, 14, 14, 256)  0          ['conv4_block5_2_bn[0][0]']      \n",
            " n)                                                                                               \n",
            "                                                                                                  \n",
            " conv4_block5_3_conv (Conv2D)   (None, 14, 14, 1024  263168      ['conv4_block5_2_relu[0][0]']    \n",
            "                                )                                                                 \n",
            "                                                                                                  \n",
            " conv4_block5_3_bn (BatchNormal  (None, 14, 14, 1024  4096       ['conv4_block5_3_conv[0][0]']    \n",
            " ization)                       )                                                                 \n",
            "                                                                                                  \n",
            " conv4_block5_add (Add)         (None, 14, 14, 1024  0           ['conv4_block4_out[0][0]',       \n",
            "                                )                                 'conv4_block5_3_bn[0][0]']      \n",
            "                                                                                                  \n",
            " conv4_block5_out (Activation)  (None, 14, 14, 1024  0           ['conv4_block5_add[0][0]']       \n",
            "                                )                                                                 \n",
            "                                                                                                  \n",
            " conv4_block6_1_conv (Conv2D)   (None, 14, 14, 256)  262400      ['conv4_block5_out[0][0]']       \n",
            "                                                                                                  \n",
            " conv4_block6_1_bn (BatchNormal  (None, 14, 14, 256)  1024       ['conv4_block6_1_conv[0][0]']    \n",
            " ization)                                                                                         \n",
            "                                                                                                  \n",
            " conv4_block6_1_relu (Activatio  (None, 14, 14, 256)  0          ['conv4_block6_1_bn[0][0]']      \n",
            " n)                                                                                               \n",
            "                                                                                                  \n",
            " conv4_block6_2_conv (Conv2D)   (None, 14, 14, 256)  590080      ['conv4_block6_1_relu[0][0]']    \n",
            "                                                                                                  \n",
            " conv4_block6_2_bn (BatchNormal  (None, 14, 14, 256)  1024       ['conv4_block6_2_conv[0][0]']    \n",
            " ization)                                                                                         \n",
            "                                                                                                  \n",
            " conv4_block6_2_relu (Activatio  (None, 14, 14, 256)  0          ['conv4_block6_2_bn[0][0]']      \n",
            " n)                                                                                               \n",
            "                                                                                                  \n",
            " conv4_block6_3_conv (Conv2D)   (None, 14, 14, 1024  263168      ['conv4_block6_2_relu[0][0]']    \n",
            "                                )                                                                 \n",
            "                                                                                                  \n",
            " conv4_block6_3_bn (BatchNormal  (None, 14, 14, 1024  4096       ['conv4_block6_3_conv[0][0]']    \n",
            " ization)                       )                                                                 \n",
            "                                                                                                  \n",
            " conv4_block6_add (Add)         (None, 14, 14, 1024  0           ['conv4_block5_out[0][0]',       \n",
            "                                )                                 'conv4_block6_3_bn[0][0]']      \n",
            "                                                                                                  \n",
            " conv4_block6_out (Activation)  (None, 14, 14, 1024  0           ['conv4_block6_add[0][0]']       \n",
            "                                )                                                                 \n",
            "                                                                                                  \n",
            " conv5_block1_1_conv (Conv2D)   (None, 7, 7, 512)    524800      ['conv4_block6_out[0][0]']       \n",
            "                                                                                                  \n",
            " conv5_block1_1_bn (BatchNormal  (None, 7, 7, 512)   2048        ['conv5_block1_1_conv[0][0]']    \n",
            " ization)                                                                                         \n",
            "                                                                                                  \n",
            " conv5_block1_1_relu (Activatio  (None, 7, 7, 512)   0           ['conv5_block1_1_bn[0][0]']      \n",
            " n)                                                                                               \n",
            "                                                                                                  \n",
            " conv5_block1_2_conv (Conv2D)   (None, 7, 7, 512)    2359808     ['conv5_block1_1_relu[0][0]']    \n",
            "                                                                                                  \n",
            " conv5_block1_2_bn (BatchNormal  (None, 7, 7, 512)   2048        ['conv5_block1_2_conv[0][0]']    \n",
            " ization)                                                                                         \n",
            "                                                                                                  \n",
            " conv5_block1_2_relu (Activatio  (None, 7, 7, 512)   0           ['conv5_block1_2_bn[0][0]']      \n",
            " n)                                                                                               \n",
            "                                                                                                  \n",
            " conv5_block1_0_conv (Conv2D)   (None, 7, 7, 2048)   2099200     ['conv4_block6_out[0][0]']       \n",
            "                                                                                                  \n",
            " conv5_block1_3_conv (Conv2D)   (None, 7, 7, 2048)   1050624     ['conv5_block1_2_relu[0][0]']    \n",
            "                                                                                                  \n",
            " conv5_block1_0_bn (BatchNormal  (None, 7, 7, 2048)  8192        ['conv5_block1_0_conv[0][0]']    \n",
            " ization)                                                                                         \n",
            "                                                                                                  \n",
            " conv5_block1_3_bn (BatchNormal  (None, 7, 7, 2048)  8192        ['conv5_block1_3_conv[0][0]']    \n",
            " ization)                                                                                         \n",
            "                                                                                                  \n",
            " conv5_block1_add (Add)         (None, 7, 7, 2048)   0           ['conv5_block1_0_bn[0][0]',      \n",
            "                                                                  'conv5_block1_3_bn[0][0]']      \n",
            "                                                                                                  \n",
            " conv5_block1_out (Activation)  (None, 7, 7, 2048)   0           ['conv5_block1_add[0][0]']       \n",
            "                                                                                                  \n",
            " conv5_block2_1_conv (Conv2D)   (None, 7, 7, 512)    1049088     ['conv5_block1_out[0][0]']       \n",
            "                                                                                                  \n",
            " conv5_block2_1_bn (BatchNormal  (None, 7, 7, 512)   2048        ['conv5_block2_1_conv[0][0]']    \n",
            " ization)                                                                                         \n",
            "                                                                                                  \n",
            " conv5_block2_1_relu (Activatio  (None, 7, 7, 512)   0           ['conv5_block2_1_bn[0][0]']      \n",
            " n)                                                                                               \n",
            "                                                                                                  \n",
            " conv5_block2_2_conv (Conv2D)   (None, 7, 7, 512)    2359808     ['conv5_block2_1_relu[0][0]']    \n",
            "                                                                                                  \n",
            " conv5_block2_2_bn (BatchNormal  (None, 7, 7, 512)   2048        ['conv5_block2_2_conv[0][0]']    \n",
            " ization)                                                                                         \n",
            "                                                                                                  \n",
            " conv5_block2_2_relu (Activatio  (None, 7, 7, 512)   0           ['conv5_block2_2_bn[0][0]']      \n",
            " n)                                                                                               \n",
            "                                                                                                  \n",
            " conv5_block2_3_conv (Conv2D)   (None, 7, 7, 2048)   1050624     ['conv5_block2_2_relu[0][0]']    \n",
            "                                                                                                  \n",
            " conv5_block2_3_bn (BatchNormal  (None, 7, 7, 2048)  8192        ['conv5_block2_3_conv[0][0]']    \n",
            " ization)                                                                                         \n",
            "                                                                                                  \n",
            " conv5_block2_add (Add)         (None, 7, 7, 2048)   0           ['conv5_block1_out[0][0]',       \n",
            "                                                                  'conv5_block2_3_bn[0][0]']      \n",
            "                                                                                                  \n",
            " conv5_block2_out (Activation)  (None, 7, 7, 2048)   0           ['conv5_block2_add[0][0]']       \n",
            "                                                                                                  \n",
            " conv5_block3_1_conv (Conv2D)   (None, 7, 7, 512)    1049088     ['conv5_block2_out[0][0]']       \n",
            "                                                                                                  \n",
            " conv5_block3_1_bn (BatchNormal  (None, 7, 7, 512)   2048        ['conv5_block3_1_conv[0][0]']    \n",
            " ization)                                                                                         \n",
            "                                                                                                  \n",
            " conv5_block3_1_relu (Activatio  (None, 7, 7, 512)   0           ['conv5_block3_1_bn[0][0]']      \n",
            " n)                                                                                               \n",
            "                                                                                                  \n",
            " conv5_block3_2_conv (Conv2D)   (None, 7, 7, 512)    2359808     ['conv5_block3_1_relu[0][0]']    \n",
            "                                                                                                  \n",
            " conv5_block3_2_bn (BatchNormal  (None, 7, 7, 512)   2048        ['conv5_block3_2_conv[0][0]']    \n",
            " ization)                                                                                         \n",
            "                                                                                                  \n",
            " conv5_block3_2_relu (Activatio  (None, 7, 7, 512)   0           ['conv5_block3_2_bn[0][0]']      \n",
            " n)                                                                                               \n",
            "                                                                                                  \n",
            " conv5_block3_3_conv (Conv2D)   (None, 7, 7, 2048)   1050624     ['conv5_block3_2_relu[0][0]']    \n",
            "                                                                                                  \n",
            " conv5_block3_3_bn (BatchNormal  (None, 7, 7, 2048)  8192        ['conv5_block3_3_conv[0][0]']    \n",
            " ization)                                                                                         \n",
            "                                                                                                  \n",
            " conv5_block3_add (Add)         (None, 7, 7, 2048)   0           ['conv5_block2_out[0][0]',       \n",
            "                                                                  'conv5_block3_3_bn[0][0]']      \n",
            "                                                                                                  \n",
            " conv5_block3_out (Activation)  (None, 7, 7, 2048)   0           ['conv5_block3_add[0][0]']       \n",
            "                                                                                                  \n",
            " flatten_3 (Flatten)            (None, 100352)       0           ['conv5_block3_out[0][0]']       \n",
            "                                                                                                  \n",
            " dense_3 (Dense)                (None, 3)            301059      ['flatten_3[0][0]']              \n",
            "                                                                                                  \n",
            "==================================================================================================\n",
            "Total params: 23,888,771\n",
            "Trainable params: 301,059\n",
            "Non-trainable params: 23,587,712\n",
            "__________________________________________________________________________________________________\n"
          ]
        }
      ],
      "source": [
        "model_resnet=Model(resnet_base.input,outputs=prediction)\n",
        "model_resnet.summary()"
      ]
    },
    {
      "cell_type": "code",
      "execution_count": 53,
      "metadata": {
        "id": "kURp1cKiycMu"
      },
      "outputs": [],
      "source": [
        "#notre modele sera entrainé sur x parametres\n",
        "model_resnet.compile(loss=\"categorical_crossentropy\",optimizer=\"adam\",metrics=['accuracy'])"
      ]
    },
    {
      "cell_type": "code",
      "execution_count": 54,
      "metadata": {
        "colab": {
          "base_uri": "https://localhost:8080/"
        },
        "id": "r-2k0JpczAqr",
        "outputId": "27afacb9-a065-4dac-822c-ca8bc7b02610"
      },
      "outputs": [
        {
          "output_type": "stream",
          "name": "stdout",
          "text": [
            "Epoch 1/20\n",
            "14/14 [==============================] - 22s 1s/step - loss: 18.6364 - accuracy: 0.3636 - val_loss: 8.5155 - val_accuracy: 0.4345\n",
            "Epoch 2/20\n",
            "14/14 [==============================] - 14s 1s/step - loss: 6.7022 - accuracy: 0.5921 - val_loss: 8.0205 - val_accuracy: 0.4821\n",
            "Epoch 3/20\n",
            "14/14 [==============================] - 14s 1s/step - loss: 3.7456 - accuracy: 0.7110 - val_loss: 8.1388 - val_accuracy: 0.4940\n",
            "Epoch 4/20\n",
            "14/14 [==============================] - 14s 1s/step - loss: 2.4474 - accuracy: 0.7902 - val_loss: 7.2522 - val_accuracy: 0.5179\n",
            "Epoch 5/20\n",
            "14/14 [==============================] - 14s 1s/step - loss: 1.4390 - accuracy: 0.8368 - val_loss: 7.4515 - val_accuracy: 0.4881\n",
            "Epoch 6/20\n",
            "14/14 [==============================] - 14s 1s/step - loss: 1.7108 - accuracy: 0.8392 - val_loss: 7.5766 - val_accuracy: 0.5417\n",
            "Epoch 7/20\n",
            "14/14 [==============================] - 14s 999ms/step - loss: 0.9984 - accuracy: 0.8811 - val_loss: 5.9081 - val_accuracy: 0.6369\n",
            "Epoch 8/20\n",
            "14/14 [==============================] - 14s 1s/step - loss: 0.8671 - accuracy: 0.9068 - val_loss: 5.8029 - val_accuracy: 0.5774\n",
            "Epoch 9/20\n",
            "14/14 [==============================] - 14s 1s/step - loss: 0.8523 - accuracy: 0.8928 - val_loss: 5.8369 - val_accuracy: 0.6131\n",
            "Epoch 10/20\n",
            "14/14 [==============================] - 14s 1s/step - loss: 0.8237 - accuracy: 0.9091 - val_loss: 6.4433 - val_accuracy: 0.5179\n",
            "Epoch 11/20\n",
            "14/14 [==============================] - 14s 996ms/step - loss: 0.3937 - accuracy: 0.9441 - val_loss: 7.0918 - val_accuracy: 0.5893\n",
            "Epoch 12/20\n",
            "14/14 [==============================] - 14s 1s/step - loss: 0.5314 - accuracy: 0.9394 - val_loss: 6.7932 - val_accuracy: 0.5417\n",
            "Epoch 13/20\n",
            "14/14 [==============================] - 14s 998ms/step - loss: 0.7439 - accuracy: 0.9184 - val_loss: 8.3372 - val_accuracy: 0.5655\n",
            "Epoch 14/20\n",
            "14/14 [==============================] - 14s 1s/step - loss: 0.5038 - accuracy: 0.9371 - val_loss: 8.2005 - val_accuracy: 0.5774\n",
            "Epoch 15/20\n",
            "14/14 [==============================] - 14s 1s/step - loss: 0.6409 - accuracy: 0.9347 - val_loss: 7.2695 - val_accuracy: 0.5595\n",
            "Epoch 16/20\n",
            "14/14 [==============================] - 14s 1s/step - loss: 0.2741 - accuracy: 0.9441 - val_loss: 8.6124 - val_accuracy: 0.5000\n",
            "Epoch 17/20\n",
            "14/14 [==============================] - 14s 1s/step - loss: 0.2939 - accuracy: 0.9534 - val_loss: 7.6420 - val_accuracy: 0.5714\n",
            "Epoch 18/20\n",
            "14/14 [==============================] - 14s 1s/step - loss: 0.4396 - accuracy: 0.9627 - val_loss: 9.4367 - val_accuracy: 0.5417\n",
            "Epoch 19/20\n",
            "14/14 [==============================] - 14s 1s/step - loss: 0.2958 - accuracy: 0.9674 - val_loss: 9.7705 - val_accuracy: 0.5536\n",
            "Epoch 20/20\n",
            "14/14 [==============================] - 14s 1s/step - loss: 0.2341 - accuracy: 0.9604 - val_loss: 8.3796 - val_accuracy: 0.5417\n"
          ]
        }
      ],
      "source": [
        "history_resnet= model_resnet.fit(\n",
        "    train_set,\n",
        "    epochs=20,  # Corrected parameter name\n",
        "    validation_data=val_set)"
      ]
    },
    {
      "cell_type": "code",
      "execution_count": 55,
      "metadata": {
        "colab": {
          "base_uri": "https://localhost:8080/"
        },
        "id": "6mGnB9kOyhnH",
        "outputId": "3705946f-5383-4309-ff8d-241ea16a86c3"
      },
      "outputs": [
        {
          "output_type": "stream",
          "name": "stderr",
          "text": [
            "WARNING:absl:Found untraced functions such as _jit_compiled_convolution_op, _jit_compiled_convolution_op, _jit_compiled_convolution_op, _jit_compiled_convolution_op, _jit_compiled_convolution_op while saving (showing 5 of 53). These functions will not be directly callable after loading.\n"
          ]
        }
      ],
      "source": [
        "#sauvegarde\n",
        "model_resnet.save(\"/content/drive/MyDrive/Projet deep/model_save/resnet_model\")"
      ]
    },
    {
      "cell_type": "code",
      "execution_count": 56,
      "metadata": {
        "colab": {
          "base_uri": "https://localhost:8080/"
        },
        "id": "u34U97mcyhqB",
        "outputId": "f31823dc-10ee-4e12-aea5-8c01189519e2"
      },
      "outputs": [
        {
          "output_type": "stream",
          "name": "stderr",
          "text": [
            "<ipython-input-56-fad146610a5c>:1: UserWarning: `Model.evaluate_generator` is deprecated and will be removed in a future version. Please use `Model.evaluate`, which supports generators.\n",
            "  val_loss, valid_accuracy=model_resnet.evaluate_generator(val_set)\n",
            "/usr/local/lib/python3.10/dist-packages/keras/preprocessing/image.py:1861: UserWarning: This ImageDataGenerator specifies `featurewise_center`, but it hasn't been fit on any training data. Fit it first by calling `.fit(numpy_data)`.\n",
            "  warnings.warn(\n",
            "/usr/local/lib/python3.10/dist-packages/keras/preprocessing/image.py:1871: UserWarning: This ImageDataGenerator specifies `featurewise_std_normalization`, but it hasn't been fit on any training data. Fit it first by calling `.fit(numpy_data)`.\n",
            "  warnings.warn(\n"
          ]
        }
      ],
      "source": [
        "val_loss, valid_accuracy=model_resnet.evaluate_generator(val_set)"
      ]
    },
    {
      "cell_type": "code",
      "execution_count": 57,
      "metadata": {
        "colab": {
          "base_uri": "https://localhost:8080/"
        },
        "id": "-rftZt2nzjcP",
        "outputId": "23f4789f-5072-4858-92ba-fae5a9def639"
      },
      "outputs": [
        {
          "output_type": "stream",
          "name": "stdout",
          "text": [
            "Accuracy apres transfer learning : 0.5535714030265808 \n"
          ]
        }
      ],
      "source": [
        "print(\"Accuracy apres transfer learning : {} \".format(valid_accuracy))"
      ]
    },
    {
      "cell_type": "markdown",
      "source": [
        "**effectuons le fine tunind sur le modele resnet**"
      ],
      "metadata": {
        "id": "xlcuT9Pz__NF"
      }
    },
    {
      "cell_type": "code",
      "execution_count": 59,
      "metadata": {
        "id": "ZiBKDs2iycS3"
      },
      "outputs": [],
      "source": [
        "#on va faire du fine_tuning c'est à dire on va dire a notre modele que les couches\n",
        "#sont entrainables et on va definit un learni g rateentre les differents epochs\n",
        "model_resnet.trainable=True\n",
        "fine_tuning_at= 100\n",
        "\n",
        "for layer in model_resnet.layers[:fine_tuning_at]:\n",
        "  layer.trainable=False\n"
      ]
    },
    {
      "cell_type": "code",
      "execution_count": 60,
      "metadata": {
        "id": "T-x_4cIVz-Sy"
      },
      "outputs": [],
      "source": [
        "#notre modele sera entrainé sur x parametres\n",
        "model_resnet.compile(loss=\"categorical_crossentropy\",optimizer=\"adam\",metrics=['accuracy'])"
      ]
    },
    {
      "cell_type": "code",
      "execution_count": 61,
      "metadata": {
        "id": "Y2A0RggX0HBp",
        "colab": {
          "base_uri": "https://localhost:8080/"
        },
        "outputId": "00f370be-ecb2-4c92-d930-300b8350d319"
      },
      "outputs": [
        {
          "output_type": "stream",
          "name": "stdout",
          "text": [
            "Epoch 1/70\n",
            "14/14 [==============================] - 40s 1s/step - loss: 15.8166 - accuracy: 0.5618 - val_loss: 70804.7344 - val_accuracy: 0.2917\n",
            "Epoch 2/70\n",
            "14/14 [==============================] - 14s 1s/step - loss: 16.3452 - accuracy: 0.6597 - val_loss: 7661.5669 - val_accuracy: 0.3333\n",
            "Epoch 3/70\n",
            "14/14 [==============================] - 14s 1s/step - loss: 8.7960 - accuracy: 0.7483 - val_loss: 2181.1941 - val_accuracy: 0.3750\n",
            "Epoch 4/70\n",
            "14/14 [==============================] - 14s 1s/step - loss: 5.1134 - accuracy: 0.7436 - val_loss: 4561.3633 - val_accuracy: 0.3274\n",
            "Epoch 5/70\n",
            "14/14 [==============================] - 14s 1s/step - loss: 6.7851 - accuracy: 0.7249 - val_loss: 2275.1646 - val_accuracy: 0.3214\n",
            "Epoch 6/70\n",
            "14/14 [==============================] - 15s 1s/step - loss: 3.9722 - accuracy: 0.7552 - val_loss: 918.7236 - val_accuracy: 0.3452\n",
            "Epoch 7/70\n",
            "14/14 [==============================] - 14s 1s/step - loss: 5.4772 - accuracy: 0.6783 - val_loss: 927.4146 - val_accuracy: 0.3512\n",
            "Epoch 8/70\n",
            "14/14 [==============================] - 14s 1s/step - loss: 5.5134 - accuracy: 0.7972 - val_loss: 5475.3779 - val_accuracy: 0.3512\n",
            "Epoch 9/70\n",
            "14/14 [==============================] - 14s 1s/step - loss: 5.3958 - accuracy: 0.8275 - val_loss: 5970.0938 - val_accuracy: 0.3571\n",
            "Epoch 10/70\n",
            "14/14 [==============================] - 16s 1s/step - loss: 4.9881 - accuracy: 0.8065 - val_loss: 9906.9053 - val_accuracy: 0.3452\n",
            "Epoch 11/70\n",
            "14/14 [==============================] - 14s 1s/step - loss: 5.0176 - accuracy: 0.7786 - val_loss: 1072.8040 - val_accuracy: 0.3631\n",
            "Epoch 12/70\n",
            "14/14 [==============================] - 14s 1s/step - loss: 4.2926 - accuracy: 0.7599 - val_loss: 2688.5801 - val_accuracy: 0.3214\n",
            "Epoch 13/70\n",
            "14/14 [==============================] - 14s 1s/step - loss: 2.3954 - accuracy: 0.8112 - val_loss: 2174.7651 - val_accuracy: 0.3452\n",
            "Epoch 14/70\n",
            "14/14 [==============================] - 14s 1s/step - loss: 1.0991 - accuracy: 0.8508 - val_loss: 536.8779 - val_accuracy: 0.3393\n",
            "Epoch 15/70\n",
            "14/14 [==============================] - 15s 1s/step - loss: 1.6496 - accuracy: 0.8625 - val_loss: 41.0400 - val_accuracy: 0.3988\n",
            "Epoch 16/70\n",
            "14/14 [==============================] - 14s 1s/step - loss: 2.0171 - accuracy: 0.8695 - val_loss: 138.8274 - val_accuracy: 0.3869\n",
            "Epoch 17/70\n",
            "14/14 [==============================] - 14s 1s/step - loss: 1.3506 - accuracy: 0.9021 - val_loss: 237.8976 - val_accuracy: 0.3929\n",
            "Epoch 18/70\n",
            "14/14 [==============================] - 14s 1s/step - loss: 1.3642 - accuracy: 0.8881 - val_loss: 64.1093 - val_accuracy: 0.3988\n",
            "Epoch 19/70\n",
            "14/14 [==============================] - 14s 1s/step - loss: 0.8573 - accuracy: 0.9044 - val_loss: 32.9209 - val_accuracy: 0.3869\n",
            "Epoch 20/70\n",
            "14/14 [==============================] - 14s 1s/step - loss: 0.6769 - accuracy: 0.9161 - val_loss: 35.2653 - val_accuracy: 0.4762\n",
            "Epoch 21/70\n",
            "14/14 [==============================] - 14s 1s/step - loss: 0.8244 - accuracy: 0.9254 - val_loss: 21.6688 - val_accuracy: 0.4702\n",
            "Epoch 22/70\n",
            "14/14 [==============================] - 14s 1s/step - loss: 0.8765 - accuracy: 0.9301 - val_loss: 19.6438 - val_accuracy: 0.4821\n",
            "Epoch 23/70\n",
            "14/14 [==============================] - 14s 1s/step - loss: 0.5528 - accuracy: 0.9277 - val_loss: 72.4024 - val_accuracy: 0.4464\n",
            "Epoch 24/70\n",
            "14/14 [==============================] - 14s 1s/step - loss: 0.4611 - accuracy: 0.9371 - val_loss: 15.1967 - val_accuracy: 0.5655\n",
            "Epoch 25/70\n",
            "14/14 [==============================] - 14s 1s/step - loss: 0.8050 - accuracy: 0.9510 - val_loss: 19.4627 - val_accuracy: 0.4881\n",
            "Epoch 26/70\n",
            "14/14 [==============================] - 14s 1s/step - loss: 0.2923 - accuracy: 0.9674 - val_loss: 7.1725 - val_accuracy: 0.6310\n",
            "Epoch 27/70\n",
            "14/14 [==============================] - 14s 1s/step - loss: 0.4562 - accuracy: 0.9534 - val_loss: 5.8246 - val_accuracy: 0.6548\n",
            "Epoch 28/70\n",
            "14/14 [==============================] - 14s 1s/step - loss: 0.1120 - accuracy: 0.9650 - val_loss: 5.5934 - val_accuracy: 0.6190\n",
            "Epoch 29/70\n",
            "14/14 [==============================] - 14s 1s/step - loss: 0.5326 - accuracy: 0.9627 - val_loss: 4.6150 - val_accuracy: 0.5893\n",
            "Epoch 30/70\n",
            "14/14 [==============================] - 15s 1s/step - loss: 0.2846 - accuracy: 0.9674 - val_loss: 8.0738 - val_accuracy: 0.5655\n",
            "Epoch 31/70\n",
            "14/14 [==============================] - 15s 1s/step - loss: 0.2436 - accuracy: 0.9674 - val_loss: 17.1114 - val_accuracy: 0.4405\n",
            "Epoch 32/70\n",
            "14/14 [==============================] - 14s 1s/step - loss: 0.1172 - accuracy: 0.9767 - val_loss: 47.8068 - val_accuracy: 0.4762\n",
            "Epoch 33/70\n",
            "14/14 [==============================] - 14s 1s/step - loss: 0.2375 - accuracy: 0.9674 - val_loss: 13.5353 - val_accuracy: 0.5179\n",
            "Epoch 34/70\n",
            "14/14 [==============================] - 14s 1s/step - loss: 0.1764 - accuracy: 0.9674 - val_loss: 33.8127 - val_accuracy: 0.4643\n",
            "Epoch 35/70\n",
            "14/14 [==============================] - 14s 1s/step - loss: 0.1326 - accuracy: 0.9837 - val_loss: 18.5369 - val_accuracy: 0.5179\n",
            "Epoch 36/70\n",
            "14/14 [==============================] - 14s 1s/step - loss: 0.1337 - accuracy: 0.9860 - val_loss: 11.0841 - val_accuracy: 0.5714\n",
            "Epoch 37/70\n",
            "14/14 [==============================] - 14s 1s/step - loss: 0.0853 - accuracy: 0.9860 - val_loss: 6.8613 - val_accuracy: 0.5893\n",
            "Epoch 38/70\n",
            "14/14 [==============================] - 14s 1s/step - loss: 0.0386 - accuracy: 0.9837 - val_loss: 6.6601 - val_accuracy: 0.6131\n",
            "Epoch 39/70\n",
            "14/14 [==============================] - 15s 1s/step - loss: 0.2379 - accuracy: 0.9767 - val_loss: 7.0715 - val_accuracy: 0.6071\n",
            "Epoch 40/70\n",
            "14/14 [==============================] - 14s 1s/step - loss: 0.2284 - accuracy: 0.9720 - val_loss: 6.1348 - val_accuracy: 0.6310\n",
            "Epoch 41/70\n",
            "14/14 [==============================] - 14s 1s/step - loss: 0.2465 - accuracy: 0.9627 - val_loss: 6.1111 - val_accuracy: 0.6667\n",
            "Epoch 42/70\n",
            "14/14 [==============================] - 14s 1s/step - loss: 0.1282 - accuracy: 0.9767 - val_loss: 5.6003 - val_accuracy: 0.6250\n",
            "Epoch 43/70\n",
            "14/14 [==============================] - 14s 1s/step - loss: 0.1363 - accuracy: 0.9837 - val_loss: 5.3881 - val_accuracy: 0.6190\n",
            "Epoch 44/70\n",
            "14/14 [==============================] - 14s 1s/step - loss: 0.2310 - accuracy: 0.9697 - val_loss: 5.5535 - val_accuracy: 0.6786\n",
            "Epoch 45/70\n",
            "14/14 [==============================] - 14s 1s/step - loss: 0.2260 - accuracy: 0.9697 - val_loss: 5.2564 - val_accuracy: 0.6488\n",
            "Epoch 46/70\n",
            "14/14 [==============================] - 14s 1s/step - loss: 0.1331 - accuracy: 0.9767 - val_loss: 9.4007 - val_accuracy: 0.6190\n",
            "Epoch 47/70\n",
            "14/14 [==============================] - 14s 1s/step - loss: 0.8689 - accuracy: 0.9441 - val_loss: 6.2208 - val_accuracy: 0.6369\n",
            "Epoch 48/70\n",
            "14/14 [==============================] - 14s 1s/step - loss: 0.2270 - accuracy: 0.9674 - val_loss: 7.0442 - val_accuracy: 0.5952\n",
            "Epoch 49/70\n",
            "14/14 [==============================] - 14s 1s/step - loss: 0.2301 - accuracy: 0.9697 - val_loss: 8.6621 - val_accuracy: 0.6488\n",
            "Epoch 50/70\n",
            "14/14 [==============================] - 14s 1s/step - loss: 0.4148 - accuracy: 0.9650 - val_loss: 10.1277 - val_accuracy: 0.6250\n",
            "Epoch 51/70\n",
            "14/14 [==============================] - 14s 1s/step - loss: 0.3312 - accuracy: 0.9720 - val_loss: 9.8317 - val_accuracy: 0.6012\n",
            "Epoch 52/70\n",
            "14/14 [==============================] - 14s 1s/step - loss: 0.4136 - accuracy: 0.9650 - val_loss: 13.7306 - val_accuracy: 0.5714\n",
            "Epoch 53/70\n",
            "14/14 [==============================] - 14s 1s/step - loss: 0.1998 - accuracy: 0.9697 - val_loss: 9.9960 - val_accuracy: 0.5774\n",
            "Epoch 54/70\n",
            "14/14 [==============================] - 14s 1s/step - loss: 0.0703 - accuracy: 0.9767 - val_loss: 8.2832 - val_accuracy: 0.5774\n",
            "Epoch 55/70\n",
            "14/14 [==============================] - 14s 1s/step - loss: 0.2376 - accuracy: 0.9697 - val_loss: 7.3502 - val_accuracy: 0.6071\n",
            "Epoch 56/70\n",
            "14/14 [==============================] - 14s 1s/step - loss: 0.2579 - accuracy: 0.9744 - val_loss: 13.4340 - val_accuracy: 0.5952\n",
            "Epoch 57/70\n",
            "14/14 [==============================] - 14s 1s/step - loss: 0.2491 - accuracy: 0.9720 - val_loss: 12.0357 - val_accuracy: 0.5833\n",
            "Epoch 58/70\n",
            "14/14 [==============================] - 14s 1s/step - loss: 0.0979 - accuracy: 0.9883 - val_loss: 10.0422 - val_accuracy: 0.5476\n",
            "Epoch 59/70\n",
            "14/14 [==============================] - 14s 1s/step - loss: 0.2297 - accuracy: 0.9720 - val_loss: 10.6203 - val_accuracy: 0.5536\n",
            "Epoch 60/70\n",
            "14/14 [==============================] - 14s 1s/step - loss: 0.0972 - accuracy: 0.9860 - val_loss: 9.3805 - val_accuracy: 0.6071\n",
            "Epoch 61/70\n",
            "14/14 [==============================] - 14s 1s/step - loss: 0.2921 - accuracy: 0.9767 - val_loss: 7.4265 - val_accuracy: 0.6012\n",
            "Epoch 62/70\n",
            "14/14 [==============================] - 14s 1s/step - loss: 0.1449 - accuracy: 0.9814 - val_loss: 6.2313 - val_accuracy: 0.6667\n",
            "Epoch 63/70\n",
            "14/14 [==============================] - 14s 1s/step - loss: 0.1494 - accuracy: 0.9837 - val_loss: 6.8776 - val_accuracy: 0.6012\n",
            "Epoch 64/70\n",
            "14/14 [==============================] - 24s 2s/step - loss: 0.0792 - accuracy: 0.9883 - val_loss: 6.6835 - val_accuracy: 0.6310\n",
            "Epoch 65/70\n",
            "14/14 [==============================] - 16s 1s/step - loss: 0.0569 - accuracy: 0.9907 - val_loss: 6.2959 - val_accuracy: 0.6071\n",
            "Epoch 66/70\n",
            "14/14 [==============================] - 22s 2s/step - loss: 0.5057 - accuracy: 0.9650 - val_loss: 5.3272 - val_accuracy: 0.6369\n",
            "Epoch 67/70\n",
            "14/14 [==============================] - 17s 1s/step - loss: 0.1866 - accuracy: 0.9790 - val_loss: 6.2830 - val_accuracy: 0.6310\n",
            "Epoch 68/70\n",
            "14/14 [==============================] - 16s 1s/step - loss: 0.0558 - accuracy: 0.9907 - val_loss: 6.0649 - val_accuracy: 0.6310\n",
            "Epoch 69/70\n",
            "14/14 [==============================] - 17s 1s/step - loss: 0.0948 - accuracy: 0.9860 - val_loss: 4.7709 - val_accuracy: 0.6667\n",
            "Epoch 70/70\n",
            "14/14 [==============================] - 20s 1s/step - loss: 0.1717 - accuracy: 0.9860 - val_loss: 6.0408 - val_accuracy: 0.5893\n"
          ]
        }
      ],
      "source": [
        "history_resnet_opt = model_resnet.fit(\n",
        "    train_set,\n",
        "    epochs=70,  # Corrected parameter name\n",
        "    validation_data=val_set)\n"
      ]
    },
    {
      "cell_type": "markdown",
      "source": [
        "**Avec le modèle resnet, on constate que le fine_tuning améliore l'accuracy sur l'échantillon d'apprentissage (de 0.55 à 0.59) qui n'est pas une forte augmentation tout de même.**"
      ],
      "metadata": {
        "id": "xaw6ZfwqAK-x"
      }
    },
    {
      "cell_type": "markdown",
      "source": [
        "**3.3 MODELE DENSENET**"
      ],
      "metadata": {
        "id": "x3H2SaleR-yy"
      }
    },
    {
      "cell_type": "code",
      "source": [
        "import tensorflow as tf\n",
        "from tensorflow.keras.applications import DenseNet121\n",
        "from tensorflow.keras.models import Sequential\n",
        "from tensorflow.keras.layers import Dense, GlobalAveragePooling2D\n",
        "from tensorflow.keras.preprocessing.image import ImageDataGenerator\n",
        "from tensorflow.keras.optimizers import Adam\n",
        "from tensorflow.keras.callbacks import ModelCheckpoint\n"
      ],
      "metadata": {
        "id": "yLJILZt5SeC4"
      },
      "execution_count": 62,
      "outputs": []
    },
    {
      "cell_type": "code",
      "source": [
        "# Création du modèle DenseNet121 avec une couche de classification personnalisée\n",
        "desnet_model = DenseNet121(weights='imagenet', include_top=False, input_shape=input_shape)\n",
        "model = Sequential()\n",
        "model.add(desnet_model)\n",
        "model.add(GlobalAveragePooling2D())\n",
        "model.add(Dense(256, activation='relu'))\n",
        "model.add(Dense(num_classes, activation='softmax'))\n",
        "\n"
      ],
      "metadata": {
        "colab": {
          "base_uri": "https://localhost:8080/"
        },
        "id": "pvCmiFTzSBzb",
        "outputId": "b9b908ec-c70f-470f-d658-7a957df5d96e"
      },
      "execution_count": 63,
      "outputs": [
        {
          "output_type": "stream",
          "name": "stdout",
          "text": [
            "Downloading data from https://storage.googleapis.com/tensorflow/keras-applications/densenet/densenet121_weights_tf_dim_ordering_tf_kernels_notop.h5\n",
            "29084464/29084464 [==============================] - 0s 0us/step\n"
          ]
        }
      ]
    },
    {
      "cell_type": "code",
      "source": [
        "# Compilation du modèle\n",
        "model.compile(optimizer=Adam(lr=0.0001), loss='categorical_crossentropy', metrics=['accuracy'])"
      ],
      "metadata": {
        "colab": {
          "base_uri": "https://localhost:8080/"
        },
        "id": "Z3oSODsQSOVm",
        "outputId": "e60e17f6-e8e1-432a-eac4-66d13a44934b"
      },
      "execution_count": 64,
      "outputs": [
        {
          "output_type": "stream",
          "name": "stderr",
          "text": [
            "WARNING:absl:`lr` is deprecated in Keras optimizer, please use `learning_rate` or use the legacy optimizer, e.g.,tf.keras.optimizers.legacy.Adam.\n"
          ]
        }
      ]
    },
    {
      "cell_type": "code",
      "source": [
        "# Entraînement du modèle avec sauvegarde du meilleur modèle\n",
        "checkpoint = ModelCheckpoint('best_model_densenet.h5', save_best_only=True)\n"
      ],
      "metadata": {
        "id": "jy8x59AcSMng"
      },
      "execution_count": 65,
      "outputs": []
    },
    {
      "cell_type": "code",
      "source": [
        "history = model.fit(\n",
        "    train_set,\n",
        "    epochs=70,\n",
        "    validation_data=val_set,  # Remplacez par votre ensemble de validation\n",
        "    callbacks=[checkpoint])"
      ],
      "metadata": {
        "colab": {
          "base_uri": "https://localhost:8080/"
        },
        "id": "W4YLfc0ZSKgt",
        "outputId": "672302e1-5742-4400-d910-c2522cb0747c"
      },
      "execution_count": 66,
      "outputs": [
        {
          "output_type": "stream",
          "name": "stderr",
          "text": [
            "/usr/local/lib/python3.10/dist-packages/keras/preprocessing/image.py:1861: UserWarning: This ImageDataGenerator specifies `featurewise_center`, but it hasn't been fit on any training data. Fit it first by calling `.fit(numpy_data)`.\n",
            "  warnings.warn(\n",
            "/usr/local/lib/python3.10/dist-packages/keras/preprocessing/image.py:1871: UserWarning: This ImageDataGenerator specifies `featurewise_std_normalization`, but it hasn't been fit on any training data. Fit it first by calling `.fit(numpy_data)`.\n",
            "  warnings.warn(\n"
          ]
        },
        {
          "output_type": "stream",
          "name": "stdout",
          "text": [
            "Epoch 1/70\n",
            "14/14 [==============================] - 115s 2s/step - loss: 1.1911 - accuracy: 0.5291 - val_loss: 2.6674 - val_accuracy: 0.3095\n",
            "Epoch 2/70\n",
            "14/14 [==============================] - 16s 1s/step - loss: 0.6696 - accuracy: 0.7413 - val_loss: 7.2203 - val_accuracy: 0.3631\n",
            "Epoch 3/70\n",
            "14/14 [==============================] - 17s 1s/step - loss: 0.5175 - accuracy: 0.7995 - val_loss: 22.3845 - val_accuracy: 0.3333\n",
            "Epoch 4/70\n",
            "14/14 [==============================] - 15s 1s/step - loss: 0.4453 - accuracy: 0.8135 - val_loss: 19.1328 - val_accuracy: 0.4167\n",
            "Epoch 5/70\n",
            "14/14 [==============================] - 15s 1s/step - loss: 0.2694 - accuracy: 0.8998 - val_loss: 10.9442 - val_accuracy: 0.3571\n",
            "Epoch 6/70\n",
            "14/14 [==============================] - 16s 1s/step - loss: 0.2398 - accuracy: 0.9114 - val_loss: 4.3724 - val_accuracy: 0.5952\n",
            "Epoch 7/70\n",
            "14/14 [==============================] - 15s 1s/step - loss: 0.2740 - accuracy: 0.9044 - val_loss: 7.1281 - val_accuracy: 0.4048\n",
            "Epoch 8/70\n",
            "14/14 [==============================] - 15s 1s/step - loss: 0.1812 - accuracy: 0.9394 - val_loss: 17.1477 - val_accuracy: 0.4107\n",
            "Epoch 9/70\n",
            "14/14 [==============================] - 15s 1s/step - loss: 0.1686 - accuracy: 0.9417 - val_loss: 3.5485 - val_accuracy: 0.6071\n",
            "Epoch 10/70\n",
            "14/14 [==============================] - 15s 1s/step - loss: 0.2261 - accuracy: 0.9161 - val_loss: 3.4791 - val_accuracy: 0.4524\n",
            "Epoch 11/70\n",
            "14/14 [==============================] - 15s 1s/step - loss: 0.2972 - accuracy: 0.8788 - val_loss: 7.2670 - val_accuracy: 0.4048\n",
            "Epoch 12/70\n",
            "14/14 [==============================] - 16s 1s/step - loss: 0.1767 - accuracy: 0.9394 - val_loss: 8.5848 - val_accuracy: 0.3631\n",
            "Epoch 13/70\n",
            "14/14 [==============================] - 16s 1s/step - loss: 0.1043 - accuracy: 0.9580 - val_loss: 4.6136 - val_accuracy: 0.5536\n",
            "Epoch 14/70\n",
            "14/14 [==============================] - 15s 1s/step - loss: 0.0641 - accuracy: 0.9767 - val_loss: 5.3182 - val_accuracy: 0.5476\n",
            "Epoch 15/70\n",
            "14/14 [==============================] - 16s 1s/step - loss: 0.0694 - accuracy: 0.9720 - val_loss: 2.6332 - val_accuracy: 0.7024\n",
            "Epoch 16/70\n",
            "14/14 [==============================] - 16s 1s/step - loss: 0.0561 - accuracy: 0.9860 - val_loss: 2.0499 - val_accuracy: 0.6905\n",
            "Epoch 17/70\n",
            "14/14 [==============================] - 15s 1s/step - loss: 0.0943 - accuracy: 0.9650 - val_loss: 3.6445 - val_accuracy: 0.5714\n",
            "Epoch 18/70\n",
            "14/14 [==============================] - 15s 1s/step - loss: 0.2747 - accuracy: 0.9138 - val_loss: 4.6320 - val_accuracy: 0.4940\n",
            "Epoch 19/70\n",
            "14/14 [==============================] - 15s 1s/step - loss: 0.2662 - accuracy: 0.9161 - val_loss: 2.5309 - val_accuracy: 0.5476\n",
            "Epoch 20/70\n",
            "14/14 [==============================] - 15s 1s/step - loss: 0.1148 - accuracy: 0.9627 - val_loss: 2.7652 - val_accuracy: 0.5774\n",
            "Epoch 21/70\n",
            "14/14 [==============================] - 15s 1s/step - loss: 0.1243 - accuracy: 0.9580 - val_loss: 3.2920 - val_accuracy: 0.5179\n",
            "Epoch 22/70\n",
            "14/14 [==============================] - 15s 1s/step - loss: 0.0887 - accuracy: 0.9720 - val_loss: 5.8949 - val_accuracy: 0.4583\n",
            "Epoch 23/70\n",
            "14/14 [==============================] - 17s 1s/step - loss: 0.1244 - accuracy: 0.9627 - val_loss: 2.4271 - val_accuracy: 0.5714\n",
            "Epoch 24/70\n",
            "14/14 [==============================] - 15s 1s/step - loss: 0.1327 - accuracy: 0.9604 - val_loss: 2.7911 - val_accuracy: 0.5536\n",
            "Epoch 25/70\n",
            "14/14 [==============================] - 16s 1s/step - loss: 0.0932 - accuracy: 0.9674 - val_loss: 2.0193 - val_accuracy: 0.5119\n",
            "Epoch 26/70\n",
            "14/14 [==============================] - 15s 1s/step - loss: 0.0777 - accuracy: 0.9767 - val_loss: 2.2082 - val_accuracy: 0.6429\n",
            "Epoch 27/70\n",
            "14/14 [==============================] - 17s 1s/step - loss: 0.0792 - accuracy: 0.9697 - val_loss: 1.6329 - val_accuracy: 0.5357\n",
            "Epoch 28/70\n",
            "14/14 [==============================] - 17s 1s/step - loss: 0.0970 - accuracy: 0.9697 - val_loss: 1.4994 - val_accuracy: 0.6488\n",
            "Epoch 29/70\n",
            "14/14 [==============================] - 17s 1s/step - loss: 0.1082 - accuracy: 0.9580 - val_loss: 1.5527 - val_accuracy: 0.6310\n",
            "Epoch 30/70\n",
            "14/14 [==============================] - 16s 1s/step - loss: 0.1459 - accuracy: 0.9417 - val_loss: 2.0946 - val_accuracy: 0.5952\n",
            "Epoch 31/70\n",
            "14/14 [==============================] - 15s 1s/step - loss: 0.1246 - accuracy: 0.9557 - val_loss: 2.6214 - val_accuracy: 0.5060\n",
            "Epoch 32/70\n",
            "14/14 [==============================] - 15s 1s/step - loss: 0.0398 - accuracy: 0.9860 - val_loss: 1.7326 - val_accuracy: 0.6250\n",
            "Epoch 33/70\n",
            "14/14 [==============================] - 15s 1s/step - loss: 0.0223 - accuracy: 0.9977 - val_loss: 1.6055 - val_accuracy: 0.6488\n",
            "Epoch 34/70\n",
            "14/14 [==============================] - 17s 1s/step - loss: 0.0339 - accuracy: 0.9883 - val_loss: 2.5984 - val_accuracy: 0.6190\n",
            "Epoch 35/70\n",
            "14/14 [==============================] - 16s 1s/step - loss: 0.0167 - accuracy: 0.9977 - val_loss: 1.3891 - val_accuracy: 0.7381\n",
            "Epoch 36/70\n",
            "14/14 [==============================] - 15s 1s/step - loss: 0.0188 - accuracy: 0.9907 - val_loss: 1.7125 - val_accuracy: 0.6964\n",
            "Epoch 37/70\n",
            "14/14 [==============================] - 15s 1s/step - loss: 0.0755 - accuracy: 0.9650 - val_loss: 1.4317 - val_accuracy: 0.6964\n",
            "Epoch 38/70\n",
            "14/14 [==============================] - 15s 1s/step - loss: 0.0512 - accuracy: 0.9837 - val_loss: 2.6150 - val_accuracy: 0.6071\n",
            "Epoch 39/70\n",
            "14/14 [==============================] - 18s 1s/step - loss: 0.0812 - accuracy: 0.9720 - val_loss: 1.2119 - val_accuracy: 0.6905\n",
            "Epoch 40/70\n",
            "14/14 [==============================] - 15s 1s/step - loss: 0.1102 - accuracy: 0.9627 - val_loss: 1.6081 - val_accuracy: 0.6667\n",
            "Epoch 41/70\n",
            "14/14 [==============================] - 15s 1s/step - loss: 0.1155 - accuracy: 0.9697 - val_loss: 1.3165 - val_accuracy: 0.7143\n",
            "Epoch 42/70\n",
            "14/14 [==============================] - 15s 1s/step - loss: 0.0542 - accuracy: 0.9767 - val_loss: 1.9975 - val_accuracy: 0.5536\n",
            "Epoch 43/70\n",
            "14/14 [==============================] - 16s 1s/step - loss: 0.0224 - accuracy: 0.9953 - val_loss: 1.4731 - val_accuracy: 0.6964\n",
            "Epoch 44/70\n",
            "14/14 [==============================] - 16s 1s/step - loss: 0.0116 - accuracy: 1.0000 - val_loss: 1.2840 - val_accuracy: 0.6845\n",
            "Epoch 45/70\n",
            "14/14 [==============================] - 15s 1s/step - loss: 0.0355 - accuracy: 0.9907 - val_loss: 3.4620 - val_accuracy: 0.5119\n",
            "Epoch 46/70\n",
            "14/14 [==============================] - 15s 1s/step - loss: 0.0329 - accuracy: 0.9883 - val_loss: 2.3015 - val_accuracy: 0.6071\n",
            "Epoch 47/70\n",
            "14/14 [==============================] - 16s 1s/step - loss: 0.0600 - accuracy: 0.9767 - val_loss: 1.7902 - val_accuracy: 0.6726\n",
            "Epoch 48/70\n",
            "14/14 [==============================] - 15s 1s/step - loss: 0.0454 - accuracy: 0.9790 - val_loss: 1.3280 - val_accuracy: 0.7500\n",
            "Epoch 49/70\n",
            "14/14 [==============================] - 15s 1s/step - loss: 0.0616 - accuracy: 0.9790 - val_loss: 2.9624 - val_accuracy: 0.4821\n",
            "Epoch 50/70\n",
            "14/14 [==============================] - 15s 1s/step - loss: 0.0668 - accuracy: 0.9814 - val_loss: 3.0195 - val_accuracy: 0.5536\n",
            "Epoch 51/70\n",
            "14/14 [==============================] - 15s 1s/step - loss: 0.1217 - accuracy: 0.9650 - val_loss: 2.5973 - val_accuracy: 0.5893\n",
            "Epoch 52/70\n",
            "14/14 [==============================] - 17s 1s/step - loss: 0.0794 - accuracy: 0.9674 - val_loss: 1.3750 - val_accuracy: 0.7024\n",
            "Epoch 53/70\n",
            "14/14 [==============================] - 15s 1s/step - loss: 0.0496 - accuracy: 0.9790 - val_loss: 2.7833 - val_accuracy: 0.6429\n",
            "Epoch 54/70\n",
            "14/14 [==============================] - 15s 1s/step - loss: 0.1128 - accuracy: 0.9580 - val_loss: 2.0795 - val_accuracy: 0.5952\n",
            "Epoch 55/70\n",
            "14/14 [==============================] - 15s 1s/step - loss: 0.0833 - accuracy: 0.9627 - val_loss: 4.4983 - val_accuracy: 0.4048\n",
            "Epoch 56/70\n",
            "14/14 [==============================] - 15s 1s/step - loss: 0.0865 - accuracy: 0.9720 - val_loss: 3.5111 - val_accuracy: 0.4643\n",
            "Epoch 57/70\n",
            "14/14 [==============================] - 16s 1s/step - loss: 0.0632 - accuracy: 0.9697 - val_loss: 7.2929 - val_accuracy: 0.4524\n",
            "Epoch 58/70\n",
            "14/14 [==============================] - 18s 1s/step - loss: 0.1484 - accuracy: 0.9487 - val_loss: 8.1976 - val_accuracy: 0.5060\n",
            "Epoch 59/70\n",
            "14/14 [==============================] - 19s 1s/step - loss: 0.1822 - accuracy: 0.9254 - val_loss: 2.6538 - val_accuracy: 0.6250\n",
            "Epoch 60/70\n",
            "14/14 [==============================] - 22s 2s/step - loss: 0.1202 - accuracy: 0.9580 - val_loss: 3.9665 - val_accuracy: 0.5417\n",
            "Epoch 61/70\n",
            "14/14 [==============================] - 23s 2s/step - loss: 0.1183 - accuracy: 0.9627 - val_loss: 3.2597 - val_accuracy: 0.5774\n",
            "Epoch 62/70\n",
            "14/14 [==============================] - 15s 1s/step - loss: 0.0935 - accuracy: 0.9674 - val_loss: 1.3645 - val_accuracy: 0.6607\n",
            "Epoch 63/70\n",
            "14/14 [==============================] - 16s 1s/step - loss: 0.0499 - accuracy: 0.9883 - val_loss: 1.3839 - val_accuracy: 0.7143\n",
            "Epoch 64/70\n",
            "14/14 [==============================] - 15s 1s/step - loss: 0.0228 - accuracy: 0.9953 - val_loss: 2.3191 - val_accuracy: 0.6131\n",
            "Epoch 65/70\n",
            "14/14 [==============================] - 16s 1s/step - loss: 0.0299 - accuracy: 0.9930 - val_loss: 1.0540 - val_accuracy: 0.7381\n",
            "Epoch 66/70\n",
            "14/14 [==============================] - 15s 1s/step - loss: 0.0422 - accuracy: 0.9860 - val_loss: 1.4657 - val_accuracy: 0.7024\n",
            "Epoch 67/70\n",
            "14/14 [==============================] - 17s 1s/step - loss: 0.0440 - accuracy: 0.9907 - val_loss: 1.3276 - val_accuracy: 0.7738\n",
            "Epoch 68/70\n",
            "14/14 [==============================] - 16s 1s/step - loss: 0.0174 - accuracy: 0.9953 - val_loss: 1.0611 - val_accuracy: 0.7857\n",
            "Epoch 69/70\n",
            "14/14 [==============================] - 15s 1s/step - loss: 0.0419 - accuracy: 0.9837 - val_loss: 2.1355 - val_accuracy: 0.6310\n",
            "Epoch 70/70\n",
            "14/14 [==============================] - 15s 1s/step - loss: 0.0308 - accuracy: 0.9883 - val_loss: 1.0640 - val_accuracy: 0.7857\n"
          ]
        }
      ]
    },
    {
      "cell_type": "code",
      "source": [
        "#on va faire du fine_tuning c'est à dire on va dire a notre modele que les couches\n",
        "#sont entrainables et on va definit un learni g rateentre les differents epochs\n",
        "model.trainable=True\n",
        "fine_tuning_at= 100\n",
        "\n",
        "for layer in model.layers[:fine_tuning_at]:\n",
        "  layer.trainable=False\n"
      ],
      "metadata": {
        "id": "IqQH0hLVZK0g"
      },
      "execution_count": 67,
      "outputs": []
    },
    {
      "cell_type": "code",
      "source": [
        "#notre modele sera entrainé sur x parametres\n",
        "model.compile(loss=\"categorical_crossentropy\",optimizer=\"adam\",metrics=['accuracy'])"
      ],
      "metadata": {
        "id": "8AoionyQZNGP"
      },
      "execution_count": 68,
      "outputs": []
    },
    {
      "cell_type": "code",
      "source": [
        "history_desnet_opt = model.fit(\n",
        "    train_set,\n",
        "    epochs=70,  # Corrected parameter name\n",
        "    validation_data=val_set)"
      ],
      "metadata": {
        "colab": {
          "base_uri": "https://localhost:8080/"
        },
        "id": "aGf17hH1ZPvV",
        "outputId": "4fc71f6f-867a-4632-bc1f-a87da87f05c7"
      },
      "execution_count": 71,
      "outputs": [
        {
          "output_type": "stream",
          "name": "stdout",
          "text": [
            "Epoch 1/70\n",
            "14/14 [==============================] - 15s 1s/step - loss: 0.1206 - accuracy: 0.9604 - val_loss: 1.0246 - val_accuracy: 0.7679\n",
            "Epoch 2/70\n",
            "14/14 [==============================] - 15s 1s/step - loss: 0.0942 - accuracy: 0.9697 - val_loss: 1.1377 - val_accuracy: 0.7500\n",
            "Epoch 3/70\n",
            "14/14 [==============================] - 14s 1s/step - loss: 0.1195 - accuracy: 0.9487 - val_loss: 1.1466 - val_accuracy: 0.7679\n",
            "Epoch 4/70\n",
            "14/14 [==============================] - 14s 1s/step - loss: 0.1315 - accuracy: 0.9580 - val_loss: 1.1175 - val_accuracy: 0.7679\n",
            "Epoch 5/70\n",
            "14/14 [==============================] - 14s 1s/step - loss: 0.1139 - accuracy: 0.9557 - val_loss: 1.0749 - val_accuracy: 0.7619\n",
            "Epoch 6/70\n",
            "14/14 [==============================] - 14s 1s/step - loss: 0.1243 - accuracy: 0.9627 - val_loss: 1.2186 - val_accuracy: 0.7500\n",
            "Epoch 7/70\n",
            "14/14 [==============================] - 14s 1s/step - loss: 0.1222 - accuracy: 0.9580 - val_loss: 1.0651 - val_accuracy: 0.7798\n",
            "Epoch 8/70\n",
            "14/14 [==============================] - 14s 1s/step - loss: 0.1393 - accuracy: 0.9557 - val_loss: 1.1031 - val_accuracy: 0.7738\n",
            "Epoch 9/70\n",
            "14/14 [==============================] - 14s 1s/step - loss: 0.1045 - accuracy: 0.9604 - val_loss: 1.0973 - val_accuracy: 0.7500\n",
            "Epoch 10/70\n",
            "14/14 [==============================] - 14s 1s/step - loss: 0.1211 - accuracy: 0.9627 - val_loss: 1.2619 - val_accuracy: 0.7440\n",
            "Epoch 11/70\n",
            "14/14 [==============================] - 14s 1s/step - loss: 0.1278 - accuracy: 0.9580 - val_loss: 1.1986 - val_accuracy: 0.7619\n",
            "Epoch 12/70\n",
            "14/14 [==============================] - 14s 1s/step - loss: 0.1313 - accuracy: 0.9604 - val_loss: 1.1350 - val_accuracy: 0.7560\n",
            "Epoch 13/70\n",
            "14/14 [==============================] - 14s 1s/step - loss: 0.1127 - accuracy: 0.9580 - val_loss: 1.1852 - val_accuracy: 0.7679\n",
            "Epoch 14/70\n",
            "14/14 [==============================] - 14s 1s/step - loss: 0.0872 - accuracy: 0.9627 - val_loss: 1.0678 - val_accuracy: 0.7798\n",
            "Epoch 15/70\n",
            "14/14 [==============================] - 14s 1s/step - loss: 0.1208 - accuracy: 0.9580 - val_loss: 1.1695 - val_accuracy: 0.7321\n",
            "Epoch 16/70\n",
            "14/14 [==============================] - 14s 1s/step - loss: 0.1046 - accuracy: 0.9650 - val_loss: 1.0463 - val_accuracy: 0.7798\n",
            "Epoch 17/70\n",
            "14/14 [==============================] - 14s 1s/step - loss: 0.1334 - accuracy: 0.9510 - val_loss: 1.1276 - val_accuracy: 0.7619\n",
            "Epoch 18/70\n",
            "14/14 [==============================] - 14s 1s/step - loss: 0.1170 - accuracy: 0.9557 - val_loss: 1.0307 - val_accuracy: 0.7857\n",
            "Epoch 19/70\n",
            "14/14 [==============================] - 14s 1s/step - loss: 0.1178 - accuracy: 0.9557 - val_loss: 1.2089 - val_accuracy: 0.7738\n",
            "Epoch 20/70\n",
            "14/14 [==============================] - 14s 1s/step - loss: 0.1045 - accuracy: 0.9674 - val_loss: 1.1300 - val_accuracy: 0.7798\n",
            "Epoch 21/70\n",
            "14/14 [==============================] - 14s 1s/step - loss: 0.1092 - accuracy: 0.9580 - val_loss: 1.1437 - val_accuracy: 0.7917\n",
            "Epoch 22/70\n",
            "14/14 [==============================] - 14s 1s/step - loss: 0.0923 - accuracy: 0.9627 - val_loss: 1.2013 - val_accuracy: 0.7560\n",
            "Epoch 23/70\n",
            "14/14 [==============================] - 14s 1s/step - loss: 0.1272 - accuracy: 0.9557 - val_loss: 1.1815 - val_accuracy: 0.7619\n",
            "Epoch 24/70\n",
            "14/14 [==============================] - 14s 1s/step - loss: 0.1130 - accuracy: 0.9534 - val_loss: 1.1651 - val_accuracy: 0.7738\n",
            "Epoch 25/70\n",
            "14/14 [==============================] - 14s 1s/step - loss: 0.1245 - accuracy: 0.9580 - val_loss: 1.1618 - val_accuracy: 0.7619\n",
            "Epoch 26/70\n",
            "14/14 [==============================] - 14s 1s/step - loss: 0.1329 - accuracy: 0.9557 - val_loss: 1.1564 - val_accuracy: 0.7560\n",
            "Epoch 27/70\n",
            "14/14 [==============================] - 14s 1s/step - loss: 0.1055 - accuracy: 0.9580 - val_loss: 1.1948 - val_accuracy: 0.7440\n",
            "Epoch 28/70\n",
            "14/14 [==============================] - 14s 1s/step - loss: 0.0945 - accuracy: 0.9744 - val_loss: 1.0439 - val_accuracy: 0.7857\n",
            "Epoch 29/70\n",
            "14/14 [==============================] - 14s 1s/step - loss: 0.1268 - accuracy: 0.9510 - val_loss: 1.1185 - val_accuracy: 0.7976\n",
            "Epoch 30/70\n",
            "14/14 [==============================] - 14s 997ms/step - loss: 0.1206 - accuracy: 0.9674 - val_loss: 1.0703 - val_accuracy: 0.7798\n",
            "Epoch 31/70\n",
            "14/14 [==============================] - 16s 1s/step - loss: 0.1201 - accuracy: 0.9557 - val_loss: 1.0966 - val_accuracy: 0.7679\n",
            "Epoch 32/70\n",
            "14/14 [==============================] - 15s 1s/step - loss: 0.1062 - accuracy: 0.9697 - val_loss: 1.2056 - val_accuracy: 0.7619\n",
            "Epoch 33/70\n",
            "14/14 [==============================] - 14s 1s/step - loss: 0.0925 - accuracy: 0.9650 - val_loss: 1.1951 - val_accuracy: 0.7560\n",
            "Epoch 34/70\n",
            "14/14 [==============================] - 14s 1s/step - loss: 0.1196 - accuracy: 0.9604 - val_loss: 1.1584 - val_accuracy: 0.7619\n",
            "Epoch 35/70\n",
            "14/14 [==============================] - 14s 1s/step - loss: 0.1000 - accuracy: 0.9650 - val_loss: 1.1696 - val_accuracy: 0.7500\n",
            "Epoch 36/70\n",
            "14/14 [==============================] - 14s 1s/step - loss: 0.0967 - accuracy: 0.9604 - val_loss: 1.2595 - val_accuracy: 0.7500\n",
            "Epoch 37/70\n",
            "14/14 [==============================] - 14s 1s/step - loss: 0.1080 - accuracy: 0.9604 - val_loss: 1.0860 - val_accuracy: 0.7679\n",
            "Epoch 38/70\n",
            "14/14 [==============================] - 14s 1s/step - loss: 0.1052 - accuracy: 0.9510 - val_loss: 1.0881 - val_accuracy: 0.7619\n",
            "Epoch 39/70\n",
            "14/14 [==============================] - 14s 1s/step - loss: 0.1316 - accuracy: 0.9557 - val_loss: 1.1755 - val_accuracy: 0.7619\n",
            "Epoch 40/70\n",
            "14/14 [==============================] - 15s 1s/step - loss: 0.1050 - accuracy: 0.9627 - val_loss: 1.1842 - val_accuracy: 0.7738\n",
            "Epoch 41/70\n",
            "14/14 [==============================] - 14s 1s/step - loss: 0.1055 - accuracy: 0.9580 - val_loss: 1.1069 - val_accuracy: 0.7738\n",
            "Epoch 42/70\n",
            "14/14 [==============================] - 14s 1s/step - loss: 0.1089 - accuracy: 0.9580 - val_loss: 1.0783 - val_accuracy: 0.7917\n",
            "Epoch 43/70\n",
            "14/14 [==============================] - 14s 1s/step - loss: 0.1401 - accuracy: 0.9557 - val_loss: 1.1672 - val_accuracy: 0.7500\n",
            "Epoch 44/70\n",
            "14/14 [==============================] - 14s 1s/step - loss: 0.1143 - accuracy: 0.9580 - val_loss: 1.1948 - val_accuracy: 0.7798\n",
            "Epoch 45/70\n",
            "14/14 [==============================] - 14s 1s/step - loss: 0.1141 - accuracy: 0.9604 - val_loss: 1.2142 - val_accuracy: 0.7917\n",
            "Epoch 46/70\n",
            "14/14 [==============================] - 14s 1s/step - loss: 0.1167 - accuracy: 0.9441 - val_loss: 1.1237 - val_accuracy: 0.7560\n",
            "Epoch 47/70\n",
            "14/14 [==============================] - 14s 1s/step - loss: 0.0948 - accuracy: 0.9720 - val_loss: 1.1562 - val_accuracy: 0.7500\n",
            "Epoch 48/70\n",
            "14/14 [==============================] - 14s 1s/step - loss: 0.0997 - accuracy: 0.9650 - val_loss: 1.1492 - val_accuracy: 0.7798\n",
            "Epoch 49/70\n",
            "14/14 [==============================] - 14s 1s/step - loss: 0.1167 - accuracy: 0.9650 - val_loss: 1.1209 - val_accuracy: 0.7798\n",
            "Epoch 50/70\n",
            "14/14 [==============================] - 14s 1s/step - loss: 0.1077 - accuracy: 0.9580 - val_loss: 1.1954 - val_accuracy: 0.7440\n",
            "Epoch 51/70\n",
            "14/14 [==============================] - 14s 1s/step - loss: 0.1287 - accuracy: 0.9580 - val_loss: 1.1153 - val_accuracy: 0.7917\n",
            "Epoch 52/70\n",
            "14/14 [==============================] - 14s 1s/step - loss: 0.0971 - accuracy: 0.9627 - val_loss: 1.1296 - val_accuracy: 0.7500\n",
            "Epoch 53/70\n",
            "14/14 [==============================] - 14s 1s/step - loss: 0.1056 - accuracy: 0.9674 - val_loss: 1.0981 - val_accuracy: 0.7798\n",
            "Epoch 54/70\n",
            "14/14 [==============================] - 14s 1s/step - loss: 0.0991 - accuracy: 0.9604 - val_loss: 1.3070 - val_accuracy: 0.7440\n",
            "Epoch 55/70\n",
            "14/14 [==============================] - 14s 1s/step - loss: 0.1049 - accuracy: 0.9674 - val_loss: 1.1850 - val_accuracy: 0.7262\n",
            "Epoch 56/70\n",
            "14/14 [==============================] - 14s 1s/step - loss: 0.0928 - accuracy: 0.9650 - val_loss: 1.2148 - val_accuracy: 0.7440\n",
            "Epoch 57/70\n",
            "14/14 [==============================] - 14s 1s/step - loss: 0.1041 - accuracy: 0.9627 - val_loss: 1.1007 - val_accuracy: 0.7560\n",
            "Epoch 58/70\n",
            "14/14 [==============================] - 14s 1s/step - loss: 0.1176 - accuracy: 0.9604 - val_loss: 1.2694 - val_accuracy: 0.7500\n",
            "Epoch 59/70\n",
            "14/14 [==============================] - 14s 1s/step - loss: 0.1286 - accuracy: 0.9534 - val_loss: 1.1604 - val_accuracy: 0.7738\n",
            "Epoch 60/70\n",
            "14/14 [==============================] - 14s 1s/step - loss: 0.1242 - accuracy: 0.9510 - val_loss: 1.1218 - val_accuracy: 0.7857\n",
            "Epoch 61/70\n",
            "14/14 [==============================] - 14s 1s/step - loss: 0.0953 - accuracy: 0.9674 - val_loss: 1.1153 - val_accuracy: 0.7738\n",
            "Epoch 62/70\n",
            "14/14 [==============================] - 14s 1s/step - loss: 0.1289 - accuracy: 0.9580 - val_loss: 1.0953 - val_accuracy: 0.7798\n",
            "Epoch 63/70\n",
            "14/14 [==============================] - 14s 1s/step - loss: 0.0954 - accuracy: 0.9604 - val_loss: 1.1665 - val_accuracy: 0.7560\n",
            "Epoch 64/70\n",
            "14/14 [==============================] - 20s 1s/step - loss: 0.1310 - accuracy: 0.9557 - val_loss: 1.1839 - val_accuracy: 0.7560\n",
            "Epoch 65/70\n",
            "14/14 [==============================] - 14s 1s/step - loss: 0.1184 - accuracy: 0.9510 - val_loss: 1.1565 - val_accuracy: 0.7679\n",
            "Epoch 66/70\n",
            "14/14 [==============================] - 14s 1s/step - loss: 0.1359 - accuracy: 0.9534 - val_loss: 1.1839 - val_accuracy: 0.7440\n",
            "Epoch 67/70\n",
            "14/14 [==============================] - 14s 1s/step - loss: 0.1302 - accuracy: 0.9487 - val_loss: 1.2275 - val_accuracy: 0.7381\n",
            "Epoch 68/70\n",
            "14/14 [==============================] - 14s 1s/step - loss: 0.1228 - accuracy: 0.9534 - val_loss: 1.0924 - val_accuracy: 0.7738\n",
            "Epoch 69/70\n",
            "14/14 [==============================] - 14s 1s/step - loss: 0.1208 - accuracy: 0.9580 - val_loss: 1.2384 - val_accuracy: 0.7440\n",
            "Epoch 70/70\n",
            "14/14 [==============================] - 17s 1s/step - loss: 0.1337 - accuracy: 0.9441 - val_loss: 1.1735 - val_accuracy: 0.7738\n"
          ]
        }
      ]
    },
    {
      "cell_type": "markdown",
      "source": [
        "**Nous constatons, que nous avons de bons résutats en utilisant le densenet comparaiment aux autres modèles. Bien que le fine_tuning n'améliore pas les résultats du modèle. Nous avons 0.77 en accuracy de validation avec ce modèle.**"
      ],
      "metadata": {
        "id": "3GyF_VQqBbZP"
      }
    },
    {
      "cell_type": "markdown",
      "source": [
        "**4. SYNTHESE ET CHOIX DU MODELE POUR LA BASE TEST**"
      ],
      "metadata": {
        "id": "srlGs35yeGsJ"
      }
    },
    {
      "cell_type": "markdown",
      "source": [
        "**Les 4 modèles qu’on a mis en place ont chacun un défaut, tantôt on est en sur\n",
        "apprentissage tantôt en sous apprentissage. Cela pourrait s’expliquer par la faible\n",
        "quantité de données à notre disposition, 429 donnée d’apprentissage. Ce qui est très faible quand on sait à quel point les modèles de deep learning nécessitent un très grand de données.\n",
        "Maintenant il s’agit de choisir le meilleur modèle à notre disposition. Pour cela on va se baser les scores de validati car son accuracy sur l'échantillon de validation est le plus faible soit 0.51, ce qui est très\n",
        "faible. Toutefois, nous avons obtenus de très bons résultats sur l'échantillon de validation avec  le modèle Densenet. On choisira le\n",
        "Densenet car il a un score de 0.77 sur l’ensemble de validation.**"
      ],
      "metadata": {
        "id": "qDixqaeqCo7g"
      }
    },
    {
      "cell_type": "markdown",
      "source": [
        "**APPLICATION SUR L 'ECHANTILLON TEST**"
      ],
      "metadata": {
        "id": "WIG46qDZDrZj"
      }
    },
    {
      "cell_type": "code",
      "source": [
        "test_dir=tf.keras.utils.get_file(\n",
        "    \"test\",\n",
        "    \"https://drive.google.com/MyDrive/test-20230823T113737Z-001/test\",extract=False)\n",
        "test_dir=pathlib.Path(\"/content/drive/MyDrive/test-20230823T113737Z-001/test\")\n",
        "print(test_dir)\n",
        "print(os.path.abspath(test_dir))\n",
        "\n",
        "actors_images_dict_test={\n",
        "    \"keira\":list(test_dir.glob(\"keira/*\")),\n",
        "    \"nathalie\":list(test_dir.glob(\"nathalie/*\")),\n",
        "    \"others\":list(test_dir.glob(\"others/*\"))\n",
        "}\n",
        "#redimensionnement\n",
        "X_test=[]\n",
        "y_test=[]\n",
        "\n",
        "for actor_name, images in actors_images_dict_test.items():\n",
        "  for image in images:\n",
        "    img=cv2.imread(str(image))\n",
        "    resized_img=cv2.resize(img, (224,224))\n",
        "    X_test.append(resized_img)\n",
        "    y_test.append(actors_labels_dict[actor_name])\n"
      ],
      "metadata": {
        "colab": {
          "base_uri": "https://localhost:8080/"
        },
        "id": "YfRIOo9jjbVL",
        "outputId": "44c14297-6bb1-4071-e161-bc0a6eccb370"
      },
      "execution_count": 88,
      "outputs": [
        {
          "output_type": "stream",
          "name": "stdout",
          "text": [
            "Downloading data from https://drive.google.com/MyDrive/test-20230823T113737Z-001/test\n",
            "95899/95899 [==============================] - 0s 0us/step\n",
            "/content/drive/MyDrive/test-20230823T113737Z-001/test\n",
            "/content/drive/MyDrive/test-20230823T113737Z-001/test\n"
          ]
        }
      ]
    },
    {
      "cell_type": "code",
      "source": [
        "test_data=tf.keras.preprocessing.image_dataset_from_directory(\n",
        "    test_dir,\n",
        "    seed=42,\n",
        "    image_size=(img_height,img_width),\n",
        "    batch_size=batch_size)\n",
        "\n",
        "\n",
        "test_datagen=ImageDataGenerator(\n",
        "  featurewise_center=True,\n",
        "  featurewise_std_normalization=True,\n",
        "  rotation_range=0.4,\n",
        "  width_shift_range=0.1,\n",
        "  height_shift_range=0.1,\n",
        "  horizontal_flip=True)\n",
        "\n",
        "test_set=test_datagen.flow_from_directory(test_dir,target_size=(224,224))\n"
      ],
      "metadata": {
        "colab": {
          "base_uri": "https://localhost:8080/"
        },
        "id": "6rJqqLwbmD4e",
        "outputId": "a932b0a0-4864-4ee8-9790-28f079c0fb6e"
      },
      "execution_count": 89,
      "outputs": [
        {
          "output_type": "stream",
          "name": "stdout",
          "text": [
            "Found 168 files belonging to 3 classes.\n",
            "Found 168 images belonging to 3 classes.\n"
          ]
        }
      ]
    },
    {
      "cell_type": "code",
      "source": [
        "# Évaluation du modèle sur l'ensemble de test généré par ImageDataGenerator\n",
        "test_loss, test_accuracy = model.evaluate(test_set)\n",
        "\n",
        "# Afficher les résultats\n",
        "print(f'Loss on test set: {test_loss}')\n",
        "print(f'Accuracy on test set: {test_accuracy}')\n"
      ],
      "metadata": {
        "colab": {
          "base_uri": "https://localhost:8080/"
        },
        "id": "jsG8WeU-nCBB",
        "outputId": "3bffebdf-41cd-4589-a50f-849bc6e667f3"
      },
      "execution_count": 90,
      "outputs": [
        {
          "output_type": "stream",
          "name": "stdout",
          "text": [
            "6/6 [==============================] - 4s 560ms/step - loss: 1.5990 - accuracy: 0.6369\n",
            "Loss on test set: 1.5989630222320557\n",
            "Accuracy on test set: 0.636904776096344\n"
          ]
        }
      ]
    },
    {
      "cell_type": "markdown",
      "source": [
        "**5. CONCLUSION**"
      ],
      "metadata": {
        "id": "tjMDOIf4DzIt"
      }
    },
    {
      "cell_type": "markdown",
      "source": [
        "Dans cette étude, il était question de mettre en place un modèle de Deep Learning pour classifier les images de trois actrices: Keira Knightley, Nathalie Portman et une classe\n",
        "pour les autres actrices. Pour celà, on a pu implémenté un modèle \"from scratch\" et trois modèles par transfert learning à voir le Resnet, le VGG-16 et le Densenet. On a finalement retenu le\n",
        "Densenet qui a un accuracy de O.77 sur l'ensemble de validation.\n",
        "Au terme de notre étude et vu la quantité de données à notre disposition, on est plutôt satisfait des performances de notre modèle même si on aurait pu faire mieux. Le fait qu'on ait pas beaucoup de donnée influence la performance des modèles car ces derniers\n",
        "apprennent parfois des bruits ou des détails indésirables des données d'entrainement, à tel point que cela a un impact négatif sur les performances du modèle sur de nouvelles\n",
        "données.\n",
        "Enfin, appliquant ce modèle aux données de la base test, nous avons une performance finale de 0.64 qui est acceptable."
      ],
      "metadata": {
        "id": "O4qlI5KUD9Wu"
      }
    }
  ],
  "metadata": {
    "accelerator": "GPU",
    "colab": {
      "provenance": [],
      "gpuType": "T4"
    },
    "kernelspec": {
      "display_name": "Python 3",
      "name": "python3"
    },
    "language_info": {
      "name": "python"
    }
  },
  "nbformat": 4,
  "nbformat_minor": 0
}